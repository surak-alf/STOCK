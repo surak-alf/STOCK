{
  "cells": [
    {
      "cell_type": "code",
      "execution_count": 1,
      "metadata": {
        "id": "MQij8trIN6CZ"
      },
      "outputs": [
        {
          "name": "stderr",
          "output_type": "stream",
          "text": [
            "c:\\Users\\Maintenant prêt\\Desktop\\STOCK\\env\\Lib\\site-packages\\tqdm\\auto.py:21: TqdmWarning: IProgress not found. Please update jupyter and ipywidgets. See https://ipywidgets.readthedocs.io/en/stable/user_install.html\n",
            "  from .autonotebook import tqdm as notebook_tqdm\n",
            "Importing plotly failed. Interactive plots will not work.\n"
          ]
        }
      ],
      "source": [
        "import pandas as pd\n",
        "import numpy as np\n",
        "import matplotlib.pyplot as plt\n",
        "import seaborn as sns\n",
        "from prophet import Prophet\n",
        "from statsmodels.tsa.stattools import adfuller\n",
        "from statsmodels.tsa.arima.model import ARIMA\n",
        "from tensorflow.keras.models import Sequential\n",
        "from tensorflow.keras.layers import LSTM, Dense\n",
        "from sklearn.preprocessing import MinMaxScaler\n",
        "from sklearn.metrics import mean_absolute_error, mean_squared_error"
      ]
    },
    {
      "cell_type": "code",
      "execution_count": 2,
      "metadata": {
        "id": "wNNlKZLtODiV"
      },
      "outputs": [],
      "source": [
        "data = pd.read_csv(r'C:\\Users\\Maintenant prêt\\Desktop\\STOCK\\Data\\baba_long_data.csv')"
      ]
    },
    {
      "cell_type": "code",
      "execution_count": 3,
      "metadata": {
        "colab": {
          "base_uri": "https://localhost:8080/",
          "height": 424
        },
        "id": "tKgl-HdhONTv",
        "outputId": "40e1b90a-e7a0-46b6-ffe0-640341317e9a"
      },
      "outputs": [
        {
          "data": {
            "text/html": [
              "<div>\n",
              "<style scoped>\n",
              "    .dataframe tbody tr th:only-of-type {\n",
              "        vertical-align: middle;\n",
              "    }\n",
              "\n",
              "    .dataframe tbody tr th {\n",
              "        vertical-align: top;\n",
              "    }\n",
              "\n",
              "    .dataframe thead th {\n",
              "        text-align: right;\n",
              "    }\n",
              "</style>\n",
              "<table border=\"1\" class=\"dataframe\">\n",
              "  <thead>\n",
              "    <tr style=\"text-align: right;\">\n",
              "      <th></th>\n",
              "      <th>Date</th>\n",
              "      <th>Close</th>\n",
              "      <th>High</th>\n",
              "      <th>Low</th>\n",
              "      <th>Open</th>\n",
              "      <th>Volume</th>\n",
              "    </tr>\n",
              "  </thead>\n",
              "  <tbody>\n",
              "    <tr>\n",
              "      <th>0</th>\n",
              "      <td>2014-09-19</td>\n",
              "      <td>90.673950</td>\n",
              "      <td>96.284936</td>\n",
              "      <td>86.868906</td>\n",
              "      <td>89.524709</td>\n",
              "      <td>271879400</td>\n",
              "    </tr>\n",
              "    <tr>\n",
              "      <th>1</th>\n",
              "      <td>2014-09-22</td>\n",
              "      <td>86.810966</td>\n",
              "      <td>89.766149</td>\n",
              "      <td>86.434326</td>\n",
              "      <td>89.524712</td>\n",
              "      <td>66657800</td>\n",
              "    </tr>\n",
              "    <tr>\n",
              "      <th>2</th>\n",
              "      <td>2014-09-23</td>\n",
              "      <td>84.184128</td>\n",
              "      <td>87.380754</td>\n",
              "      <td>83.652972</td>\n",
              "      <td>85.893503</td>\n",
              "      <td>39009800</td>\n",
              "    </tr>\n",
              "    <tr>\n",
              "      <th>3</th>\n",
              "      <td>2014-09-24</td>\n",
              "      <td>87.467667</td>\n",
              "      <td>87.467667</td>\n",
              "      <td>84.232417</td>\n",
              "      <td>85.439600</td>\n",
              "      <td>32088000</td>\n",
              "    </tr>\n",
              "    <tr>\n",
              "      <th>4</th>\n",
              "      <td>2014-09-25</td>\n",
              "      <td>85.874191</td>\n",
              "      <td>88.365819</td>\n",
              "      <td>85.468579</td>\n",
              "      <td>87.969860</td>\n",
              "      <td>28598000</td>\n",
              "    </tr>\n",
              "    <tr>\n",
              "      <th>...</th>\n",
              "      <td>...</td>\n",
              "      <td>...</td>\n",
              "      <td>...</td>\n",
              "      <td>...</td>\n",
              "      <td>...</td>\n",
              "      <td>...</td>\n",
              "    </tr>\n",
              "    <tr>\n",
              "      <th>2601</th>\n",
              "      <td>2025-01-23</td>\n",
              "      <td>86.099998</td>\n",
              "      <td>86.199997</td>\n",
              "      <td>84.959999</td>\n",
              "      <td>85.800003</td>\n",
              "      <td>9225600</td>\n",
              "    </tr>\n",
              "    <tr>\n",
              "      <th>2602</th>\n",
              "      <td>2025-01-24</td>\n",
              "      <td>89.139999</td>\n",
              "      <td>89.190002</td>\n",
              "      <td>86.480003</td>\n",
              "      <td>86.709999</td>\n",
              "      <td>18791000</td>\n",
              "    </tr>\n",
              "    <tr>\n",
              "      <th>2603</th>\n",
              "      <td>2025-01-27</td>\n",
              "      <td>89.989998</td>\n",
              "      <td>91.430000</td>\n",
              "      <td>89.220001</td>\n",
              "      <td>90.589996</td>\n",
              "      <td>25999800</td>\n",
              "    </tr>\n",
              "    <tr>\n",
              "      <th>2604</th>\n",
              "      <td>2025-01-28</td>\n",
              "      <td>96.029999</td>\n",
              "      <td>96.430000</td>\n",
              "      <td>89.900002</td>\n",
              "      <td>90.940002</td>\n",
              "      <td>31296300</td>\n",
              "    </tr>\n",
              "    <tr>\n",
              "      <th>2605</th>\n",
              "      <td>2025-01-29</td>\n",
              "      <td>96.720001</td>\n",
              "      <td>101.279999</td>\n",
              "      <td>96.449997</td>\n",
              "      <td>99.389999</td>\n",
              "      <td>74962200</td>\n",
              "    </tr>\n",
              "  </tbody>\n",
              "</table>\n",
              "<p>2606 rows × 6 columns</p>\n",
              "</div>"
            ],
            "text/plain": [
              "            Date      Close        High        Low       Open     Volume\n",
              "0     2014-09-19  90.673950   96.284936  86.868906  89.524709  271879400\n",
              "1     2014-09-22  86.810966   89.766149  86.434326  89.524712   66657800\n",
              "2     2014-09-23  84.184128   87.380754  83.652972  85.893503   39009800\n",
              "3     2014-09-24  87.467667   87.467667  84.232417  85.439600   32088000\n",
              "4     2014-09-25  85.874191   88.365819  85.468579  87.969860   28598000\n",
              "...          ...        ...         ...        ...        ...        ...\n",
              "2601  2025-01-23  86.099998   86.199997  84.959999  85.800003    9225600\n",
              "2602  2025-01-24  89.139999   89.190002  86.480003  86.709999   18791000\n",
              "2603  2025-01-27  89.989998   91.430000  89.220001  90.589996   25999800\n",
              "2604  2025-01-28  96.029999   96.430000  89.900002  90.940002   31296300\n",
              "2605  2025-01-29  96.720001  101.279999  96.449997  99.389999   74962200\n",
              "\n",
              "[2606 rows x 6 columns]"
            ]
          },
          "execution_count": 3,
          "metadata": {},
          "output_type": "execute_result"
        }
      ],
      "source": [
        "data"
      ]
    },
    {
      "cell_type": "code",
      "execution_count": 4,
      "metadata": {
        "id": "F0jH3qyeOOx2"
      },
      "outputs": [],
      "source": [
        "data['Date'] = pd.to_datetime(data['Date'])\n",
        "data.set_index('Date', inplace=True)"
      ]
    },
    {
      "cell_type": "code",
      "execution_count": 5,
      "metadata": {
        "colab": {
          "base_uri": "https://localhost:8080/",
          "height": 455
        },
        "id": "b16oH163OTzC",
        "outputId": "a43a9db4-5f05-400c-9bd9-38032609fa6e"
      },
      "outputs": [
        {
          "data": {
            "text/html": [
              "<div>\n",
              "<style scoped>\n",
              "    .dataframe tbody tr th:only-of-type {\n",
              "        vertical-align: middle;\n",
              "    }\n",
              "\n",
              "    .dataframe tbody tr th {\n",
              "        vertical-align: top;\n",
              "    }\n",
              "\n",
              "    .dataframe thead th {\n",
              "        text-align: right;\n",
              "    }\n",
              "</style>\n",
              "<table border=\"1\" class=\"dataframe\">\n",
              "  <thead>\n",
              "    <tr style=\"text-align: right;\">\n",
              "      <th></th>\n",
              "      <th>Close</th>\n",
              "      <th>High</th>\n",
              "      <th>Low</th>\n",
              "      <th>Open</th>\n",
              "      <th>Volume</th>\n",
              "    </tr>\n",
              "    <tr>\n",
              "      <th>Date</th>\n",
              "      <th></th>\n",
              "      <th></th>\n",
              "      <th></th>\n",
              "      <th></th>\n",
              "      <th></th>\n",
              "    </tr>\n",
              "  </thead>\n",
              "  <tbody>\n",
              "    <tr>\n",
              "      <th>2014-09-19</th>\n",
              "      <td>90.673950</td>\n",
              "      <td>96.284936</td>\n",
              "      <td>86.868906</td>\n",
              "      <td>89.524709</td>\n",
              "      <td>271879400</td>\n",
              "    </tr>\n",
              "    <tr>\n",
              "      <th>2014-09-22</th>\n",
              "      <td>86.810966</td>\n",
              "      <td>89.766149</td>\n",
              "      <td>86.434326</td>\n",
              "      <td>89.524712</td>\n",
              "      <td>66657800</td>\n",
              "    </tr>\n",
              "    <tr>\n",
              "      <th>2014-09-23</th>\n",
              "      <td>84.184128</td>\n",
              "      <td>87.380754</td>\n",
              "      <td>83.652972</td>\n",
              "      <td>85.893503</td>\n",
              "      <td>39009800</td>\n",
              "    </tr>\n",
              "    <tr>\n",
              "      <th>2014-09-24</th>\n",
              "      <td>87.467667</td>\n",
              "      <td>87.467667</td>\n",
              "      <td>84.232417</td>\n",
              "      <td>85.439600</td>\n",
              "      <td>32088000</td>\n",
              "    </tr>\n",
              "    <tr>\n",
              "      <th>2014-09-25</th>\n",
              "      <td>85.874191</td>\n",
              "      <td>88.365819</td>\n",
              "      <td>85.468579</td>\n",
              "      <td>87.969860</td>\n",
              "      <td>28598000</td>\n",
              "    </tr>\n",
              "    <tr>\n",
              "      <th>...</th>\n",
              "      <td>...</td>\n",
              "      <td>...</td>\n",
              "      <td>...</td>\n",
              "      <td>...</td>\n",
              "      <td>...</td>\n",
              "    </tr>\n",
              "    <tr>\n",
              "      <th>2025-01-23</th>\n",
              "      <td>86.099998</td>\n",
              "      <td>86.199997</td>\n",
              "      <td>84.959999</td>\n",
              "      <td>85.800003</td>\n",
              "      <td>9225600</td>\n",
              "    </tr>\n",
              "    <tr>\n",
              "      <th>2025-01-24</th>\n",
              "      <td>89.139999</td>\n",
              "      <td>89.190002</td>\n",
              "      <td>86.480003</td>\n",
              "      <td>86.709999</td>\n",
              "      <td>18791000</td>\n",
              "    </tr>\n",
              "    <tr>\n",
              "      <th>2025-01-27</th>\n",
              "      <td>89.989998</td>\n",
              "      <td>91.430000</td>\n",
              "      <td>89.220001</td>\n",
              "      <td>90.589996</td>\n",
              "      <td>25999800</td>\n",
              "    </tr>\n",
              "    <tr>\n",
              "      <th>2025-01-28</th>\n",
              "      <td>96.029999</td>\n",
              "      <td>96.430000</td>\n",
              "      <td>89.900002</td>\n",
              "      <td>90.940002</td>\n",
              "      <td>31296300</td>\n",
              "    </tr>\n",
              "    <tr>\n",
              "      <th>2025-01-29</th>\n",
              "      <td>96.720001</td>\n",
              "      <td>101.279999</td>\n",
              "      <td>96.449997</td>\n",
              "      <td>99.389999</td>\n",
              "      <td>74962200</td>\n",
              "    </tr>\n",
              "  </tbody>\n",
              "</table>\n",
              "<p>2606 rows × 5 columns</p>\n",
              "</div>"
            ],
            "text/plain": [
              "                Close        High        Low       Open     Volume\n",
              "Date                                                              \n",
              "2014-09-19  90.673950   96.284936  86.868906  89.524709  271879400\n",
              "2014-09-22  86.810966   89.766149  86.434326  89.524712   66657800\n",
              "2014-09-23  84.184128   87.380754  83.652972  85.893503   39009800\n",
              "2014-09-24  87.467667   87.467667  84.232417  85.439600   32088000\n",
              "2014-09-25  85.874191   88.365819  85.468579  87.969860   28598000\n",
              "...               ...         ...        ...        ...        ...\n",
              "2025-01-23  86.099998   86.199997  84.959999  85.800003    9225600\n",
              "2025-01-24  89.139999   89.190002  86.480003  86.709999   18791000\n",
              "2025-01-27  89.989998   91.430000  89.220001  90.589996   25999800\n",
              "2025-01-28  96.029999   96.430000  89.900002  90.940002   31296300\n",
              "2025-01-29  96.720001  101.279999  96.449997  99.389999   74962200\n",
              "\n",
              "[2606 rows x 5 columns]"
            ]
          },
          "execution_count": 5,
          "metadata": {},
          "output_type": "execute_result"
        }
      ],
      "source": [
        "data"
      ]
    },
    {
      "cell_type": "code",
      "execution_count": 6,
      "metadata": {
        "colab": {
          "base_uri": "https://localhost:8080/"
        },
        "id": "xSTLp4227ygf",
        "outputId": "7ab01523-6369-4885-a77e-cce06e5ba03e"
      },
      "outputs": [
        {
          "name": "stdout",
          "output_type": "stream",
          "text": [
            "None\n"
          ]
        }
      ],
      "source": [
        "# check the frequency\n",
        "print(data.index.freq)"
      ]
    },
    {
      "cell_type": "code",
      "execution_count": 7,
      "metadata": {
        "id": "eDG043rm8cBq"
      },
      "outputs": [],
      "source": [
        "# Set the frequency to daily\n",
        "data = data.resample('D').ffill()"
      ]
    },
    {
      "cell_type": "code",
      "execution_count": 8,
      "metadata": {
        "colab": {
          "base_uri": "https://localhost:8080/"
        },
        "id": "Tj3GUrZU8drR",
        "outputId": "6bd86cfe-e5c6-4269-af6e-573d563b007e"
      },
      "outputs": [
        {
          "name": "stdout",
          "output_type": "stream",
          "text": [
            "<Day>\n"
          ]
        }
      ],
      "source": [
        "print(data.index.freq)"
      ]
    },
    {
      "cell_type": "code",
      "execution_count": 9,
      "metadata": {
        "colab": {
          "base_uri": "https://localhost:8080/",
          "height": 241
        },
        "id": "dIe7a0yNOcGL",
        "outputId": "188d15eb-599c-4ba3-f814-5d6e48f0bfbf"
      },
      "outputs": [
        {
          "data": {
            "text/plain": [
              "Close     0\n",
              "High      0\n",
              "Low       0\n",
              "Open      0\n",
              "Volume    0\n",
              "dtype: int64"
            ]
          },
          "execution_count": 9,
          "metadata": {},
          "output_type": "execute_result"
        }
      ],
      "source": [
        "# check for missing\n",
        "data.isnull().sum()"
      ]
    },
    {
      "cell_type": "markdown",
      "metadata": {
        "id": "LN3jrBX5-535"
      },
      "source": [
        "## Stationarity Check"
      ]
    },
    {
      "cell_type": "code",
      "execution_count": 10,
      "metadata": {
        "colab": {
          "base_uri": "https://localhost:8080/"
        },
        "id": "koMuRM7JOcAy",
        "outputId": "50e1e747-ae43-4706-e02f-75b87b51dbf5"
      },
      "outputs": [
        {
          "name": "stdout",
          "output_type": "stream",
          "text": [
            "ADF Statistic: -1.4253815469523197\n",
            "p-value: 0.5700492279846168\n",
            "Critical Values:\n",
            "   1%: -3.4320926833394925\n",
            "   5%: -2.86231002141224\n",
            "   10%: -2.5671798929611827\n",
            "The data is non-stationary (fail to reject the null hypothesis).\n"
          ]
        }
      ],
      "source": [
        "# Perform ADF test\n",
        "result = adfuller(data['Close'])\n",
        "print('ADF Statistic:', result[0])\n",
        "print('p-value:', result[1])\n",
        "print('Critical Values:')\n",
        "for key, value in result[4].items():\n",
        "    print(f'   {key}: {value}')\n",
        "\n",
        "# Interpret the result\n",
        "if result[1] <= 0.05:\n",
        "    print(\"The data is stationary (reject the null hypothesis).\")\n",
        "else:\n",
        "    print(\"The data is non-stationary (fail to reject the null hypothesis).\")"
      ]
    },
    {
      "cell_type": "code",
      "execution_count": 11,
      "metadata": {
        "id": "npeMh5Oc9KIJ"
      },
      "outputs": [],
      "source": [
        "# Apply differencing\n",
        "data['Close_diff'] = data['Close'].diff().dropna()"
      ]
    },
    {
      "cell_type": "code",
      "execution_count": 12,
      "metadata": {
        "colab": {
          "base_uri": "https://localhost:8080/",
          "height": 455
        },
        "id": "8X-1Hty5961M",
        "outputId": "07add694-85eb-49d4-f6eb-b7bba0cf8b8c"
      },
      "outputs": [
        {
          "data": {
            "text/html": [
              "<div>\n",
              "<style scoped>\n",
              "    .dataframe tbody tr th:only-of-type {\n",
              "        vertical-align: middle;\n",
              "    }\n",
              "\n",
              "    .dataframe tbody tr th {\n",
              "        vertical-align: top;\n",
              "    }\n",
              "\n",
              "    .dataframe thead th {\n",
              "        text-align: right;\n",
              "    }\n",
              "</style>\n",
              "<table border=\"1\" class=\"dataframe\">\n",
              "  <thead>\n",
              "    <tr style=\"text-align: right;\">\n",
              "      <th></th>\n",
              "      <th>Close</th>\n",
              "      <th>High</th>\n",
              "      <th>Low</th>\n",
              "      <th>Open</th>\n",
              "      <th>Volume</th>\n",
              "      <th>Close_diff</th>\n",
              "    </tr>\n",
              "    <tr>\n",
              "      <th>Date</th>\n",
              "      <th></th>\n",
              "      <th></th>\n",
              "      <th></th>\n",
              "      <th></th>\n",
              "      <th></th>\n",
              "      <th></th>\n",
              "    </tr>\n",
              "  </thead>\n",
              "  <tbody>\n",
              "    <tr>\n",
              "      <th>2014-09-19</th>\n",
              "      <td>90.673950</td>\n",
              "      <td>96.284936</td>\n",
              "      <td>86.868906</td>\n",
              "      <td>89.524709</td>\n",
              "      <td>271879400</td>\n",
              "      <td>NaN</td>\n",
              "    </tr>\n",
              "    <tr>\n",
              "      <th>2014-09-20</th>\n",
              "      <td>90.673950</td>\n",
              "      <td>96.284936</td>\n",
              "      <td>86.868906</td>\n",
              "      <td>89.524709</td>\n",
              "      <td>271879400</td>\n",
              "      <td>0.000000</td>\n",
              "    </tr>\n",
              "    <tr>\n",
              "      <th>2014-09-21</th>\n",
              "      <td>90.673950</td>\n",
              "      <td>96.284936</td>\n",
              "      <td>86.868906</td>\n",
              "      <td>89.524709</td>\n",
              "      <td>271879400</td>\n",
              "      <td>0.000000</td>\n",
              "    </tr>\n",
              "    <tr>\n",
              "      <th>2014-09-22</th>\n",
              "      <td>86.810966</td>\n",
              "      <td>89.766149</td>\n",
              "      <td>86.434326</td>\n",
              "      <td>89.524712</td>\n",
              "      <td>66657800</td>\n",
              "      <td>-3.862984</td>\n",
              "    </tr>\n",
              "    <tr>\n",
              "      <th>2014-09-23</th>\n",
              "      <td>84.184128</td>\n",
              "      <td>87.380754</td>\n",
              "      <td>83.652972</td>\n",
              "      <td>85.893503</td>\n",
              "      <td>39009800</td>\n",
              "      <td>-2.626839</td>\n",
              "    </tr>\n",
              "    <tr>\n",
              "      <th>...</th>\n",
              "      <td>...</td>\n",
              "      <td>...</td>\n",
              "      <td>...</td>\n",
              "      <td>...</td>\n",
              "      <td>...</td>\n",
              "      <td>...</td>\n",
              "    </tr>\n",
              "    <tr>\n",
              "      <th>2025-01-25</th>\n",
              "      <td>89.139999</td>\n",
              "      <td>89.190002</td>\n",
              "      <td>86.480003</td>\n",
              "      <td>86.709999</td>\n",
              "      <td>18791000</td>\n",
              "      <td>0.000000</td>\n",
              "    </tr>\n",
              "    <tr>\n",
              "      <th>2025-01-26</th>\n",
              "      <td>89.139999</td>\n",
              "      <td>89.190002</td>\n",
              "      <td>86.480003</td>\n",
              "      <td>86.709999</td>\n",
              "      <td>18791000</td>\n",
              "      <td>0.000000</td>\n",
              "    </tr>\n",
              "    <tr>\n",
              "      <th>2025-01-27</th>\n",
              "      <td>89.989998</td>\n",
              "      <td>91.430000</td>\n",
              "      <td>89.220001</td>\n",
              "      <td>90.589996</td>\n",
              "      <td>25999800</td>\n",
              "      <td>0.849998</td>\n",
              "    </tr>\n",
              "    <tr>\n",
              "      <th>2025-01-28</th>\n",
              "      <td>96.029999</td>\n",
              "      <td>96.430000</td>\n",
              "      <td>89.900002</td>\n",
              "      <td>90.940002</td>\n",
              "      <td>31296300</td>\n",
              "      <td>6.040001</td>\n",
              "    </tr>\n",
              "    <tr>\n",
              "      <th>2025-01-29</th>\n",
              "      <td>96.720001</td>\n",
              "      <td>101.279999</td>\n",
              "      <td>96.449997</td>\n",
              "      <td>99.389999</td>\n",
              "      <td>74962200</td>\n",
              "      <td>0.690002</td>\n",
              "    </tr>\n",
              "  </tbody>\n",
              "</table>\n",
              "<p>3786 rows × 6 columns</p>\n",
              "</div>"
            ],
            "text/plain": [
              "                Close        High        Low       Open     Volume  Close_diff\n",
              "Date                                                                          \n",
              "2014-09-19  90.673950   96.284936  86.868906  89.524709  271879400         NaN\n",
              "2014-09-20  90.673950   96.284936  86.868906  89.524709  271879400    0.000000\n",
              "2014-09-21  90.673950   96.284936  86.868906  89.524709  271879400    0.000000\n",
              "2014-09-22  86.810966   89.766149  86.434326  89.524712   66657800   -3.862984\n",
              "2014-09-23  84.184128   87.380754  83.652972  85.893503   39009800   -2.626839\n",
              "...               ...         ...        ...        ...        ...         ...\n",
              "2025-01-25  89.139999   89.190002  86.480003  86.709999   18791000    0.000000\n",
              "2025-01-26  89.139999   89.190002  86.480003  86.709999   18791000    0.000000\n",
              "2025-01-27  89.989998   91.430000  89.220001  90.589996   25999800    0.849998\n",
              "2025-01-28  96.029999   96.430000  89.900002  90.940002   31296300    6.040001\n",
              "2025-01-29  96.720001  101.279999  96.449997  99.389999   74962200    0.690002\n",
              "\n",
              "[3786 rows x 6 columns]"
            ]
          },
          "execution_count": 12,
          "metadata": {},
          "output_type": "execute_result"
        }
      ],
      "source": [
        "data"
      ]
    },
    {
      "cell_type": "code",
      "execution_count": 13,
      "metadata": {
        "id": "9GySCBqW9-oE"
      },
      "outputs": [],
      "source": [
        "# drop Na from close_diff\n",
        "data.dropna(inplace=True)"
      ]
    },
    {
      "cell_type": "code",
      "execution_count": 14,
      "metadata": {
        "id": "3BKBMMO99nBi"
      },
      "outputs": [],
      "source": [
        "# Use only the 'Close_diff' column\n",
        "data = data[['Close_diff']]"
      ]
    },
    {
      "cell_type": "code",
      "execution_count": 15,
      "metadata": {
        "colab": {
          "base_uri": "https://localhost:8080/",
          "height": 455
        },
        "id": "SZGGcSLm9m1y",
        "outputId": "0b22ef54-e172-4701-b99b-6f6a24016fe6"
      },
      "outputs": [
        {
          "data": {
            "text/html": [
              "<div>\n",
              "<style scoped>\n",
              "    .dataframe tbody tr th:only-of-type {\n",
              "        vertical-align: middle;\n",
              "    }\n",
              "\n",
              "    .dataframe tbody tr th {\n",
              "        vertical-align: top;\n",
              "    }\n",
              "\n",
              "    .dataframe thead th {\n",
              "        text-align: right;\n",
              "    }\n",
              "</style>\n",
              "<table border=\"1\" class=\"dataframe\">\n",
              "  <thead>\n",
              "    <tr style=\"text-align: right;\">\n",
              "      <th></th>\n",
              "      <th>Close_diff</th>\n",
              "    </tr>\n",
              "    <tr>\n",
              "      <th>Date</th>\n",
              "      <th></th>\n",
              "    </tr>\n",
              "  </thead>\n",
              "  <tbody>\n",
              "    <tr>\n",
              "      <th>2014-09-20</th>\n",
              "      <td>0.000000</td>\n",
              "    </tr>\n",
              "    <tr>\n",
              "      <th>2014-09-21</th>\n",
              "      <td>0.000000</td>\n",
              "    </tr>\n",
              "    <tr>\n",
              "      <th>2014-09-22</th>\n",
              "      <td>-3.862984</td>\n",
              "    </tr>\n",
              "    <tr>\n",
              "      <th>2014-09-23</th>\n",
              "      <td>-2.626839</td>\n",
              "    </tr>\n",
              "    <tr>\n",
              "      <th>2014-09-24</th>\n",
              "      <td>3.283539</td>\n",
              "    </tr>\n",
              "    <tr>\n",
              "      <th>...</th>\n",
              "      <td>...</td>\n",
              "    </tr>\n",
              "    <tr>\n",
              "      <th>2025-01-25</th>\n",
              "      <td>0.000000</td>\n",
              "    </tr>\n",
              "    <tr>\n",
              "      <th>2025-01-26</th>\n",
              "      <td>0.000000</td>\n",
              "    </tr>\n",
              "    <tr>\n",
              "      <th>2025-01-27</th>\n",
              "      <td>0.849998</td>\n",
              "    </tr>\n",
              "    <tr>\n",
              "      <th>2025-01-28</th>\n",
              "      <td>6.040001</td>\n",
              "    </tr>\n",
              "    <tr>\n",
              "      <th>2025-01-29</th>\n",
              "      <td>0.690002</td>\n",
              "    </tr>\n",
              "  </tbody>\n",
              "</table>\n",
              "<p>3785 rows × 1 columns</p>\n",
              "</div>"
            ],
            "text/plain": [
              "            Close_diff\n",
              "Date                  \n",
              "2014-09-20    0.000000\n",
              "2014-09-21    0.000000\n",
              "2014-09-22   -3.862984\n",
              "2014-09-23   -2.626839\n",
              "2014-09-24    3.283539\n",
              "...                ...\n",
              "2025-01-25    0.000000\n",
              "2025-01-26    0.000000\n",
              "2025-01-27    0.849998\n",
              "2025-01-28    6.040001\n",
              "2025-01-29    0.690002\n",
              "\n",
              "[3785 rows x 1 columns]"
            ]
          },
          "execution_count": 15,
          "metadata": {},
          "output_type": "execute_result"
        }
      ],
      "source": [
        "data"
      ]
    },
    {
      "cell_type": "markdown",
      "metadata": {
        "id": "J7qKm1of_G0y"
      },
      "source": [
        "## Train-Test split"
      ]
    },
    {
      "cell_type": "code",
      "execution_count": 16,
      "metadata": {
        "id": "L6ugSvhvPocU"
      },
      "outputs": [],
      "source": [
        "train_size = int(len(data) * 0.8)\n",
        "train, test = data.iloc[:train_size], data.iloc[train_size:]"
      ]
    },
    {
      "cell_type": "markdown",
      "metadata": {
        "id": "T6iu6cvU_Pjz"
      },
      "source": [
        "# Models"
      ]
    },
    {
      "cell_type": "markdown",
      "metadata": {
        "id": "WPBKE8U__bwi"
      },
      "source": [
        "## ARIMA"
      ]
    },
    {
      "cell_type": "markdown",
      "metadata": {
        "id": "dO0yD6z7P_eK"
      },
      "source": [
        "# Fit ARIMA Model:"
      ]
    },
    {
      "cell_type": "code",
      "execution_count": 17,
      "metadata": {
        "id": "JL7vxDNMP9-i"
      },
      "outputs": [],
      "source": [
        "model = ARIMA(train['Close_diff'], order=(2, 1, 0))\n",
        "fitted_model = model.fit()"
      ]
    },
    {
      "cell_type": "markdown",
      "metadata": {
        "id": "VdhKQ6xmQwzz"
      },
      "source": [
        "# Forecaast and Evaluate"
      ]
    },
    {
      "cell_type": "code",
      "execution_count": 18,
      "metadata": {
        "colab": {
          "base_uri": "https://localhost:8080/"
        },
        "id": "5bP0iD4--hcT",
        "outputId": "1b499e8b-2ef2-43dd-fa28-b8aace00b13c"
      },
      "outputs": [
        {
          "name": "stdout",
          "output_type": "stream",
          "text": [
            "ARIMA MAE: 2.165185410722036, RMSE: 2.5632588191236563\n"
          ]
        }
      ],
      "source": [
        "# Generate forecasts using the fitted ARIMA model\n",
        "arima_forecast = fitted_model.predict(start=test.index[0], end=test.index[-1])\n",
        "\n",
        "mae_arima = mean_absolute_error(test['Close_diff'], arima_forecast)\n",
        "# Calculate MSE first, then take the square root for RMSE\n",
        "mse_arima = mean_squared_error(test['Close_diff'], arima_forecast)\n",
        "rmse_arima = np.sqrt(mse_arima)  # Calculate RMSE using NumPy\n",
        "print(f'ARIMA MAE: {mae_arima}, RMSE: {rmse_arima}')"
      ]
    },
    {
      "cell_type": "markdown",
      "metadata": {
        "id": "KHbF-kHWQ5Tp"
      },
      "source": [
        "# LSTM Model"
      ]
    },
    {
      "cell_type": "markdown",
      "metadata": {
        "id": "n_Lu9RzvRVlR"
      },
      "source": [
        "## Preprocess Data for LSTM"
      ]
    },
    {
      "cell_type": "code",
      "execution_count": 19,
      "metadata": {
        "id": "5xLemKkJPfuB"
      },
      "outputs": [],
      "source": [
        "from sklearn.preprocessing import MinMaxScaler\n",
        "import numpy as np\n",
        "\n",
        "scaler = MinMaxScaler()\n",
        "scaled_train = scaler.fit_transform(train[['Close_diff']])\n",
        "\n",
        "def create_sequences(data, seq_length):\n",
        "    X, y = [], []\n",
        "    for i in range(len(data) - seq_length):\n",
        "        X.append(data[i:i+seq_length])\n",
        "        y.append(data[i+seq_length])\n",
        "    return np.array(X), np.array(y)\n",
        "\n",
        "seq_length = 60\n",
        "X_train, y_train = create_sequences(scaled_train, seq_length)"
      ]
    },
    {
      "cell_type": "markdown",
      "metadata": {
        "id": "jA6f-9t1RNpS"
      },
      "source": [
        "## Build LSTM Model:"
      ]
    },
    {
      "cell_type": "code",
      "execution_count": 20,
      "metadata": {
        "colab": {
          "base_uri": "https://localhost:8080/"
        },
        "id": "QciN6nBaPfkz",
        "outputId": "16b453c7-2fe0-4c8d-bc11-6e3229b08356"
      },
      "outputs": [
        {
          "name": "stderr",
          "output_type": "stream",
          "text": [
            "c:\\Users\\Maintenant prêt\\Desktop\\STOCK\\env\\Lib\\site-packages\\keras\\src\\layers\\rnn\\rnn.py:200: UserWarning: Do not pass an `input_shape`/`input_dim` argument to a layer. When using Sequential models, prefer using an `Input(shape)` object as the first layer in the model instead.\n",
            "  super().__init__(**kwargs)\n"
          ]
        }
      ],
      "source": [
        "model_lstm = Sequential()\n",
        "model_lstm.add(LSTM(50, return_sequences=True, input_shape=(seq_length, 1)))\n",
        "model_lstm.add(LSTM(50))\n",
        "model_lstm.add(Dense(1))\n",
        "model_lstm.compile(optimizer='adam', loss='mse')"
      ]
    },
    {
      "cell_type": "markdown",
      "metadata": {
        "id": "TSnqSLHzREHS"
      },
      "source": [
        "## Train LSTM Model"
      ]
    },
    {
      "cell_type": "code",
      "execution_count": 21,
      "metadata": {
        "colab": {
          "base_uri": "https://localhost:8080/"
        },
        "id": "ij-gditQOb4Z",
        "outputId": "8c03e3b6-835a-4e1e-82fe-daf002310dd3"
      },
      "outputs": [
        {
          "name": "stdout",
          "output_type": "stream",
          "text": [
            "Epoch 1/10\n",
            "\u001b[1m93/93\u001b[0m \u001b[32m━━━━━━━━━━━━━━━━━━━━\u001b[0m\u001b[37m\u001b[0m \u001b[1m16s\u001b[0m 23ms/step - loss: 0.0544\n",
            "Epoch 2/10\n",
            "\u001b[1m93/93\u001b[0m \u001b[32m━━━━━━━━━━━━━━━━━━━━\u001b[0m\u001b[37m\u001b[0m \u001b[1m2s\u001b[0m 21ms/step - loss: 0.0030\n",
            "Epoch 3/10\n",
            "\u001b[1m93/93\u001b[0m \u001b[32m━━━━━━━━━━━━━━━━━━━━\u001b[0m\u001b[37m\u001b[0m \u001b[1m2s\u001b[0m 22ms/step - loss: 0.0028\n",
            "Epoch 4/10\n",
            "\u001b[1m93/93\u001b[0m \u001b[32m━━━━━━━━━━━━━━━━━━━━\u001b[0m\u001b[37m\u001b[0m \u001b[1m2s\u001b[0m 22ms/step - loss: 0.0026\n",
            "Epoch 5/10\n",
            "\u001b[1m93/93\u001b[0m \u001b[32m━━━━━━━━━━━━━━━━━━━━\u001b[0m\u001b[37m\u001b[0m \u001b[1m2s\u001b[0m 20ms/step - loss: 0.0028\n",
            "Epoch 6/10\n",
            "\u001b[1m93/93\u001b[0m \u001b[32m━━━━━━━━━━━━━━━━━━━━\u001b[0m\u001b[37m\u001b[0m \u001b[1m2s\u001b[0m 21ms/step - loss: 0.0031\n",
            "Epoch 7/10\n",
            "\u001b[1m93/93\u001b[0m \u001b[32m━━━━━━━━━━━━━━━━━━━━\u001b[0m\u001b[37m\u001b[0m \u001b[1m2s\u001b[0m 20ms/step - loss: 0.0030\n",
            "Epoch 8/10\n",
            "\u001b[1m93/93\u001b[0m \u001b[32m━━━━━━━━━━━━━━━━━━━━\u001b[0m\u001b[37m\u001b[0m \u001b[1m2s\u001b[0m 20ms/step - loss: 0.0029\n",
            "Epoch 9/10\n",
            "\u001b[1m93/93\u001b[0m \u001b[32m━━━━━━━━━━━━━━━━━━━━\u001b[0m\u001b[37m\u001b[0m \u001b[1m2s\u001b[0m 22ms/step - loss: 0.0025\n",
            "Epoch 10/10\n",
            "\u001b[1m93/93\u001b[0m \u001b[32m━━━━━━━━━━━━━━━━━━━━\u001b[0m\u001b[37m\u001b[0m \u001b[1m2s\u001b[0m 24ms/step - loss: 0.0030\n"
          ]
        },
        {
          "data": {
            "text/plain": [
              "<keras.src.callbacks.history.History at 0x1fd9288b740>"
            ]
          },
          "execution_count": 21,
          "metadata": {},
          "output_type": "execute_result"
        }
      ],
      "source": [
        "model_lstm.fit(X_train, y_train, epochs=10, batch_size=32)"
      ]
    },
    {
      "cell_type": "markdown",
      "metadata": {
        "id": "s5SOFveiRJ3E"
      },
      "source": [
        "## Forecast and Evaluate"
      ]
    },
    {
      "cell_type": "code",
      "execution_count": 22,
      "metadata": {
        "colab": {
          "base_uri": "https://localhost:8080/"
        },
        "id": "B28q2B_mOb1i",
        "outputId": "0b1dfdbd-2766-4707-a96a-521e5ba8c0dc"
      },
      "outputs": [
        {
          "name": "stdout",
          "output_type": "stream",
          "text": [
            "\u001b[1m22/22\u001b[0m \u001b[32m━━━━━━━━━━━━━━━━━━━━\u001b[0m\u001b[37m\u001b[0m \u001b[1m1s\u001b[0m 18ms/step\n",
            "LSTM MAE: 1.2198054973928625\n"
          ]
        }
      ],
      "source": [
        "scaled_test = scaler.transform(test[['Close_diff']])\n",
        "X_test, y_test = create_sequences(scaled_test, seq_length)\n",
        "predictions = model_lstm.predict(X_test)\n",
        "predictions = scaler.inverse_transform(predictions)\n",
        "\n",
        "mae = mean_absolute_error(test['Close_diff'].iloc[seq_length:], predictions)\n",
        "print('LSTM MAE:', mae)"
      ]
    },
    {
      "cell_type": "markdown",
      "metadata": {
        "id": "W-3Ya83PRbnC"
      },
      "source": [
        "# Prophet Model"
      ]
    },
    {
      "cell_type": "markdown",
      "metadata": {
        "id": "NQ49KW6sRhe6"
      },
      "source": [
        "## Prepare Data for Prophet"
      ]
    },
    {
      "cell_type": "code",
      "execution_count": 23,
      "metadata": {
        "id": "MxVeVeWMReis"
      },
      "outputs": [],
      "source": [
        "train_prophet = train.reset_index()[['Date', 'Close_diff']].rename(columns={'Date': 'ds', 'Close': 'y'})"
      ]
    },
    {
      "cell_type": "markdown",
      "metadata": {
        "id": "37dXjAzoRpQ5"
      },
      "source": [
        "## Fit Prophet Model"
      ]
    },
    {
      "cell_type": "code",
      "execution_count": 24,
      "metadata": {
        "colab": {
          "base_uri": "https://localhost:8080/"
        },
        "id": "YqeL3bklUvBx",
        "outputId": "a163ce59-9f60-4200-868a-17ea18ad4863"
      },
      "outputs": [
        {
          "name": "stderr",
          "output_type": "stream",
          "text": [
            "07:25:09 - cmdstanpy - INFO - Chain [1] start processing\n",
            "07:25:09 - cmdstanpy - INFO - Chain [1] done processing\n"
          ]
        },
        {
          "data": {
            "text/plain": [
              "<prophet.forecaster.Prophet at 0x1fd9361fdd0>"
            ]
          },
          "execution_count": 24,
          "metadata": {},
          "output_type": "execute_result"
        }
      ],
      "source": [
        "train_prophet = train.reset_index()[['Date', 'Close_diff']].rename(columns={'Date': 'ds', 'Close_diff': 'y'})\n",
        "\n",
        "# Remove timezone information from the 'ds' column\n",
        "train_prophet['ds'] = train_prophet['ds'].dt.tz_localize(None)\n",
        "\n",
        "model_prophet = Prophet()\n",
        "model_prophet.fit(train_prophet)"
      ]
    },
    {
      "cell_type": "markdown",
      "metadata": {
        "id": "DIqlzutiRuxx"
      },
      "source": [
        "## Forecast and Evaluate:"
      ]
    },
    {
      "cell_type": "code",
      "execution_count": 29,
      "metadata": {},
      "outputs": [
        {
          "name": "stdout",
          "output_type": "stream",
          "text": [
            "Prophet MAE: 1.153037108155377\n",
            "Prophet RMSE: 1.8171794099487826\n"
          ]
        }
      ],
      "source": [
        "# evaluate with MAE and RMSE\n",
        "mae = mean_absolute_error(test['Close_diff'], forecast['yhat'])\n",
        "rmse = np.sqrt(mean_squared_error(test['Close_diff'], forecast['yhat']))\n",
        "print('Prophet MAE:', mae)\n",
        "print('Prophet RMSE:', rmse)"
      ]
    },
    {
      "cell_type": "code",
      "execution_count": 25,
      "metadata": {
        "colab": {
          "base_uri": "https://localhost:8080/"
        },
        "id": "xqj9mnaqRfoh",
        "outputId": "49ee0d0f-64a9-4286-b42d-b217b9959f1f"
      },
      "outputs": [
        {
          "name": "stderr",
          "output_type": "stream",
          "text": [
            "c:\\Users\\Maintenant prêt\\Desktop\\STOCK\\env\\Lib\\site-packages\\prophet\\forecaster.py:1854: FutureWarning: 'H' is deprecated and will be removed in a future version, please use 'h' instead.\n",
            "  dates = pd.date_range(\n"
          ]
        },
        {
          "name": "stdout",
          "output_type": "stream",
          "text": [
            "Prophet MAE: 1.153037108155377\n"
          ]
        }
      ],
      "source": [
        "future = model_prophet.make_future_dataframe(periods=len(test), freq='H')\n",
        "forecast = model_prophet.predict(future)\n",
        "forecast = forecast.iloc[-len(test):]\n",
        "\n",
        "mae = mean_absolute_error(test['Close_diff'], forecast['yhat'])\n",
        "print('Prophet MAE:', mae)"
      ]
    },
    {
      "cell_type": "markdown",
      "metadata": {
        "id": "GM_mnrQVR0Z6"
      },
      "source": [
        "# Compare Models"
      ]
    },
    {
      "cell_type": "code",
      "execution_count": 26,
      "metadata": {
        "colab": {
          "base_uri": "https://localhost:8080/",
          "height": 545
        },
        "id": "wDUmhLy3BQGy",
        "outputId": "83e37744-aae8-41f3-e4f6-cc02b6e0c064"
      },
      "outputs": [
        {
          "data": {
            "image/png": "[encoded data removed]",
            "text/plain": [
              "<Figure size 1200x600 with 1 Axes>"
            ]
          },
          "metadata": {},
          "output_type": "display_data"
        }
      ],
      "source": [
        "# Adjust the plotting to use the same range for all data\n",
        "plt.figure(figsize=(12, 6))\n",
        "\n",
        "# Slice test['Close'] to match the length of predictions for LSTM\n",
        "plt.plot(test.index[seq_length:], test['Close_diff'].iloc[seq_length:], label='Actual')\n",
        "\n",
        "plt.plot(test.index[seq_length:], arima_forecast[seq_length:], label='ARIMA')\n",
        "\n",
        "plt.plot(test.index[seq_length:], predictions[:, 0], label='LSTM')  # Extract the first column of predictions\n",
        "\n",
        "plt.plot(test.index[seq_length:], forecast['yhat'].iloc[seq_length:], label='Prophet')  # Slice forecast['yhat']\n",
        "\n",
        "plt.legend()\n",
        "plt.title('Model Comparison')\n",
        "plt.show()"
      ]
    },
    {
      "cell_type": "code",
      "execution_count": 31,
      "metadata": {},
      "outputs": [],
      "source": [
        "# compare the model in tabel form\n",
        "models = ['ARIMA', 'LSTM', 'Prophet']\n",
        "maes = [mae_arima, mae, mae]\n",
        "rmses = [rmse_arima, rmse, rmse]\n"
      ]
    },
    {
      "cell_type": "code",
      "execution_count": 32,
      "metadata": {
        "id": "_6L268X4Rfcy"
      },
      "outputs": [
        {
          "name": "stdout",
          "output_type": "stream",
          "text": [
            "     Model       MAE      RMSE\n",
            "0    ARIMA  2.165185  2.563259\n",
            "1     LSTM  1.153037  1.817179\n",
            "2  Prophet  1.153037  1.817179\n"
          ]
        }
      ],
      "source": [
        "data = {'Model': models, 'MAE': maes, 'RMSE': rmses}\n",
        "df_compare = pd.DataFrame(data)\n",
        "\n",
        "print(df_compare)"
      ]
    }
  ],
  "metadata": {
    "colab": {
      "provenance": [],
      "toc_visible": true
    },
    "kernelspec": {
      "display_name": "env",
      "language": "python",
      "name": "python3"
    },
    "language_info": {
      "codemirror_mode": {
        "name": "ipython",
        "version": 3
      },
      "file_extension": ".py",
      "mimetype": "text/x-python",
      "name": "python",
      "nbconvert_exporter": "python",
      "pygments_lexer": "ipython3",
      "version": "3.12.4"
    }
  },
  "nbformat": 4,
  "nbformat_minor": 0
}
