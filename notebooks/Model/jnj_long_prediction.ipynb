{
  "cells": [
    {
      "cell_type": "code",
      "execution_count": 1,
      "metadata": {
        "id": "MQij8trIN6CZ"
      },
      "outputs": [],
      "source": [
        "import pandas as pd\n",
        "import numpy as np\n",
        "import matplotlib.pyplot as plt\n",
        "import seaborn as sns\n",
        "from prophet import Prophet\n",
        "from statsmodels.tsa.stattools import adfuller\n",
        "from statsmodels.tsa.arima.model import ARIMA\n",
        "from tensorflow.keras.models import Sequential\n",
        "from tensorflow.keras.layers import LSTM, Dense\n",
        "from sklearn.preprocessing import MinMaxScaler\n",
        "from sklearn.metrics import mean_absolute_error, mean_squared_error"
      ]
    },
    {
      "cell_type": "code",
      "execution_count": 2,
      "metadata": {
        "id": "wNNlKZLtODiV"
      },
      "outputs": [],
      "source": [
        "data = pd.read_csv(r'C:\\Users\\Maintenant prêt\\Desktop\\STOCK\\Data\\jnj_long_data.csv')"
      ]
    },
    {
      "cell_type": "code",
      "execution_count": 3,
      "metadata": {
        "colab": {
          "base_uri": "https://localhost:8080/",
          "height": 830
        },
        "id": "tKgl-HdhONTv",
        "outputId": "f5b6c281-cf36-419b-9935-48ca3d0ae86f"
      },
      "outputs": [
        {
          "data": {
            "text/html": [
              "<div>\n",
              "<style scoped>\n",
              "    .dataframe tbody tr th:only-of-type {\n",
              "        vertical-align: middle;\n",
              "    }\n",
              "\n",
              "    .dataframe tbody tr th {\n",
              "        vertical-align: top;\n",
              "    }\n",
              "\n",
              "    .dataframe thead th {\n",
              "        text-align: right;\n",
              "    }\n",
              "</style>\n",
              "<table border=\"1\" class=\"dataframe\">\n",
              "  <thead>\n",
              "    <tr style=\"text-align: right;\">\n",
              "      <th></th>\n",
              "      <th>Date</th>\n",
              "      <th>Close</th>\n",
              "      <th>High</th>\n",
              "      <th>Low</th>\n",
              "      <th>Open</th>\n",
              "      <th>Volume</th>\n",
              "    </tr>\n",
              "  </thead>\n",
              "  <tbody>\n",
              "    <tr>\n",
              "      <th>0</th>\n",
              "      <td>1962-01-02</td>\n",
              "      <td>0.062519</td>\n",
              "      <td>0.062519</td>\n",
              "      <td>0.062195</td>\n",
              "      <td>0.000000</td>\n",
              "      <td>0</td>\n",
              "    </tr>\n",
              "    <tr>\n",
              "      <th>1</th>\n",
              "      <td>1962-01-03</td>\n",
              "      <td>0.061547</td>\n",
              "      <td>0.061871</td>\n",
              "      <td>0.061547</td>\n",
              "      <td>0.000000</td>\n",
              "      <td>345600</td>\n",
              "    </tr>\n",
              "    <tr>\n",
              "      <th>2</th>\n",
              "      <td>1962-01-04</td>\n",
              "      <td>0.060899</td>\n",
              "      <td>0.061871</td>\n",
              "      <td>0.060899</td>\n",
              "      <td>0.000000</td>\n",
              "      <td>216000</td>\n",
              "    </tr>\n",
              "    <tr>\n",
              "      <th>3</th>\n",
              "      <td>1962-01-05</td>\n",
              "      <td>0.059927</td>\n",
              "      <td>0.060413</td>\n",
              "      <td>0.059927</td>\n",
              "      <td>0.000000</td>\n",
              "      <td>129600</td>\n",
              "    </tr>\n",
              "    <tr>\n",
              "      <th>4</th>\n",
              "      <td>1962-01-08</td>\n",
              "      <td>0.058956</td>\n",
              "      <td>0.059441</td>\n",
              "      <td>0.058956</td>\n",
              "      <td>0.000000</td>\n",
              "      <td>172800</td>\n",
              "    </tr>\n",
              "    <tr>\n",
              "      <th>...</th>\n",
              "      <td>...</td>\n",
              "      <td>...</td>\n",
              "      <td>...</td>\n",
              "      <td>...</td>\n",
              "      <td>...</td>\n",
              "      <td>...</td>\n",
              "    </tr>\n",
              "    <tr>\n",
              "      <th>15870</th>\n",
              "      <td>2025-01-22</td>\n",
              "      <td>145.270004</td>\n",
              "      <td>145.470001</td>\n",
              "      <td>142.110001</td>\n",
              "      <td>144.000000</td>\n",
              "      <td>16834700</td>\n",
              "    </tr>\n",
              "    <tr>\n",
              "      <th>15871</th>\n",
              "      <td>2025-01-23</td>\n",
              "      <td>146.639999</td>\n",
              "      <td>147.910004</td>\n",
              "      <td>144.809998</td>\n",
              "      <td>145.440002</td>\n",
              "      <td>10506400</td>\n",
              "    </tr>\n",
              "    <tr>\n",
              "      <th>15872</th>\n",
              "      <td>2025-01-24</td>\n",
              "      <td>146.820007</td>\n",
              "      <td>147.630005</td>\n",
              "      <td>146.380005</td>\n",
              "      <td>146.809998</td>\n",
              "      <td>9887300</td>\n",
              "    </tr>\n",
              "    <tr>\n",
              "      <th>15873</th>\n",
              "      <td>2025-01-27</td>\n",
              "      <td>152.889999</td>\n",
              "      <td>153.449997</td>\n",
              "      <td>148.000000</td>\n",
              "      <td>148.449997</td>\n",
              "      <td>15152300</td>\n",
              "    </tr>\n",
              "    <tr>\n",
              "      <th>15874</th>\n",
              "      <td>2025-01-28</td>\n",
              "      <td>150.380005</td>\n",
              "      <td>152.970001</td>\n",
              "      <td>150.300003</td>\n",
              "      <td>152.660004</td>\n",
              "      <td>10312800</td>\n",
              "    </tr>\n",
              "  </tbody>\n",
              "</table>\n",
              "<p>15875 rows × 6 columns</p>\n",
              "</div>"
            ],
            "text/plain": [
              "             Date       Close        High         Low        Open    Volume\n",
              "0      1962-01-02    0.062519    0.062519    0.062195    0.000000         0\n",
              "1      1962-01-03    0.061547    0.061871    0.061547    0.000000    345600\n",
              "2      1962-01-04    0.060899    0.061871    0.060899    0.000000    216000\n",
              "3      1962-01-05    0.059927    0.060413    0.059927    0.000000    129600\n",
              "4      1962-01-08    0.058956    0.059441    0.058956    0.000000    172800\n",
              "...           ...         ...         ...         ...         ...       ...\n",
              "15870  2025-01-22  145.270004  145.470001  142.110001  144.000000  16834700\n",
              "15871  2025-01-23  146.639999  147.910004  144.809998  145.440002  10506400\n",
              "15872  2025-01-24  146.820007  147.630005  146.380005  146.809998   9887300\n",
              "15873  2025-01-27  152.889999  153.449997  148.000000  148.449997  15152300\n",
              "15874  2025-01-28  150.380005  152.970001  150.300003  152.660004  10312800\n",
              "\n",
              "[15875 rows x 6 columns]"
            ]
          },
          "execution_count": 3,
          "metadata": {},
          "output_type": "execute_result"
        }
      ],
      "source": [
        "data"
      ]
    },
    {
      "cell_type": "code",
      "execution_count": 4,
      "metadata": {
        "id": "F0jH3qyeOOx2"
      },
      "outputs": [],
      "source": [
        "data['Date'] = pd.to_datetime(data['Date'])\n",
        "data.set_index('Date', inplace=True)"
      ]
    },
    {
      "cell_type": "code",
      "execution_count": 5,
      "metadata": {
        "colab": {
          "base_uri": "https://localhost:8080/",
          "height": 455
        },
        "id": "b16oH163OTzC",
        "outputId": "736c99d5-5843-4741-fc6f-0794cac2266b"
      },
      "outputs": [
        {
          "data": {
            "text/html": [
              "<div>\n",
              "<style scoped>\n",
              "    .dataframe tbody tr th:only-of-type {\n",
              "        vertical-align: middle;\n",
              "    }\n",
              "\n",
              "    .dataframe tbody tr th {\n",
              "        vertical-align: top;\n",
              "    }\n",
              "\n",
              "    .dataframe thead th {\n",
              "        text-align: right;\n",
              "    }\n",
              "</style>\n",
              "<table border=\"1\" class=\"dataframe\">\n",
              "  <thead>\n",
              "    <tr style=\"text-align: right;\">\n",
              "      <th></th>\n",
              "      <th>Close</th>\n",
              "      <th>High</th>\n",
              "      <th>Low</th>\n",
              "      <th>Open</th>\n",
              "      <th>Volume</th>\n",
              "    </tr>\n",
              "    <tr>\n",
              "      <th>Date</th>\n",
              "      <th></th>\n",
              "      <th></th>\n",
              "      <th></th>\n",
              "      <th></th>\n",
              "      <th></th>\n",
              "    </tr>\n",
              "  </thead>\n",
              "  <tbody>\n",
              "    <tr>\n",
              "      <th>1962-01-02</th>\n",
              "      <td>0.062519</td>\n",
              "      <td>0.062519</td>\n",
              "      <td>0.062195</td>\n",
              "      <td>0.000000</td>\n",
              "      <td>0</td>\n",
              "    </tr>\n",
              "    <tr>\n",
              "      <th>1962-01-03</th>\n",
              "      <td>0.061547</td>\n",
              "      <td>0.061871</td>\n",
              "      <td>0.061547</td>\n",
              "      <td>0.000000</td>\n",
              "      <td>345600</td>\n",
              "    </tr>\n",
              "    <tr>\n",
              "      <th>1962-01-04</th>\n",
              "      <td>0.060899</td>\n",
              "      <td>0.061871</td>\n",
              "      <td>0.060899</td>\n",
              "      <td>0.000000</td>\n",
              "      <td>216000</td>\n",
              "    </tr>\n",
              "    <tr>\n",
              "      <th>1962-01-05</th>\n",
              "      <td>0.059927</td>\n",
              "      <td>0.060413</td>\n",
              "      <td>0.059927</td>\n",
              "      <td>0.000000</td>\n",
              "      <td>129600</td>\n",
              "    </tr>\n",
              "    <tr>\n",
              "      <th>1962-01-08</th>\n",
              "      <td>0.058956</td>\n",
              "      <td>0.059441</td>\n",
              "      <td>0.058956</td>\n",
              "      <td>0.000000</td>\n",
              "      <td>172800</td>\n",
              "    </tr>\n",
              "    <tr>\n",
              "      <th>...</th>\n",
              "      <td>...</td>\n",
              "      <td>...</td>\n",
              "      <td>...</td>\n",
              "      <td>...</td>\n",
              "      <td>...</td>\n",
              "    </tr>\n",
              "    <tr>\n",
              "      <th>2025-01-22</th>\n",
              "      <td>145.270004</td>\n",
              "      <td>145.470001</td>\n",
              "      <td>142.110001</td>\n",
              "      <td>144.000000</td>\n",
              "      <td>16834700</td>\n",
              "    </tr>\n",
              "    <tr>\n",
              "      <th>2025-01-23</th>\n",
              "      <td>146.639999</td>\n",
              "      <td>147.910004</td>\n",
              "      <td>144.809998</td>\n",
              "      <td>145.440002</td>\n",
              "      <td>10506400</td>\n",
              "    </tr>\n",
              "    <tr>\n",
              "      <th>2025-01-24</th>\n",
              "      <td>146.820007</td>\n",
              "      <td>147.630005</td>\n",
              "      <td>146.380005</td>\n",
              "      <td>146.809998</td>\n",
              "      <td>9887300</td>\n",
              "    </tr>\n",
              "    <tr>\n",
              "      <th>2025-01-27</th>\n",
              "      <td>152.889999</td>\n",
              "      <td>153.449997</td>\n",
              "      <td>148.000000</td>\n",
              "      <td>148.449997</td>\n",
              "      <td>15152300</td>\n",
              "    </tr>\n",
              "    <tr>\n",
              "      <th>2025-01-28</th>\n",
              "      <td>150.380005</td>\n",
              "      <td>152.970001</td>\n",
              "      <td>150.300003</td>\n",
              "      <td>152.660004</td>\n",
              "      <td>10312800</td>\n",
              "    </tr>\n",
              "  </tbody>\n",
              "</table>\n",
              "<p>15875 rows × 5 columns</p>\n",
              "</div>"
            ],
            "text/plain": [
              "                 Close        High         Low        Open    Volume\n",
              "Date                                                                \n",
              "1962-01-02    0.062519    0.062519    0.062195    0.000000         0\n",
              "1962-01-03    0.061547    0.061871    0.061547    0.000000    345600\n",
              "1962-01-04    0.060899    0.061871    0.060899    0.000000    216000\n",
              "1962-01-05    0.059927    0.060413    0.059927    0.000000    129600\n",
              "1962-01-08    0.058956    0.059441    0.058956    0.000000    172800\n",
              "...                ...         ...         ...         ...       ...\n",
              "2025-01-22  145.270004  145.470001  142.110001  144.000000  16834700\n",
              "2025-01-23  146.639999  147.910004  144.809998  145.440002  10506400\n",
              "2025-01-24  146.820007  147.630005  146.380005  146.809998   9887300\n",
              "2025-01-27  152.889999  153.449997  148.000000  148.449997  15152300\n",
              "2025-01-28  150.380005  152.970001  150.300003  152.660004  10312800\n",
              "\n",
              "[15875 rows x 5 columns]"
            ]
          },
          "execution_count": 5,
          "metadata": {},
          "output_type": "execute_result"
        }
      ],
      "source": [
        "data"
      ]
    },
    {
      "cell_type": "code",
      "execution_count": 6,
      "metadata": {
        "colab": {
          "base_uri": "https://localhost:8080/"
        },
        "id": "xSTLp4227ygf",
        "outputId": "c0408f9d-de82-42a5-c7eb-affe816b58c1"
      },
      "outputs": [
        {
          "name": "stdout",
          "output_type": "stream",
          "text": [
            "None\n"
          ]
        }
      ],
      "source": [
        "# check the frequency\n",
        "print(data.index.freq)"
      ]
    },
    {
      "cell_type": "code",
      "execution_count": 7,
      "metadata": {
        "id": "eDG043rm8cBq"
      },
      "outputs": [],
      "source": [
        "# Set the frequency to daily\n",
        "data = data.resample('D').ffill()"
      ]
    },
    {
      "cell_type": "code",
      "execution_count": 8,
      "metadata": {
        "colab": {
          "base_uri": "https://localhost:8080/"
        },
        "id": "Tj3GUrZU8drR",
        "outputId": "248cf587-de9f-40d2-b083-188b33ef3982"
      },
      "outputs": [
        {
          "name": "stdout",
          "output_type": "stream",
          "text": [
            "<Day>\n"
          ]
        }
      ],
      "source": [
        "print(data.index.freq)"
      ]
    },
    {
      "cell_type": "code",
      "execution_count": 9,
      "metadata": {
        "colab": {
          "base_uri": "https://localhost:8080/",
          "height": 241
        },
        "id": "dIe7a0yNOcGL",
        "outputId": "04cd9340-c676-4f56-bac0-ef9b0a547e64"
      },
      "outputs": [
        {
          "data": {
            "text/plain": [
              "Close     0\n",
              "High      0\n",
              "Low       0\n",
              "Open      0\n",
              "Volume    0\n",
              "dtype: int64"
            ]
          },
          "execution_count": 9,
          "metadata": {},
          "output_type": "execute_result"
        }
      ],
      "source": [
        "# check for missing\n",
        "data.isnull().sum()"
      ]
    },
    {
      "cell_type": "markdown",
      "metadata": {
        "id": "LN3jrBX5-535"
      },
      "source": [
        "## Stationarity Check"
      ]
    },
    {
      "cell_type": "code",
      "execution_count": 10,
      "metadata": {
        "colab": {
          "base_uri": "https://localhost:8080/"
        },
        "id": "koMuRM7JOcAy",
        "outputId": "f36b6680-5ecf-45ec-c70d-667bbd02baea"
      },
      "outputs": [
        {
          "name": "stdout",
          "output_type": "stream",
          "text": [
            "ADF Statistic: 1.6133005025545835\n",
            "p-value: 0.9978969350141512\n",
            "Critical Values:\n",
            "   1%: -3.4306344233350767\n",
            "   5%: -2.8616657060194277\n",
            "   10%: -2.5668369097226367\n",
            "The data is non-stationary (fail to reject the null hypothesis).\n"
          ]
        }
      ],
      "source": [
        "# Perform ADF test\n",
        "result = adfuller(data['Close'])\n",
        "print('ADF Statistic:', result[0])\n",
        "print('p-value:', result[1])\n",
        "print('Critical Values:')\n",
        "for key, value in result[4].items():\n",
        "    print(f'   {key}: {value}')\n",
        "\n",
        "# Interpret the result\n",
        "if result[1] <= 0.05:\n",
        "    print(\"The data is stationary (reject the null hypothesis).\")\n",
        "else:\n",
        "    print(\"The data is non-stationary (fail to reject the null hypothesis).\")"
      ]
    },
    {
      "cell_type": "code",
      "execution_count": 11,
      "metadata": {
        "id": "npeMh5Oc9KIJ"
      },
      "outputs": [],
      "source": [
        "# Apply differencing\n",
        "data['Close_diff'] = data['Close'].diff().dropna()"
      ]
    },
    {
      "cell_type": "code",
      "execution_count": 12,
      "metadata": {
        "colab": {
          "base_uri": "https://localhost:8080/",
          "height": 455
        },
        "id": "8X-1Hty5961M",
        "outputId": "73904467-28ab-4bd5-ded0-d4be6a886e16"
      },
      "outputs": [
        {
          "data": {
            "text/html": [
              "<div>\n",
              "<style scoped>\n",
              "    .dataframe tbody tr th:only-of-type {\n",
              "        vertical-align: middle;\n",
              "    }\n",
              "\n",
              "    .dataframe tbody tr th {\n",
              "        vertical-align: top;\n",
              "    }\n",
              "\n",
              "    .dataframe thead th {\n",
              "        text-align: right;\n",
              "    }\n",
              "</style>\n",
              "<table border=\"1\" class=\"dataframe\">\n",
              "  <thead>\n",
              "    <tr style=\"text-align: right;\">\n",
              "      <th></th>\n",
              "      <th>Close</th>\n",
              "      <th>High</th>\n",
              "      <th>Low</th>\n",
              "      <th>Open</th>\n",
              "      <th>Volume</th>\n",
              "      <th>Close_diff</th>\n",
              "    </tr>\n",
              "    <tr>\n",
              "      <th>Date</th>\n",
              "      <th></th>\n",
              "      <th></th>\n",
              "      <th></th>\n",
              "      <th></th>\n",
              "      <th></th>\n",
              "      <th></th>\n",
              "    </tr>\n",
              "  </thead>\n",
              "  <tbody>\n",
              "    <tr>\n",
              "      <th>1962-01-02</th>\n",
              "      <td>0.062519</td>\n",
              "      <td>0.062519</td>\n",
              "      <td>0.062195</td>\n",
              "      <td>0.000000</td>\n",
              "      <td>0</td>\n",
              "      <td>NaN</td>\n",
              "    </tr>\n",
              "    <tr>\n",
              "      <th>1962-01-03</th>\n",
              "      <td>0.061547</td>\n",
              "      <td>0.061871</td>\n",
              "      <td>0.061547</td>\n",
              "      <td>0.000000</td>\n",
              "      <td>345600</td>\n",
              "      <td>-0.000972</td>\n",
              "    </tr>\n",
              "    <tr>\n",
              "      <th>1962-01-04</th>\n",
              "      <td>0.060899</td>\n",
              "      <td>0.061871</td>\n",
              "      <td>0.060899</td>\n",
              "      <td>0.000000</td>\n",
              "      <td>216000</td>\n",
              "      <td>-0.000648</td>\n",
              "    </tr>\n",
              "    <tr>\n",
              "      <th>1962-01-05</th>\n",
              "      <td>0.059927</td>\n",
              "      <td>0.060413</td>\n",
              "      <td>0.059927</td>\n",
              "      <td>0.000000</td>\n",
              "      <td>129600</td>\n",
              "      <td>-0.000972</td>\n",
              "    </tr>\n",
              "    <tr>\n",
              "      <th>1962-01-06</th>\n",
              "      <td>0.059927</td>\n",
              "      <td>0.060413</td>\n",
              "      <td>0.059927</td>\n",
              "      <td>0.000000</td>\n",
              "      <td>129600</td>\n",
              "      <td>0.000000</td>\n",
              "    </tr>\n",
              "    <tr>\n",
              "      <th>...</th>\n",
              "      <td>...</td>\n",
              "      <td>...</td>\n",
              "      <td>...</td>\n",
              "      <td>...</td>\n",
              "      <td>...</td>\n",
              "      <td>...</td>\n",
              "    </tr>\n",
              "    <tr>\n",
              "      <th>2025-01-24</th>\n",
              "      <td>146.820007</td>\n",
              "      <td>147.630005</td>\n",
              "      <td>146.380005</td>\n",
              "      <td>146.809998</td>\n",
              "      <td>9887300</td>\n",
              "      <td>0.180008</td>\n",
              "    </tr>\n",
              "    <tr>\n",
              "      <th>2025-01-25</th>\n",
              "      <td>146.820007</td>\n",
              "      <td>147.630005</td>\n",
              "      <td>146.380005</td>\n",
              "      <td>146.809998</td>\n",
              "      <td>9887300</td>\n",
              "      <td>0.000000</td>\n",
              "    </tr>\n",
              "    <tr>\n",
              "      <th>2025-01-26</th>\n",
              "      <td>146.820007</td>\n",
              "      <td>147.630005</td>\n",
              "      <td>146.380005</td>\n",
              "      <td>146.809998</td>\n",
              "      <td>9887300</td>\n",
              "      <td>0.000000</td>\n",
              "    </tr>\n",
              "    <tr>\n",
              "      <th>2025-01-27</th>\n",
              "      <td>152.889999</td>\n",
              "      <td>153.449997</td>\n",
              "      <td>148.000000</td>\n",
              "      <td>148.449997</td>\n",
              "      <td>15152300</td>\n",
              "      <td>6.069992</td>\n",
              "    </tr>\n",
              "    <tr>\n",
              "      <th>2025-01-28</th>\n",
              "      <td>150.380005</td>\n",
              "      <td>152.970001</td>\n",
              "      <td>150.300003</td>\n",
              "      <td>152.660004</td>\n",
              "      <td>10312800</td>\n",
              "      <td>-2.509995</td>\n",
              "    </tr>\n",
              "  </tbody>\n",
              "</table>\n",
              "<p>23038 rows × 6 columns</p>\n",
              "</div>"
            ],
            "text/plain": [
              "                 Close        High         Low        Open    Volume  \\\n",
              "Date                                                                   \n",
              "1962-01-02    0.062519    0.062519    0.062195    0.000000         0   \n",
              "1962-01-03    0.061547    0.061871    0.061547    0.000000    345600   \n",
              "1962-01-04    0.060899    0.061871    0.060899    0.000000    216000   \n",
              "1962-01-05    0.059927    0.060413    0.059927    0.000000    129600   \n",
              "1962-01-06    0.059927    0.060413    0.059927    0.000000    129600   \n",
              "...                ...         ...         ...         ...       ...   \n",
              "2025-01-24  146.820007  147.630005  146.380005  146.809998   9887300   \n",
              "2025-01-25  146.820007  147.630005  146.380005  146.809998   9887300   \n",
              "2025-01-26  146.820007  147.630005  146.380005  146.809998   9887300   \n",
              "2025-01-27  152.889999  153.449997  148.000000  148.449997  15152300   \n",
              "2025-01-28  150.380005  152.970001  150.300003  152.660004  10312800   \n",
              "\n",
              "            Close_diff  \n",
              "Date                    \n",
              "1962-01-02         NaN  \n",
              "1962-01-03   -0.000972  \n",
              "1962-01-04   -0.000648  \n",
              "1962-01-05   -0.000972  \n",
              "1962-01-06    0.000000  \n",
              "...                ...  \n",
              "2025-01-24    0.180008  \n",
              "2025-01-25    0.000000  \n",
              "2025-01-26    0.000000  \n",
              "2025-01-27    6.069992  \n",
              "2025-01-28   -2.509995  \n",
              "\n",
              "[23038 rows x 6 columns]"
            ]
          },
          "execution_count": 12,
          "metadata": {},
          "output_type": "execute_result"
        }
      ],
      "source": [
        "data"
      ]
    },
    {
      "cell_type": "code",
      "execution_count": 13,
      "metadata": {
        "id": "9GySCBqW9-oE"
      },
      "outputs": [],
      "source": [
        "# drop Na from close_diff\n",
        "data.dropna(inplace=True)"
      ]
    },
    {
      "cell_type": "code",
      "execution_count": 14,
      "metadata": {
        "id": "3BKBMMO99nBi"
      },
      "outputs": [],
      "source": [
        "# Use only the 'Close_diff' column\n",
        "data = data[['Close_diff']]"
      ]
    },
    {
      "cell_type": "code",
      "execution_count": 15,
      "metadata": {
        "colab": {
          "base_uri": "https://localhost:8080/",
          "height": 455
        },
        "id": "SZGGcSLm9m1y",
        "outputId": "240cada8-0cb3-4405-8aa1-b452748fd2ca"
      },
      "outputs": [
        {
          "data": {
            "text/html": [
              "<div>\n",
              "<style scoped>\n",
              "    .dataframe tbody tr th:only-of-type {\n",
              "        vertical-align: middle;\n",
              "    }\n",
              "\n",
              "    .dataframe tbody tr th {\n",
              "        vertical-align: top;\n",
              "    }\n",
              "\n",
              "    .dataframe thead th {\n",
              "        text-align: right;\n",
              "    }\n",
              "</style>\n",
              "<table border=\"1\" class=\"dataframe\">\n",
              "  <thead>\n",
              "    <tr style=\"text-align: right;\">\n",
              "      <th></th>\n",
              "      <th>Close_diff</th>\n",
              "    </tr>\n",
              "    <tr>\n",
              "      <th>Date</th>\n",
              "      <th></th>\n",
              "    </tr>\n",
              "  </thead>\n",
              "  <tbody>\n",
              "    <tr>\n",
              "      <th>1962-01-03</th>\n",
              "      <td>-0.000972</td>\n",
              "    </tr>\n",
              "    <tr>\n",
              "      <th>1962-01-04</th>\n",
              "      <td>-0.000648</td>\n",
              "    </tr>\n",
              "    <tr>\n",
              "      <th>1962-01-05</th>\n",
              "      <td>-0.000972</td>\n",
              "    </tr>\n",
              "    <tr>\n",
              "      <th>1962-01-06</th>\n",
              "      <td>0.000000</td>\n",
              "    </tr>\n",
              "    <tr>\n",
              "      <th>1962-01-07</th>\n",
              "      <td>0.000000</td>\n",
              "    </tr>\n",
              "    <tr>\n",
              "      <th>...</th>\n",
              "      <td>...</td>\n",
              "    </tr>\n",
              "    <tr>\n",
              "      <th>2025-01-24</th>\n",
              "      <td>0.180008</td>\n",
              "    </tr>\n",
              "    <tr>\n",
              "      <th>2025-01-25</th>\n",
              "      <td>0.000000</td>\n",
              "    </tr>\n",
              "    <tr>\n",
              "      <th>2025-01-26</th>\n",
              "      <td>0.000000</td>\n",
              "    </tr>\n",
              "    <tr>\n",
              "      <th>2025-01-27</th>\n",
              "      <td>6.069992</td>\n",
              "    </tr>\n",
              "    <tr>\n",
              "      <th>2025-01-28</th>\n",
              "      <td>-2.509995</td>\n",
              "    </tr>\n",
              "  </tbody>\n",
              "</table>\n",
              "<p>23037 rows × 1 columns</p>\n",
              "</div>"
            ],
            "text/plain": [
              "            Close_diff\n",
              "Date                  \n",
              "1962-01-03   -0.000972\n",
              "1962-01-04   -0.000648\n",
              "1962-01-05   -0.000972\n",
              "1962-01-06    0.000000\n",
              "1962-01-07    0.000000\n",
              "...                ...\n",
              "2025-01-24    0.180008\n",
              "2025-01-25    0.000000\n",
              "2025-01-26    0.000000\n",
              "2025-01-27    6.069992\n",
              "2025-01-28   -2.509995\n",
              "\n",
              "[23037 rows x 1 columns]"
            ]
          },
          "execution_count": 15,
          "metadata": {},
          "output_type": "execute_result"
        }
      ],
      "source": [
        "data"
      ]
    },
    {
      "cell_type": "markdown",
      "metadata": {
        "id": "J7qKm1of_G0y"
      },
      "source": [
        "## Train-Test split"
      ]
    },
    {
      "cell_type": "code",
      "execution_count": 16,
      "metadata": {
        "id": "L6ugSvhvPocU"
      },
      "outputs": [],
      "source": [
        "train_size = int(len(data) * 0.8)\n",
        "train, test = data.iloc[:train_size], data.iloc[train_size:]"
      ]
    },
    {
      "cell_type": "markdown",
      "metadata": {
        "id": "T6iu6cvU_Pjz"
      },
      "source": [
        "# Models"
      ]
    },
    {
      "cell_type": "markdown",
      "metadata": {
        "id": "WPBKE8U__bwi"
      },
      "source": [
        "## ARIMA"
      ]
    },
    {
      "cell_type": "markdown",
      "metadata": {
        "id": "dO0yD6z7P_eK"
      },
      "source": [
        "# Fit ARIMA Model:"
      ]
    },
    {
      "cell_type": "code",
      "execution_count": 17,
      "metadata": {
        "colab": {
          "base_uri": "https://localhost:8080/"
        },
        "id": "JL7vxDNMP9-i",
        "outputId": "dd699482-3fdb-43e6-9543-ec4255063f8c"
      },
      "outputs": [
        {
          "name": "stderr",
          "output_type": "stream",
          "text": [
            "c:\\Users\\Maintenant prêt\\Desktop\\STOCK\\env\\Lib\\site-packages\\statsmodels\\base\\model.py:607: ConvergenceWarning: Maximum Likelihood optimization failed to converge. Check mle_retvals\n",
            "  warnings.warn(\"Maximum Likelihood optimization failed to \"\n"
          ]
        }
      ],
      "source": [
        "model = ARIMA(train['Close_diff'], order=(5, 0, 5))\n",
        "fitted_model = model.fit()"
      ]
    },
    {
      "cell_type": "markdown",
      "metadata": {
        "id": "VdhKQ6xmQwzz"
      },
      "source": [
        "# Forecaast and Evaluate"
      ]
    },
    {
      "cell_type": "code",
      "execution_count": 18,
      "metadata": {
        "colab": {
          "base_uri": "https://localhost:8080/"
        },
        "id": "5bP0iD4--hcT",
        "outputId": "e527f84f-016d-43ec-c650-ee5e9ee241f9"
      },
      "outputs": [
        {
          "name": "stdout",
          "output_type": "stream",
          "text": [
            "ARIMA MAE: 0.5855682029748398, RMSE: 1.0803793707912248\n"
          ]
        }
      ],
      "source": [
        "# Generate forecasts using the fitted ARIMA model\n",
        "arima_forecast = fitted_model.predict(start=test.index[0], end=test.index[-1])\n",
        "\n",
        "mae_arima = mean_absolute_error(test['Close_diff'], arima_forecast)\n",
        "# Calculate MSE first, then take the square root for RMSE\n",
        "mse_arima = mean_squared_error(test['Close_diff'], arima_forecast)\n",
        "rmse_arima = np.sqrt(mse_arima)  # Calculate RMSE using NumPy\n",
        "print(f'ARIMA MAE: {mae_arima}, RMSE: {rmse_arima}')"
      ]
    },
    {
      "cell_type": "markdown",
      "metadata": {
        "id": "KHbF-kHWQ5Tp"
      },
      "source": [
        "# LSTM Model"
      ]
    },
    {
      "cell_type": "markdown",
      "metadata": {
        "id": "n_Lu9RzvRVlR"
      },
      "source": [
        "## Preprocess Data for LSTM"
      ]
    },
    {
      "cell_type": "code",
      "execution_count": 19,
      "metadata": {
        "id": "5xLemKkJPfuB"
      },
      "outputs": [],
      "source": [
        "from sklearn.preprocessing import MinMaxScaler\n",
        "import numpy as np\n",
        "\n",
        "scaler = MinMaxScaler()\n",
        "scaled_train = scaler.fit_transform(train[['Close_diff']])\n",
        "\n",
        "def create_sequences(data, seq_length):\n",
        "    X, y = [], []\n",
        "    for i in range(len(data) - seq_length):\n",
        "        X.append(data[i:i+seq_length])\n",
        "        y.append(data[i+seq_length])\n",
        "    return np.array(X), np.array(y)\n",
        "\n",
        "seq_length = 60\n",
        "X_train, y_train = create_sequences(scaled_train, seq_length)"
      ]
    },
    {
      "cell_type": "markdown",
      "metadata": {
        "id": "jA6f-9t1RNpS"
      },
      "source": [
        "## Build LSTM Model:"
      ]
    },
    {
      "cell_type": "code",
      "execution_count": 20,
      "metadata": {
        "colab": {
          "base_uri": "https://localhost:8080/"
        },
        "id": "QciN6nBaPfkz",
        "outputId": "fcfb6b59-ed32-4a6c-832f-95b53fbd7b38"
      },
      "outputs": [
        {
          "name": "stderr",
          "output_type": "stream",
          "text": [
            "c:\\Users\\Maintenant prêt\\Desktop\\STOCK\\env\\Lib\\site-packages\\keras\\src\\layers\\rnn\\rnn.py:200: UserWarning: Do not pass an `input_shape`/`input_dim` argument to a layer. When using Sequential models, prefer using an `Input(shape)` object as the first layer in the model instead.\n",
            "  super().__init__(**kwargs)\n"
          ]
        }
      ],
      "source": [
        "model_lstm = Sequential()\n",
        "model_lstm.add(LSTM(50, return_sequences=True, input_shape=(seq_length, 1)))\n",
        "model_lstm.add(LSTM(50))\n",
        "model_lstm.add(Dense(1))\n",
        "model_lstm.compile(optimizer='adam', loss='mse')"
      ]
    },
    {
      "cell_type": "markdown",
      "metadata": {
        "id": "TSnqSLHzREHS"
      },
      "source": [
        "## Train LSTM Model"
      ]
    },
    {
      "cell_type": "code",
      "execution_count": 21,
      "metadata": {
        "colab": {
          "base_uri": "https://localhost:8080/"
        },
        "id": "ij-gditQOb4Z",
        "outputId": "878c5b9a-2d3a-4457-d4d9-087f8a379c2b"
      },
      "outputs": [
        {
          "name": "stdout",
          "output_type": "stream",
          "text": [
            "Epoch 1/10\n",
            "\u001b[1m575/575\u001b[0m \u001b[32m━━━━━━━━━━━━━━━━━━━━\u001b[0m\u001b[37m\u001b[0m \u001b[1m14s\u001b[0m 20ms/step - loss: 0.0137\n",
            "Epoch 2/10\n",
            "\u001b[1m575/575\u001b[0m \u001b[32m━━━━━━━━━━━━━━━━━━━━\u001b[0m\u001b[37m\u001b[0m \u001b[1m13s\u001b[0m 22ms/step - loss: 5.0292e-04\n",
            "Epoch 3/10\n",
            "\u001b[1m575/575\u001b[0m \u001b[32m━━━━━━━━━━━━━━━━━━━━\u001b[0m\u001b[37m\u001b[0m \u001b[1m13s\u001b[0m 23ms/step - loss: 4.9706e-04\n",
            "Epoch 4/10\n",
            "\u001b[1m575/575\u001b[0m \u001b[32m━━━━━━━━━━━━━━━━━━━━\u001b[0m\u001b[37m\u001b[0m \u001b[1m15s\u001b[0m 26ms/step - loss: 5.0651e-04\n",
            "Epoch 5/10\n",
            "\u001b[1m575/575\u001b[0m \u001b[32m━━━━━━━━━━━━━━━━━━━━\u001b[0m\u001b[37m\u001b[0m \u001b[1m45s\u001b[0m 78ms/step - loss: 5.1934e-04\n",
            "Epoch 6/10\n",
            "\u001b[1m575/575\u001b[0m \u001b[32m━━━━━━━━━━━━━━━━━━━━\u001b[0m\u001b[37m\u001b[0m \u001b[1m18s\u001b[0m 31ms/step - loss: 5.1346e-04\n",
            "Epoch 7/10\n",
            "\u001b[1m575/575\u001b[0m \u001b[32m━━━━━━━━━━━━━━━━━━━━\u001b[0m\u001b[37m\u001b[0m \u001b[1m18s\u001b[0m 31ms/step - loss: 6.3166e-04\n",
            "Epoch 8/10\n",
            "\u001b[1m575/575\u001b[0m \u001b[32m━━━━━━━━━━━━━━━━━━━━\u001b[0m\u001b[37m\u001b[0m \u001b[1m18s\u001b[0m 32ms/step - loss: 5.6369e-04\n",
            "Epoch 9/10\n",
            "\u001b[1m575/575\u001b[0m \u001b[32m━━━━━━━━━━━━━━━━━━━━\u001b[0m\u001b[37m\u001b[0m \u001b[1m16s\u001b[0m 26ms/step - loss: 5.3169e-04\n",
            "Epoch 10/10\n",
            "\u001b[1m575/575\u001b[0m \u001b[32m━━━━━━━━━━━━━━━━━━━━\u001b[0m\u001b[37m\u001b[0m \u001b[1m16s\u001b[0m 27ms/step - loss: 5.5100e-04\n"
          ]
        },
        {
          "data": {
            "text/plain": [
              "<keras.src.callbacks.history.History at 0x1df4ab6a420>"
            ]
          },
          "execution_count": 21,
          "metadata": {},
          "output_type": "execute_result"
        }
      ],
      "source": [
        "model_lstm.fit(X_train, y_train, epochs=10, batch_size=32)"
      ]
    },
    {
      "cell_type": "markdown",
      "metadata": {
        "id": "s5SOFveiRJ3E"
      },
      "source": [
        "## Forecast and Evaluate"
      ]
    },
    {
      "cell_type": "code",
      "execution_count": 22,
      "metadata": {
        "colab": {
          "base_uri": "https://localhost:8080/"
        },
        "id": "B28q2B_mOb1i",
        "outputId": "53b9cf58-25e2-4fe8-f8dc-22bd4853bd24"
      },
      "outputs": [
        {
          "name": "stdout",
          "output_type": "stream",
          "text": [
            "\u001b[1m143/143\u001b[0m \u001b[32m━━━━━━━━━━━━━━━━━━━━\u001b[0m\u001b[37m\u001b[0m \u001b[1m2s\u001b[0m 12ms/step\n"
          ]
        }
      ],
      "source": [
        "scaled_test = scaler.transform(test[['Close_diff']])\n",
        "X_test, y_test = create_sequences(scaled_test, seq_length)\n",
        "predictions = model_lstm.predict(X_test)\n",
        "predictions = scaler.inverse_transform(predictions)\n"
      ]
    },
    {
      "cell_type": "code",
      "execution_count": 23,
      "metadata": {
        "colab": {
          "base_uri": "https://localhost:8080/"
        },
        "id": "Q_jwg4Q3Heqy",
        "outputId": "1893b133-4a06-43e2-ff77-0cd68441bfe2"
      },
      "outputs": [
        {
          "name": "stdout",
          "output_type": "stream",
          "text": [
            "LSTM MAE: 0.6108196973800659, RMSE: 1.089331010640523\n"
          ]
        }
      ],
      "source": [
        "mae_lstm = mean_absolute_error(test[seq_length:], predictions)\n",
        "rmse_lstm = np.sqrt(mean_squared_error(test[seq_length:], predictions))\n",
        "print(f'LSTM MAE: {mae_lstm}, RMSE: {rmse_lstm}')"
      ]
    },
    {
      "cell_type": "markdown",
      "metadata": {
        "id": "W-3Ya83PRbnC"
      },
      "source": [
        "# Prophet Model"
      ]
    },
    {
      "cell_type": "markdown",
      "metadata": {
        "id": "NQ49KW6sRhe6"
      },
      "source": [
        "## Prepare Data for Prophet"
      ]
    },
    {
      "cell_type": "code",
      "execution_count": 24,
      "metadata": {
        "id": "MxVeVeWMReis"
      },
      "outputs": [],
      "source": [
        "train_prophet = train.reset_index()[['Date', 'Close_diff']].rename(columns={'Date': 'ds', 'Close': 'y'})"
      ]
    },
    {
      "cell_type": "markdown",
      "metadata": {
        "id": "37dXjAzoRpQ5"
      },
      "source": [
        "## Fit Prophet Model"
      ]
    },
    {
      "cell_type": "code",
      "execution_count": 26,
      "metadata": {
        "colab": {
          "base_uri": "https://localhost:8080/"
        },
        "id": "YqeL3bklUvBx",
        "outputId": "75e329fd-1665-4f36-f03d-173de41dfbf8"
      },
      "outputs": [
        {
          "name": "stderr",
          "output_type": "stream",
          "text": [
            "c:\\Users\\Maintenant prêt\\Desktop\\STOCK\\env\\Lib\\site-packages\\tqdm\\auto.py:21: TqdmWarning: IProgress not found. Please update jupyter and ipywidgets. See https://ipywidgets.readthedocs.io/en/stable/user_install.html\n",
            "  from .autonotebook import tqdm as notebook_tqdm\n",
            "Importing plotly failed. Interactive plots will not work.\n",
            "07:21:03 - cmdstanpy - INFO - Chain [1] start processing\n",
            "07:21:05 - cmdstanpy - INFO - Chain [1] done processing\n"
          ]
        },
        {
          "data": {
            "text/plain": [
              "<prophet.forecaster.Prophet at 0x1df5dbe5fa0>"
            ]
          },
          "execution_count": 26,
          "metadata": {},
          "output_type": "execute_result"
        }
      ],
      "source": [
        "\n",
        "train_prophet = train.reset_index()[['Date', 'Close_diff']].rename(columns={'Date': 'ds', 'Close_diff': 'y'})\n",
        "\n",
        "# Remove timezone information from the 'ds' column\n",
        "train_prophet['ds'] = train_prophet['ds'].dt.tz_localize(None)\n",
        "\n",
        "model_prophet = Prophet()\n",
        "model_prophet.fit(train_prophet)"
      ]
    },
    {
      "cell_type": "markdown",
      "metadata": {
        "id": "DIqlzutiRuxx"
      },
      "source": [
        "## Forecast and Evaluate:"
      ]
    },
    {
      "cell_type": "code",
      "execution_count": 27,
      "metadata": {
        "colab": {
          "base_uri": "https://localhost:8080/"
        },
        "id": "xqj9mnaqRfoh",
        "outputId": "b0d4f50e-85de-4b23-dace-82da85a64429"
      },
      "outputs": [
        {
          "name": "stderr",
          "output_type": "stream",
          "text": [
            "c:\\Users\\Maintenant prêt\\Desktop\\STOCK\\env\\Lib\\site-packages\\prophet\\forecaster.py:1854: FutureWarning: 'H' is deprecated and will be removed in a future version, please use 'h' instead.\n",
            "  dates = pd.date_range(\n"
          ]
        }
      ],
      "source": [
        "future = model_prophet.make_future_dataframe(periods=len(test), freq='H')\n",
        "forecast = model_prophet.predict(future)\n",
        "forecast = forecast.iloc[-len(test):]\n",
        "\n",
        "#mae = mean_absolute_error(test['Close_diff'], forecast['yhat'])\n",
        "#print('Prophet MAE:', mae)"
      ]
    },
    {
      "cell_type": "code",
      "execution_count": 28,
      "metadata": {
        "colab": {
          "base_uri": "https://localhost:8080/"
        },
        "id": "2Kkj3FqbgRAI",
        "outputId": "c931af33-afd1-4b4f-9942-57100235325a"
      },
      "outputs": [
        {
          "name": "stdout",
          "output_type": "stream",
          "text": [
            "Prophet MAE: 0.5867944905885124\n",
            "Prophet RMSE: 1.0802331411369972\n"
          ]
        }
      ],
      "source": [
        "# evaluate with MAE and RMSE\n",
        "mae = mean_absolute_error(test['Close_diff'], forecast['yhat'])\n",
        "rmse = np.sqrt(mean_squared_error(test['Close_diff'], forecast['yhat']))\n",
        "print('Prophet MAE:', mae)\n",
        "print('Prophet RMSE:', rmse)"
      ]
    },
    {
      "cell_type": "markdown",
      "metadata": {
        "id": "GM_mnrQVR0Z6"
      },
      "source": [
        "# Compare Models"
      ]
    },
    {
      "cell_type": "code",
      "execution_count": 29,
      "metadata": {
        "colab": {
          "base_uri": "https://localhost:8080/",
          "height": 545
        },
        "id": "g5Ckr7jEhMXW",
        "outputId": "7f2f66bd-f2da-497c-874e-8564471c40e8"
      },
      "outputs": [
        {
          "data": {
            "image/png": "[encoded data removed]",
            "text/plain": [
              "<Figure size 1200x600 with 1 Axes>"
            ]
          },
          "metadata": {},
          "output_type": "display_data"
        }
      ],
      "source": [
        "# Adjust the plotting to use the same range for all data\n",
        "plt.figure(figsize=(12, 6))\n",
        "\n",
        "# Slice test['Close'] to match the length of predictions for LSTM\n",
        "plt.plot(test.index[seq_length:], test['Close_diff'].iloc[seq_length:], label='Actual')\n",
        "\n",
        "plt.plot(test.index[seq_length:], arima_forecast[seq_length:], label='ARIMA')\n",
        "\n",
        "plt.plot(test.index[seq_length:], predictions[:, 0], label='LSTM')  # Extract the first column of predictions\n",
        "\n",
        "plt.plot(test.index[seq_length:], forecast['yhat'].iloc[seq_length:], label='Prophet')  # Slice forecast['yhat']\n",
        "\n",
        "plt.legend()\n",
        "plt.title('Model Comparison')\n",
        "plt.show()"
      ]
    },
    {
      "cell_type": "code",
      "execution_count": 37,
      "metadata": {
        "id": "xFui9BS6Rffp"
      },
      "outputs": [],
      "source": [
        "# compare the model in tabel form\n",
        "models = ['ARIMA', 'LSTM', 'Prophet']\n",
        "maes = [mae_arima, mae_lstm, mae]\n",
        "rmses = [rmse_arima, rmse_lstm, rmse]\n"
      ]
    },
    {
      "cell_type": "code",
      "execution_count": 38,
      "metadata": {
        "colab": {
          "base_uri": "https://localhost:8080/"
        },
        "id": "_6L268X4Rfcy",
        "outputId": "253b1c5c-7cf4-46be-8682-d47484adfe25"
      },
      "outputs": [
        {
          "name": "stdout",
          "output_type": "stream",
          "text": [
            "     Model       MAE      RMSE\n",
            "0    ARIMA  0.585568  1.080379\n",
            "1     LSTM  0.705834  1.122864\n",
            "2  Prophet  0.586795  1.080233\n"
          ]
        }
      ],
      "source": [
        "data = {'Model': models, 'MAE': maes, 'RMSE': rmses}\n",
        "df_compare = pd.DataFrame(data)\n",
        "\n",
        "print(df_compare)"
      ]
    },
    {
      "cell_type": "code",
      "execution_count": null,
      "metadata": {
        "id": "pl6dYuKEhjxV"
      },
      "outputs": [],
      "source": []
    }
  ],
  "metadata": {
    "colab": {
      "provenance": []
    },
    "kernelspec": {
      "display_name": "env",
      "language": "python",
      "name": "python3"
    },
    "language_info": {
      "codemirror_mode": {
        "name": "ipython",
        "version": 3
      },
      "file_extension": ".py",
      "mimetype": "text/x-python",
      "name": "python",
      "nbconvert_exporter": "python",
      "pygments_lexer": "ipython3",
      "version": "3.12.4"
    }
  },
  "nbformat": 4,
  "nbformat_minor": 0
}
