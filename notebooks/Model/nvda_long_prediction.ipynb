{
  "cells": [
    {
      "cell_type": "code",
      "execution_count": 1,
      "metadata": {
        "id": "MQij8trIN6CZ"
      },
      "outputs": [
        {
          "name": "stderr",
          "output_type": "stream",
          "text": [
            "c:\\Users\\Maintenant prêt\\Desktop\\STOCK\\env\\Lib\\site-packages\\tqdm\\auto.py:21: TqdmWarning: IProgress not found. Please update jupyter and ipywidgets. See https://ipywidgets.readthedocs.io/en/stable/user_install.html\n",
            "  from .autonotebook import tqdm as notebook_tqdm\n",
            "Importing plotly failed. Interactive plots will not work.\n"
          ]
        }
      ],
      "source": [
        "import pandas as pd\n",
        "import numpy as np\n",
        "import matplotlib.pyplot as plt\n",
        "import seaborn as sns\n",
        "from prophet import Prophet\n",
        "from statsmodels.tsa.stattools import adfuller\n",
        "from statsmodels.tsa.arima.model import ARIMA\n",
        "from tensorflow.keras.models import Sequential\n",
        "from tensorflow.keras.layers import LSTM, Dense\n",
        "from sklearn.preprocessing import MinMaxScaler\n",
        "from sklearn.metrics import mean_absolute_error, mean_squared_error"
      ]
    },
    {
      "cell_type": "code",
      "execution_count": 2,
      "metadata": {
        "id": "wNNlKZLtODiV"
      },
      "outputs": [],
      "source": [
        "data = pd.read_csv(r'C:\\Users\\Maintenant prêt\\Desktop\\STOCK\\Data\\nvda_long_data.csv')"
      ]
    },
    {
      "cell_type": "code",
      "execution_count": 3,
      "metadata": {
        "colab": {
          "base_uri": "https://localhost:8080/",
          "height": 424
        },
        "id": "tKgl-HdhONTv",
        "outputId": "aebf23ae-6973-452f-a409-602410c376fb"
      },
      "outputs": [
        {
          "data": {
            "text/html": [
              "<div>\n",
              "<style scoped>\n",
              "    .dataframe tbody tr th:only-of-type {\n",
              "        vertical-align: middle;\n",
              "    }\n",
              "\n",
              "    .dataframe tbody tr th {\n",
              "        vertical-align: top;\n",
              "    }\n",
              "\n",
              "    .dataframe thead th {\n",
              "        text-align: right;\n",
              "    }\n",
              "</style>\n",
              "<table border=\"1\" class=\"dataframe\">\n",
              "  <thead>\n",
              "    <tr style=\"text-align: right;\">\n",
              "      <th></th>\n",
              "      <th>Date</th>\n",
              "      <th>Close</th>\n",
              "      <th>High</th>\n",
              "      <th>Low</th>\n",
              "      <th>Open</th>\n",
              "      <th>Volume</th>\n",
              "    </tr>\n",
              "  </thead>\n",
              "  <tbody>\n",
              "    <tr>\n",
              "      <th>0</th>\n",
              "      <td>1999-01-22</td>\n",
              "      <td>0.037615</td>\n",
              "      <td>0.044779</td>\n",
              "      <td>0.035585</td>\n",
              "      <td>0.040122</td>\n",
              "      <td>2714688000</td>\n",
              "    </tr>\n",
              "    <tr>\n",
              "      <th>1</th>\n",
              "      <td>1999-01-25</td>\n",
              "      <td>0.041556</td>\n",
              "      <td>0.042033</td>\n",
              "      <td>0.037615</td>\n",
              "      <td>0.040600</td>\n",
              "      <td>510480000</td>\n",
              "    </tr>\n",
              "    <tr>\n",
              "      <th>2</th>\n",
              "      <td>1999-01-26</td>\n",
              "      <td>0.038331</td>\n",
              "      <td>0.042869</td>\n",
              "      <td>0.037734</td>\n",
              "      <td>0.042033</td>\n",
              "      <td>343200000</td>\n",
              "    </tr>\n",
              "    <tr>\n",
              "      <th>3</th>\n",
              "      <td>1999-01-27</td>\n",
              "      <td>0.038212</td>\n",
              "      <td>0.039406</td>\n",
              "      <td>0.036301</td>\n",
              "      <td>0.038451</td>\n",
              "      <td>244368000</td>\n",
              "    </tr>\n",
              "    <tr>\n",
              "      <th>4</th>\n",
              "      <td>1999-01-28</td>\n",
              "      <td>0.038092</td>\n",
              "      <td>0.038451</td>\n",
              "      <td>0.037854</td>\n",
              "      <td>0.038212</td>\n",
              "      <td>227520000</td>\n",
              "    </tr>\n",
              "    <tr>\n",
              "      <th>...</th>\n",
              "      <td>...</td>\n",
              "      <td>...</td>\n",
              "      <td>...</td>\n",
              "      <td>...</td>\n",
              "      <td>...</td>\n",
              "      <td>...</td>\n",
              "    </tr>\n",
              "    <tr>\n",
              "      <th>6541</th>\n",
              "      <td>2025-01-23</td>\n",
              "      <td>147.220001</td>\n",
              "      <td>147.229996</td>\n",
              "      <td>143.720001</td>\n",
              "      <td>145.050003</td>\n",
              "      <td>155915500</td>\n",
              "    </tr>\n",
              "    <tr>\n",
              "      <th>6542</th>\n",
              "      <td>2025-01-24</td>\n",
              "      <td>142.619995</td>\n",
              "      <td>148.970001</td>\n",
              "      <td>141.880005</td>\n",
              "      <td>148.369995</td>\n",
              "      <td>234657600</td>\n",
              "    </tr>\n",
              "    <tr>\n",
              "      <th>6543</th>\n",
              "      <td>2025-01-27</td>\n",
              "      <td>118.419998</td>\n",
              "      <td>128.399994</td>\n",
              "      <td>116.699997</td>\n",
              "      <td>124.800003</td>\n",
              "      <td>818830900</td>\n",
              "    </tr>\n",
              "    <tr>\n",
              "      <th>6544</th>\n",
              "      <td>2025-01-28</td>\n",
              "      <td>128.990005</td>\n",
              "      <td>129.000000</td>\n",
              "      <td>116.250000</td>\n",
              "      <td>121.809998</td>\n",
              "      <td>579666400</td>\n",
              "    </tr>\n",
              "    <tr>\n",
              "      <th>6545</th>\n",
              "      <td>2025-01-29</td>\n",
              "      <td>123.699997</td>\n",
              "      <td>126.889999</td>\n",
              "      <td>120.050003</td>\n",
              "      <td>126.500000</td>\n",
              "      <td>461708800</td>\n",
              "    </tr>\n",
              "  </tbody>\n",
              "</table>\n",
              "<p>6546 rows × 6 columns</p>\n",
              "</div>"
            ],
            "text/plain": [
              "            Date       Close        High         Low        Open      Volume\n",
              "0     1999-01-22    0.037615    0.044779    0.035585    0.040122  2714688000\n",
              "1     1999-01-25    0.041556    0.042033    0.037615    0.040600   510480000\n",
              "2     1999-01-26    0.038331    0.042869    0.037734    0.042033   343200000\n",
              "3     1999-01-27    0.038212    0.039406    0.036301    0.038451   244368000\n",
              "4     1999-01-28    0.038092    0.038451    0.037854    0.038212   227520000\n",
              "...          ...         ...         ...         ...         ...         ...\n",
              "6541  2025-01-23  147.220001  147.229996  143.720001  145.050003   155915500\n",
              "6542  2025-01-24  142.619995  148.970001  141.880005  148.369995   234657600\n",
              "6543  2025-01-27  118.419998  128.399994  116.699997  124.800003   818830900\n",
              "6544  2025-01-28  128.990005  129.000000  116.250000  121.809998   579666400\n",
              "6545  2025-01-29  123.699997  126.889999  120.050003  126.500000   461708800\n",
              "\n",
              "[6546 rows x 6 columns]"
            ]
          },
          "execution_count": 3,
          "metadata": {},
          "output_type": "execute_result"
        }
      ],
      "source": [
        "data"
      ]
    },
    {
      "cell_type": "code",
      "execution_count": 4,
      "metadata": {
        "id": "F0jH3qyeOOx2"
      },
      "outputs": [],
      "source": [
        "data['Date'] = pd.to_datetime(data['Date'])\n",
        "data.set_index('Date', inplace=True)"
      ]
    },
    {
      "cell_type": "code",
      "execution_count": 5,
      "metadata": {
        "colab": {
          "base_uri": "https://localhost:8080/",
          "height": 455
        },
        "id": "b16oH163OTzC",
        "outputId": "3f96a4cf-8348-4792-892e-d2eaaaeea409"
      },
      "outputs": [
        {
          "data": {
            "text/html": [
              "<div>\n",
              "<style scoped>\n",
              "    .dataframe tbody tr th:only-of-type {\n",
              "        vertical-align: middle;\n",
              "    }\n",
              "\n",
              "    .dataframe tbody tr th {\n",
              "        vertical-align: top;\n",
              "    }\n",
              "\n",
              "    .dataframe thead th {\n",
              "        text-align: right;\n",
              "    }\n",
              "</style>\n",
              "<table border=\"1\" class=\"dataframe\">\n",
              "  <thead>\n",
              "    <tr style=\"text-align: right;\">\n",
              "      <th></th>\n",
              "      <th>Close</th>\n",
              "      <th>High</th>\n",
              "      <th>Low</th>\n",
              "      <th>Open</th>\n",
              "      <th>Volume</th>\n",
              "    </tr>\n",
              "    <tr>\n",
              "      <th>Date</th>\n",
              "      <th></th>\n",
              "      <th></th>\n",
              "      <th></th>\n",
              "      <th></th>\n",
              "      <th></th>\n",
              "    </tr>\n",
              "  </thead>\n",
              "  <tbody>\n",
              "    <tr>\n",
              "      <th>1999-01-22</th>\n",
              "      <td>0.037615</td>\n",
              "      <td>0.044779</td>\n",
              "      <td>0.035585</td>\n",
              "      <td>0.040122</td>\n",
              "      <td>2714688000</td>\n",
              "    </tr>\n",
              "    <tr>\n",
              "      <th>1999-01-25</th>\n",
              "      <td>0.041556</td>\n",
              "      <td>0.042033</td>\n",
              "      <td>0.037615</td>\n",
              "      <td>0.040600</td>\n",
              "      <td>510480000</td>\n",
              "    </tr>\n",
              "    <tr>\n",
              "      <th>1999-01-26</th>\n",
              "      <td>0.038331</td>\n",
              "      <td>0.042869</td>\n",
              "      <td>0.037734</td>\n",
              "      <td>0.042033</td>\n",
              "      <td>343200000</td>\n",
              "    </tr>\n",
              "    <tr>\n",
              "      <th>1999-01-27</th>\n",
              "      <td>0.038212</td>\n",
              "      <td>0.039406</td>\n",
              "      <td>0.036301</td>\n",
              "      <td>0.038451</td>\n",
              "      <td>244368000</td>\n",
              "    </tr>\n",
              "    <tr>\n",
              "      <th>1999-01-28</th>\n",
              "      <td>0.038092</td>\n",
              "      <td>0.038451</td>\n",
              "      <td>0.037854</td>\n",
              "      <td>0.038212</td>\n",
              "      <td>227520000</td>\n",
              "    </tr>\n",
              "    <tr>\n",
              "      <th>...</th>\n",
              "      <td>...</td>\n",
              "      <td>...</td>\n",
              "      <td>...</td>\n",
              "      <td>...</td>\n",
              "      <td>...</td>\n",
              "    </tr>\n",
              "    <tr>\n",
              "      <th>2025-01-23</th>\n",
              "      <td>147.220001</td>\n",
              "      <td>147.229996</td>\n",
              "      <td>143.720001</td>\n",
              "      <td>145.050003</td>\n",
              "      <td>155915500</td>\n",
              "    </tr>\n",
              "    <tr>\n",
              "      <th>2025-01-24</th>\n",
              "      <td>142.619995</td>\n",
              "      <td>148.970001</td>\n",
              "      <td>141.880005</td>\n",
              "      <td>148.369995</td>\n",
              "      <td>234657600</td>\n",
              "    </tr>\n",
              "    <tr>\n",
              "      <th>2025-01-27</th>\n",
              "      <td>118.419998</td>\n",
              "      <td>128.399994</td>\n",
              "      <td>116.699997</td>\n",
              "      <td>124.800003</td>\n",
              "      <td>818830900</td>\n",
              "    </tr>\n",
              "    <tr>\n",
              "      <th>2025-01-28</th>\n",
              "      <td>128.990005</td>\n",
              "      <td>129.000000</td>\n",
              "      <td>116.250000</td>\n",
              "      <td>121.809998</td>\n",
              "      <td>579666400</td>\n",
              "    </tr>\n",
              "    <tr>\n",
              "      <th>2025-01-29</th>\n",
              "      <td>123.699997</td>\n",
              "      <td>126.889999</td>\n",
              "      <td>120.050003</td>\n",
              "      <td>126.500000</td>\n",
              "      <td>461708800</td>\n",
              "    </tr>\n",
              "  </tbody>\n",
              "</table>\n",
              "<p>6546 rows × 5 columns</p>\n",
              "</div>"
            ],
            "text/plain": [
              "                 Close        High         Low        Open      Volume\n",
              "Date                                                                  \n",
              "1999-01-22    0.037615    0.044779    0.035585    0.040122  2714688000\n",
              "1999-01-25    0.041556    0.042033    0.037615    0.040600   510480000\n",
              "1999-01-26    0.038331    0.042869    0.037734    0.042033   343200000\n",
              "1999-01-27    0.038212    0.039406    0.036301    0.038451   244368000\n",
              "1999-01-28    0.038092    0.038451    0.037854    0.038212   227520000\n",
              "...                ...         ...         ...         ...         ...\n",
              "2025-01-23  147.220001  147.229996  143.720001  145.050003   155915500\n",
              "2025-01-24  142.619995  148.970001  141.880005  148.369995   234657600\n",
              "2025-01-27  118.419998  128.399994  116.699997  124.800003   818830900\n",
              "2025-01-28  128.990005  129.000000  116.250000  121.809998   579666400\n",
              "2025-01-29  123.699997  126.889999  120.050003  126.500000   461708800\n",
              "\n",
              "[6546 rows x 5 columns]"
            ]
          },
          "execution_count": 5,
          "metadata": {},
          "output_type": "execute_result"
        }
      ],
      "source": [
        "data"
      ]
    },
    {
      "cell_type": "code",
      "execution_count": 6,
      "metadata": {
        "colab": {
          "base_uri": "https://localhost:8080/"
        },
        "id": "xSTLp4227ygf",
        "outputId": "ebc491c2-5d74-497d-b3ca-8ff34309f4f3"
      },
      "outputs": [
        {
          "name": "stdout",
          "output_type": "stream",
          "text": [
            "None\n"
          ]
        }
      ],
      "source": [
        "# check the frequency\n",
        "print(data.index.freq)"
      ]
    },
    {
      "cell_type": "code",
      "execution_count": 7,
      "metadata": {
        "id": "eDG043rm8cBq"
      },
      "outputs": [],
      "source": [
        "# Set the frequency to daily\n",
        "data = data.resample('D').ffill()"
      ]
    },
    {
      "cell_type": "code",
      "execution_count": 8,
      "metadata": {
        "colab": {
          "base_uri": "https://localhost:8080/"
        },
        "id": "Tj3GUrZU8drR",
        "outputId": "6655f08d-7ccc-442b-d35f-0bd3b8e4c734"
      },
      "outputs": [
        {
          "name": "stdout",
          "output_type": "stream",
          "text": [
            "<Day>\n"
          ]
        }
      ],
      "source": [
        "print(data.index.freq)"
      ]
    },
    {
      "cell_type": "code",
      "execution_count": 9,
      "metadata": {
        "colab": {
          "base_uri": "https://localhost:8080/",
          "height": 241
        },
        "id": "dIe7a0yNOcGL",
        "outputId": "ab9a0f44-8cb3-4e9f-d690-964e9f279239"
      },
      "outputs": [
        {
          "data": {
            "text/plain": [
              "Close     0\n",
              "High      0\n",
              "Low       0\n",
              "Open      0\n",
              "Volume    0\n",
              "dtype: int64"
            ]
          },
          "execution_count": 9,
          "metadata": {},
          "output_type": "execute_result"
        }
      ],
      "source": [
        "# check for missing\n",
        "data.isnull().sum()"
      ]
    },
    {
      "cell_type": "markdown",
      "metadata": {
        "id": "LN3jrBX5-535"
      },
      "source": [
        "## Stationarity Check"
      ]
    },
    {
      "cell_type": "code",
      "execution_count": 10,
      "metadata": {
        "colab": {
          "base_uri": "https://localhost:8080/"
        },
        "id": "koMuRM7JOcAy",
        "outputId": "e340db35-27fe-478b-a28b-3cb6bce68384"
      },
      "outputs": [
        {
          "name": "stdout",
          "output_type": "stream",
          "text": [
            "ADF Statistic: 4.086889641561298\n",
            "p-value: 1.0\n",
            "Critical Values:\n",
            "   1%: -3.431041007202659\n",
            "   5%: -2.861845382181689\n",
            "   10%: -2.56693254983586\n",
            "The data is non-stationary (fail to reject the null hypothesis).\n"
          ]
        }
      ],
      "source": [
        "# Perform ADF test\n",
        "result = adfuller(data['Close'])\n",
        "print('ADF Statistic:', result[0])\n",
        "print('p-value:', result[1])\n",
        "print('Critical Values:')\n",
        "for key, value in result[4].items():\n",
        "    print(f'   {key}: {value}')\n",
        "\n",
        "# Interpret the result\n",
        "if result[1] <= 0.05:\n",
        "    print(\"The data is stationary (reject the null hypothesis).\")\n",
        "else:\n",
        "    print(\"The data is non-stationary (fail to reject the null hypothesis).\")"
      ]
    },
    {
      "cell_type": "code",
      "execution_count": 11,
      "metadata": {
        "id": "npeMh5Oc9KIJ"
      },
      "outputs": [],
      "source": [
        "# Apply differencing\n",
        "data['Close_diff'] = data['Close'].diff().dropna()"
      ]
    },
    {
      "cell_type": "code",
      "execution_count": 12,
      "metadata": {
        "colab": {
          "base_uri": "https://localhost:8080/",
          "height": 455
        },
        "id": "8X-1Hty5961M",
        "outputId": "da680875-6793-4b21-bfdc-5eed69931386"
      },
      "outputs": [
        {
          "data": {
            "text/html": [
              "<div>\n",
              "<style scoped>\n",
              "    .dataframe tbody tr th:only-of-type {\n",
              "        vertical-align: middle;\n",
              "    }\n",
              "\n",
              "    .dataframe tbody tr th {\n",
              "        vertical-align: top;\n",
              "    }\n",
              "\n",
              "    .dataframe thead th {\n",
              "        text-align: right;\n",
              "    }\n",
              "</style>\n",
              "<table border=\"1\" class=\"dataframe\">\n",
              "  <thead>\n",
              "    <tr style=\"text-align: right;\">\n",
              "      <th></th>\n",
              "      <th>Close</th>\n",
              "      <th>High</th>\n",
              "      <th>Low</th>\n",
              "      <th>Open</th>\n",
              "      <th>Volume</th>\n",
              "      <th>Close_diff</th>\n",
              "    </tr>\n",
              "    <tr>\n",
              "      <th>Date</th>\n",
              "      <th></th>\n",
              "      <th></th>\n",
              "      <th></th>\n",
              "      <th></th>\n",
              "      <th></th>\n",
              "      <th></th>\n",
              "    </tr>\n",
              "  </thead>\n",
              "  <tbody>\n",
              "    <tr>\n",
              "      <th>1999-01-22</th>\n",
              "      <td>0.037615</td>\n",
              "      <td>0.044779</td>\n",
              "      <td>0.035585</td>\n",
              "      <td>0.040122</td>\n",
              "      <td>2714688000</td>\n",
              "      <td>NaN</td>\n",
              "    </tr>\n",
              "    <tr>\n",
              "      <th>1999-01-23</th>\n",
              "      <td>0.037615</td>\n",
              "      <td>0.044779</td>\n",
              "      <td>0.035585</td>\n",
              "      <td>0.040122</td>\n",
              "      <td>2714688000</td>\n",
              "      <td>0.000000</td>\n",
              "    </tr>\n",
              "    <tr>\n",
              "      <th>1999-01-24</th>\n",
              "      <td>0.037615</td>\n",
              "      <td>0.044779</td>\n",
              "      <td>0.035585</td>\n",
              "      <td>0.040122</td>\n",
              "      <td>2714688000</td>\n",
              "      <td>0.000000</td>\n",
              "    </tr>\n",
              "    <tr>\n",
              "      <th>1999-01-25</th>\n",
              "      <td>0.041556</td>\n",
              "      <td>0.042033</td>\n",
              "      <td>0.037615</td>\n",
              "      <td>0.040600</td>\n",
              "      <td>510480000</td>\n",
              "      <td>0.003941</td>\n",
              "    </tr>\n",
              "    <tr>\n",
              "      <th>1999-01-26</th>\n",
              "      <td>0.038331</td>\n",
              "      <td>0.042869</td>\n",
              "      <td>0.037734</td>\n",
              "      <td>0.042033</td>\n",
              "      <td>343200000</td>\n",
              "      <td>-0.003224</td>\n",
              "    </tr>\n",
              "    <tr>\n",
              "      <th>...</th>\n",
              "      <td>...</td>\n",
              "      <td>...</td>\n",
              "      <td>...</td>\n",
              "      <td>...</td>\n",
              "      <td>...</td>\n",
              "      <td>...</td>\n",
              "    </tr>\n",
              "    <tr>\n",
              "      <th>2025-01-25</th>\n",
              "      <td>142.619995</td>\n",
              "      <td>148.970001</td>\n",
              "      <td>141.880005</td>\n",
              "      <td>148.369995</td>\n",
              "      <td>234657600</td>\n",
              "      <td>0.000000</td>\n",
              "    </tr>\n",
              "    <tr>\n",
              "      <th>2025-01-26</th>\n",
              "      <td>142.619995</td>\n",
              "      <td>148.970001</td>\n",
              "      <td>141.880005</td>\n",
              "      <td>148.369995</td>\n",
              "      <td>234657600</td>\n",
              "      <td>0.000000</td>\n",
              "    </tr>\n",
              "    <tr>\n",
              "      <th>2025-01-27</th>\n",
              "      <td>118.419998</td>\n",
              "      <td>128.399994</td>\n",
              "      <td>116.699997</td>\n",
              "      <td>124.800003</td>\n",
              "      <td>818830900</td>\n",
              "      <td>-24.199997</td>\n",
              "    </tr>\n",
              "    <tr>\n",
              "      <th>2025-01-28</th>\n",
              "      <td>128.990005</td>\n",
              "      <td>129.000000</td>\n",
              "      <td>116.250000</td>\n",
              "      <td>121.809998</td>\n",
              "      <td>579666400</td>\n",
              "      <td>10.570007</td>\n",
              "    </tr>\n",
              "    <tr>\n",
              "      <th>2025-01-29</th>\n",
              "      <td>123.699997</td>\n",
              "      <td>126.889999</td>\n",
              "      <td>120.050003</td>\n",
              "      <td>126.500000</td>\n",
              "      <td>461708800</td>\n",
              "      <td>-5.290009</td>\n",
              "    </tr>\n",
              "  </tbody>\n",
              "</table>\n",
              "<p>9505 rows × 6 columns</p>\n",
              "</div>"
            ],
            "text/plain": [
              "                 Close        High         Low        Open      Volume  \\\n",
              "Date                                                                     \n",
              "1999-01-22    0.037615    0.044779    0.035585    0.040122  2714688000   \n",
              "1999-01-23    0.037615    0.044779    0.035585    0.040122  2714688000   \n",
              "1999-01-24    0.037615    0.044779    0.035585    0.040122  2714688000   \n",
              "1999-01-25    0.041556    0.042033    0.037615    0.040600   510480000   \n",
              "1999-01-26    0.038331    0.042869    0.037734    0.042033   343200000   \n",
              "...                ...         ...         ...         ...         ...   \n",
              "2025-01-25  142.619995  148.970001  141.880005  148.369995   234657600   \n",
              "2025-01-26  142.619995  148.970001  141.880005  148.369995   234657600   \n",
              "2025-01-27  118.419998  128.399994  116.699997  124.800003   818830900   \n",
              "2025-01-28  128.990005  129.000000  116.250000  121.809998   579666400   \n",
              "2025-01-29  123.699997  126.889999  120.050003  126.500000   461708800   \n",
              "\n",
              "            Close_diff  \n",
              "Date                    \n",
              "1999-01-22         NaN  \n",
              "1999-01-23    0.000000  \n",
              "1999-01-24    0.000000  \n",
              "1999-01-25    0.003941  \n",
              "1999-01-26   -0.003224  \n",
              "...                ...  \n",
              "2025-01-25    0.000000  \n",
              "2025-01-26    0.000000  \n",
              "2025-01-27  -24.199997  \n",
              "2025-01-28   10.570007  \n",
              "2025-01-29   -5.290009  \n",
              "\n",
              "[9505 rows x 6 columns]"
            ]
          },
          "execution_count": 12,
          "metadata": {},
          "output_type": "execute_result"
        }
      ],
      "source": [
        "data"
      ]
    },
    {
      "cell_type": "code",
      "execution_count": 13,
      "metadata": {
        "id": "9GySCBqW9-oE"
      },
      "outputs": [],
      "source": [
        "# drop Na from close_diff\n",
        "data.dropna(inplace=True)"
      ]
    },
    {
      "cell_type": "code",
      "execution_count": 14,
      "metadata": {
        "id": "3BKBMMO99nBi"
      },
      "outputs": [],
      "source": [
        "# Use only the 'Close_diff' column\n",
        "data = data[['Close_diff']]"
      ]
    },
    {
      "cell_type": "code",
      "execution_count": 15,
      "metadata": {
        "colab": {
          "base_uri": "https://localhost:8080/",
          "height": 455
        },
        "id": "SZGGcSLm9m1y",
        "outputId": "a62b3d4c-2149-46f0-f4a5-164d331010d1"
      },
      "outputs": [
        {
          "data": {
            "text/html": [
              "<div>\n",
              "<style scoped>\n",
              "    .dataframe tbody tr th:only-of-type {\n",
              "        vertical-align: middle;\n",
              "    }\n",
              "\n",
              "    .dataframe tbody tr th {\n",
              "        vertical-align: top;\n",
              "    }\n",
              "\n",
              "    .dataframe thead th {\n",
              "        text-align: right;\n",
              "    }\n",
              "</style>\n",
              "<table border=\"1\" class=\"dataframe\">\n",
              "  <thead>\n",
              "    <tr style=\"text-align: right;\">\n",
              "      <th></th>\n",
              "      <th>Close_diff</th>\n",
              "    </tr>\n",
              "    <tr>\n",
              "      <th>Date</th>\n",
              "      <th></th>\n",
              "    </tr>\n",
              "  </thead>\n",
              "  <tbody>\n",
              "    <tr>\n",
              "      <th>1999-01-23</th>\n",
              "      <td>0.000000</td>\n",
              "    </tr>\n",
              "    <tr>\n",
              "      <th>1999-01-24</th>\n",
              "      <td>0.000000</td>\n",
              "    </tr>\n",
              "    <tr>\n",
              "      <th>1999-01-25</th>\n",
              "      <td>0.003941</td>\n",
              "    </tr>\n",
              "    <tr>\n",
              "      <th>1999-01-26</th>\n",
              "      <td>-0.003224</td>\n",
              "    </tr>\n",
              "    <tr>\n",
              "      <th>1999-01-27</th>\n",
              "      <td>-0.000119</td>\n",
              "    </tr>\n",
              "    <tr>\n",
              "      <th>...</th>\n",
              "      <td>...</td>\n",
              "    </tr>\n",
              "    <tr>\n",
              "      <th>2025-01-25</th>\n",
              "      <td>0.000000</td>\n",
              "    </tr>\n",
              "    <tr>\n",
              "      <th>2025-01-26</th>\n",
              "      <td>0.000000</td>\n",
              "    </tr>\n",
              "    <tr>\n",
              "      <th>2025-01-27</th>\n",
              "      <td>-24.199997</td>\n",
              "    </tr>\n",
              "    <tr>\n",
              "      <th>2025-01-28</th>\n",
              "      <td>10.570007</td>\n",
              "    </tr>\n",
              "    <tr>\n",
              "      <th>2025-01-29</th>\n",
              "      <td>-5.290009</td>\n",
              "    </tr>\n",
              "  </tbody>\n",
              "</table>\n",
              "<p>9504 rows × 1 columns</p>\n",
              "</div>"
            ],
            "text/plain": [
              "            Close_diff\n",
              "Date                  \n",
              "1999-01-23    0.000000\n",
              "1999-01-24    0.000000\n",
              "1999-01-25    0.003941\n",
              "1999-01-26   -0.003224\n",
              "1999-01-27   -0.000119\n",
              "...                ...\n",
              "2025-01-25    0.000000\n",
              "2025-01-26    0.000000\n",
              "2025-01-27  -24.199997\n",
              "2025-01-28   10.570007\n",
              "2025-01-29   -5.290009\n",
              "\n",
              "[9504 rows x 1 columns]"
            ]
          },
          "execution_count": 15,
          "metadata": {},
          "output_type": "execute_result"
        }
      ],
      "source": [
        "data"
      ]
    },
    {
      "cell_type": "markdown",
      "metadata": {
        "id": "J7qKm1of_G0y"
      },
      "source": [
        "## Train-Test split"
      ]
    },
    {
      "cell_type": "code",
      "execution_count": 16,
      "metadata": {
        "id": "L6ugSvhvPocU"
      },
      "outputs": [],
      "source": [
        "train_size = int(len(data) * 0.8)\n",
        "train, test = data.iloc[:train_size], data.iloc[train_size:]"
      ]
    },
    {
      "cell_type": "markdown",
      "metadata": {
        "id": "T6iu6cvU_Pjz"
      },
      "source": [
        "# Models"
      ]
    },
    {
      "cell_type": "markdown",
      "metadata": {
        "id": "WPBKE8U__bwi"
      },
      "source": [
        "## ARIMA"
      ]
    },
    {
      "cell_type": "markdown",
      "metadata": {
        "id": "dO0yD6z7P_eK"
      },
      "source": [
        "# Fit ARIMA Model:"
      ]
    },
    {
      "cell_type": "code",
      "execution_count": 17,
      "metadata": {
        "colab": {
          "base_uri": "https://localhost:8080/"
        },
        "id": "JL7vxDNMP9-i",
        "outputId": "b699df1d-5191-4723-ff09-a1ea55f55757"
      },
      "outputs": [
        {
          "name": "stderr",
          "output_type": "stream",
          "text": [
            "c:\\Users\\Maintenant prêt\\Desktop\\STOCK\\env\\Lib\\site-packages\\statsmodels\\base\\model.py:607: ConvergenceWarning: Maximum Likelihood optimization failed to converge. Check mle_retvals\n",
            "  warnings.warn(\"Maximum Likelihood optimization failed to \"\n"
          ]
        }
      ],
      "source": [
        "model = ARIMA(train['Close_diff'], order=(2, 0, 3))\n",
        "fitted_model = model.fit()"
      ]
    },
    {
      "cell_type": "markdown",
      "metadata": {
        "id": "VdhKQ6xmQwzz"
      },
      "source": [
        "# Forecaast and Evaluate"
      ]
    },
    {
      "cell_type": "code",
      "execution_count": 18,
      "metadata": {
        "colab": {
          "base_uri": "https://localhost:8080/"
        },
        "id": "5bP0iD4--hcT",
        "outputId": "3017a5c6-783f-4ef0-f65a-7810a1565d87"
      },
      "outputs": [
        {
          "name": "stdout",
          "output_type": "stream",
          "text": [
            "ARIMA MAE: 0.6662061784426334, RMSE: 1.5666599020596172\n"
          ]
        }
      ],
      "source": [
        "# Generate forecasts using the fitted ARIMA model\n",
        "arima_forecast = fitted_model.predict(start=test.index[0], end=test.index[-1])\n",
        "\n",
        "mae_arima = mean_absolute_error(test['Close_diff'], arima_forecast)\n",
        "# Calculate MSE first, then take the square root for RMSE\n",
        "mse_arima = mean_squared_error(test['Close_diff'], arima_forecast)\n",
        "rmse_arima = np.sqrt(mse_arima)  # Calculate RMSE using NumPy\n",
        "print(f'ARIMA MAE: {mae_arima}, RMSE: {rmse_arima}')"
      ]
    },
    {
      "cell_type": "markdown",
      "metadata": {
        "id": "KHbF-kHWQ5Tp"
      },
      "source": [
        "# LSTM Model"
      ]
    },
    {
      "cell_type": "markdown",
      "metadata": {
        "id": "n_Lu9RzvRVlR"
      },
      "source": [
        "## Preprocess Data for LSTM"
      ]
    },
    {
      "cell_type": "code",
      "execution_count": 19,
      "metadata": {
        "id": "5xLemKkJPfuB"
      },
      "outputs": [],
      "source": [
        "from sklearn.preprocessing import MinMaxScaler\n",
        "import numpy as np\n",
        "\n",
        "scaler = MinMaxScaler()\n",
        "scaled_train = scaler.fit_transform(train[['Close_diff']])\n",
        "\n",
        "def create_sequences(data, seq_length):\n",
        "    X, y = [], []\n",
        "    for i in range(len(data) - seq_length):\n",
        "        X.append(data[i:i+seq_length])\n",
        "        y.append(data[i+seq_length])\n",
        "    return np.array(X), np.array(y)\n",
        "\n",
        "seq_length = 60\n",
        "X_train, y_train = create_sequences(scaled_train, seq_length)"
      ]
    },
    {
      "cell_type": "markdown",
      "metadata": {
        "id": "jA6f-9t1RNpS"
      },
      "source": [
        "## Build LSTM Model:"
      ]
    },
    {
      "cell_type": "code",
      "execution_count": 20,
      "metadata": {
        "colab": {
          "base_uri": "https://localhost:8080/"
        },
        "id": "QciN6nBaPfkz",
        "outputId": "3e6a1bc8-c85d-4eb1-a2bc-47a1281f0964"
      },
      "outputs": [
        {
          "name": "stderr",
          "output_type": "stream",
          "text": [
            "c:\\Users\\Maintenant prêt\\Desktop\\STOCK\\env\\Lib\\site-packages\\keras\\src\\layers\\rnn\\rnn.py:200: UserWarning: Do not pass an `input_shape`/`input_dim` argument to a layer. When using Sequential models, prefer using an `Input(shape)` object as the first layer in the model instead.\n",
            "  super().__init__(**kwargs)\n"
          ]
        }
      ],
      "source": [
        "model_lstm = Sequential()\n",
        "model_lstm.add(LSTM(50, return_sequences=True, input_shape=(seq_length, 1)))\n",
        "model_lstm.add(LSTM(50))\n",
        "model_lstm.add(Dense(1))\n",
        "model_lstm.compile(optimizer='adam', loss='mse')"
      ]
    },
    {
      "cell_type": "markdown",
      "metadata": {
        "id": "TSnqSLHzREHS"
      },
      "source": [
        "## Train LSTM Model"
      ]
    },
    {
      "cell_type": "code",
      "execution_count": 21,
      "metadata": {
        "colab": {
          "base_uri": "https://localhost:8080/"
        },
        "id": "ij-gditQOb4Z",
        "outputId": "81cffab8-d0b0-4e6b-abdc-d5fca798228d"
      },
      "outputs": [
        {
          "name": "stdout",
          "output_type": "stream",
          "text": [
            "Epoch 1/10\n",
            "\u001b[1m236/236\u001b[0m \u001b[32m━━━━━━━━━━━━━━━━━━━━\u001b[0m\u001b[37m\u001b[0m \u001b[1m7s\u001b[0m 21ms/step - loss: 0.0175\n",
            "Epoch 2/10\n",
            "\u001b[1m236/236\u001b[0m \u001b[32m━━━━━━━━━━━━━━━━━━━━\u001b[0m\u001b[37m\u001b[0m \u001b[1m5s\u001b[0m 20ms/step - loss: 9.0755e-04\n",
            "Epoch 3/10\n",
            "\u001b[1m236/236\u001b[0m \u001b[32m━━━━━━━━━━━━━━━━━━━━\u001b[0m\u001b[37m\u001b[0m \u001b[1m5s\u001b[0m 21ms/step - loss: 8.1322e-04\n",
            "Epoch 4/10\n",
            "\u001b[1m236/236\u001b[0m \u001b[32m━━━━━━━━━━━━━━━━━━━━\u001b[0m\u001b[37m\u001b[0m \u001b[1m5s\u001b[0m 22ms/step - loss: 9.4033e-04\n",
            "Epoch 5/10\n",
            "\u001b[1m236/236\u001b[0m \u001b[32m━━━━━━━━━━━━━━━━━━━━\u001b[0m\u001b[37m\u001b[0m \u001b[1m5s\u001b[0m 22ms/step - loss: 9.1723e-04\n",
            "Epoch 6/10\n",
            "\u001b[1m236/236\u001b[0m \u001b[32m━━━━━━━━━━━━━━━━━━━━\u001b[0m\u001b[37m\u001b[0m \u001b[1m5s\u001b[0m 23ms/step - loss: 8.3610e-04\n",
            "Epoch 7/10\n",
            "\u001b[1m236/236\u001b[0m \u001b[32m━━━━━━━━━━━━━━━━━━━━\u001b[0m\u001b[37m\u001b[0m \u001b[1m5s\u001b[0m 23ms/step - loss: 8.0854e-04\n",
            "Epoch 8/10\n",
            "\u001b[1m236/236\u001b[0m \u001b[32m━━━━━━━━━━━━━━━━━━━━\u001b[0m\u001b[37m\u001b[0m \u001b[1m5s\u001b[0m 23ms/step - loss: 7.8044e-04\n",
            "Epoch 9/10\n",
            "\u001b[1m236/236\u001b[0m \u001b[32m━━━━━━━━━━━━━━━━━━━━\u001b[0m\u001b[37m\u001b[0m \u001b[1m6s\u001b[0m 24ms/step - loss: 8.5854e-04\n",
            "Epoch 10/10\n",
            "\u001b[1m236/236\u001b[0m \u001b[32m━━━━━━━━━━━━━━━━━━━━\u001b[0m\u001b[37m\u001b[0m \u001b[1m6s\u001b[0m 25ms/step - loss: 7.5571e-04\n"
          ]
        },
        {
          "data": {
            "text/plain": [
              "<keras.src.callbacks.history.History at 0x25974722300>"
            ]
          },
          "execution_count": 21,
          "metadata": {},
          "output_type": "execute_result"
        }
      ],
      "source": [
        "model_lstm.fit(X_train, y_train, epochs=10, batch_size=32)"
      ]
    },
    {
      "cell_type": "markdown",
      "metadata": {
        "id": "s5SOFveiRJ3E"
      },
      "source": [
        "## Forecast and Evaluate"
      ]
    },
    {
      "cell_type": "code",
      "execution_count": 22,
      "metadata": {
        "colab": {
          "base_uri": "https://localhost:8080/"
        },
        "id": "B28q2B_mOb1i",
        "outputId": "3438eee9-d75a-485b-facf-8be93701968e"
      },
      "outputs": [
        {
          "name": "stdout",
          "output_type": "stream",
          "text": [
            "\u001b[1m58/58\u001b[0m \u001b[32m━━━━━━━━━━━━━━━━━━━━\u001b[0m\u001b[37m\u001b[0m \u001b[1m1s\u001b[0m 10ms/step\n"
          ]
        }
      ],
      "source": [
        "scaled_test = scaler.transform(test[['Close_diff']])\n",
        "X_test, y_test = create_sequences(scaled_test, seq_length)\n",
        "predictions = model_lstm.predict(X_test)\n",
        "predictions = scaler.inverse_transform(predictions)"
      ]
    },
    {
      "cell_type": "code",
      "execution_count": 23,
      "metadata": {
        "colab": {
          "base_uri": "https://localhost:8080/"
        },
        "id": "RD7Os311Hiuh",
        "outputId": "6640243a-e2d6-4065-99b2-0b08790ae617"
      },
      "outputs": [
        {
          "name": "stdout",
          "output_type": "stream",
          "text": [
            "LSTM MAE: 0.7188344597816467, RMSE: 1.6062839786483136\n"
          ]
        }
      ],
      "source": [
        "mae_lstm = mean_absolute_error(test[seq_length:], predictions)\n",
        "rmse_lstm = np.sqrt(mean_squared_error(test[seq_length:], predictions))\n",
        "print(f'LSTM MAE: {mae_lstm}, RMSE: {rmse_lstm}')"
      ]
    },
    {
      "cell_type": "markdown",
      "metadata": {
        "id": "W-3Ya83PRbnC"
      },
      "source": [
        "# Prophet Model"
      ]
    },
    {
      "cell_type": "markdown",
      "metadata": {
        "id": "NQ49KW6sRhe6"
      },
      "source": [
        "## Prepare Data for Prophet"
      ]
    },
    {
      "cell_type": "code",
      "execution_count": 24,
      "metadata": {
        "id": "MxVeVeWMReis"
      },
      "outputs": [],
      "source": [
        "train_prophet = train.reset_index()[['Date', 'Close_diff']].rename(columns={'Date': 'ds', 'Close': 'y'})"
      ]
    },
    {
      "cell_type": "markdown",
      "metadata": {
        "id": "37dXjAzoRpQ5"
      },
      "source": [
        "## Fit Prophet Model"
      ]
    },
    {
      "cell_type": "code",
      "execution_count": 25,
      "metadata": {
        "colab": {
          "base_uri": "https://localhost:8080/"
        },
        "id": "YqeL3bklUvBx",
        "outputId": "dca9f7ff-b916-4a65-8205-195664dd594d"
      },
      "outputs": [
        {
          "name": "stderr",
          "output_type": "stream",
          "text": [
            "07:32:52 - cmdstanpy - INFO - Chain [1] start processing\n",
            "07:32:54 - cmdstanpy - INFO - Chain [1] done processing\n"
          ]
        },
        {
          "data": {
            "text/plain": [
              "<prophet.forecaster.Prophet at 0x25974723140>"
            ]
          },
          "execution_count": 25,
          "metadata": {},
          "output_type": "execute_result"
        }
      ],
      "source": [
        "from prophet import Prophet\n",
        "\n",
        "train_prophet = train.reset_index()[['Date', 'Close_diff']].rename(columns={'Date': 'ds', 'Close_diff': 'y'})\n",
        "\n",
        "# Remove timezone information from the 'ds' column\n",
        "train_prophet['ds'] = train_prophet['ds'].dt.tz_localize(None)\n",
        "\n",
        "model_prophet = Prophet()\n",
        "model_prophet.fit(train_prophet)"
      ]
    },
    {
      "cell_type": "markdown",
      "metadata": {
        "id": "DIqlzutiRuxx"
      },
      "source": [
        "## Forecast and Evaluate:"
      ]
    },
    {
      "cell_type": "code",
      "execution_count": 26,
      "metadata": {
        "colab": {
          "base_uri": "https://localhost:8080/"
        },
        "id": "xqj9mnaqRfoh",
        "outputId": "41e7f58d-64f3-467a-9021-0190fd7f9154"
      },
      "outputs": [
        {
          "name": "stderr",
          "output_type": "stream",
          "text": [
            "c:\\Users\\Maintenant prêt\\Desktop\\STOCK\\env\\Lib\\site-packages\\prophet\\forecaster.py:1854: FutureWarning: 'H' is deprecated and will be removed in a future version, please use 'h' instead.\n",
            "  dates = pd.date_range(\n"
          ]
        }
      ],
      "source": [
        "future = model_prophet.make_future_dataframe(periods=len(test), freq='H')\n",
        "forecast = model_prophet.predict(future)\n",
        "forecast = forecast.iloc[-len(test):]"
      ]
    },
    {
      "cell_type": "code",
      "execution_count": 27,
      "metadata": {
        "colab": {
          "base_uri": "https://localhost:8080/"
        },
        "id": "ayOGly5Zc4MV",
        "outputId": "32fc7c6f-a71a-4cd1-8a9e-d823fdb04555"
      },
      "outputs": [
        {
          "name": "stdout",
          "output_type": "stream",
          "text": [
            "Prophet MAE: 0.6667242056445474\n",
            "Prophet RMSE: 1.5665656892406228\n"
          ]
        }
      ],
      "source": [
        "# evaluate with MAE and RMSE\n",
        "mae = mean_absolute_error(test['Close_diff'], forecast['yhat'])\n",
        "rmse = np.sqrt(mean_squared_error(test['Close_diff'], forecast['yhat']))\n",
        "print('Prophet MAE:', mae)\n",
        "print('Prophet RMSE:', rmse)"
      ]
    },
    {
      "cell_type": "markdown",
      "metadata": {
        "id": "GM_mnrQVR0Z6"
      },
      "source": [
        "# Compare Models"
      ]
    },
    {
      "cell_type": "code",
      "execution_count": 28,
      "metadata": {
        "colab": {
          "base_uri": "https://localhost:8080/",
          "height": 545
        },
        "id": "wDUmhLy3BQGy",
        "outputId": "fd519f2c-6a2c-4dbc-f4b9-74a818a6d718"
      },
      "outputs": [
        {
          "data": {
            "image/png": "[encoded data removed]",
            "text/plain": [
              "<Figure size 1200x600 with 1 Axes>"
            ]
          },
          "metadata": {},
          "output_type": "display_data"
        }
      ],
      "source": [
        "# Adjust the plotting to use the same range for all data\n",
        "plt.figure(figsize=(12, 6))\n",
        "\n",
        "# Slice test['Close'] to match the length of predictions for LSTM\n",
        "plt.plot(test.index[seq_length:], test['Close_diff'].iloc[seq_length:], label='Actual')\n",
        "\n",
        "plt.plot(test.index[seq_length:], arima_forecast[seq_length:], label='ARIMA')\n",
        "\n",
        "plt.plot(test.index[seq_length:], predictions[:, 0], label='LSTM')  # Extract the first column of predictions\n",
        "\n",
        "plt.plot(test.index[seq_length:], forecast['yhat'].iloc[seq_length:], label='Prophet')  # Slice forecast['yhat']\n",
        "\n",
        "plt.legend()\n",
        "plt.title('Model Comparison')\n",
        "plt.show()"
      ]
    },
    {
      "cell_type": "code",
      "execution_count": 29,
      "metadata": {
        "id": "xFui9BS6Rffp"
      },
      "outputs": [],
      "source": [
        "# compare the model in tabel form\n",
        "models = ['ARIMA', 'LSTM', 'Prophet']\n",
        "maes = [mae_arima, mae_lstm, mae]\n",
        "rmses = [rmse_arima, rmse_lstm, rmse]\n"
      ]
    },
    {
      "cell_type": "code",
      "execution_count": 30,
      "metadata": {
        "colab": {
          "base_uri": "https://localhost:8080/"
        },
        "id": "_6L268X4Rfcy",
        "outputId": "2204fdab-5d80-42b2-847c-a8242bca88cd"
      },
      "outputs": [
        {
          "name": "stdout",
          "output_type": "stream",
          "text": [
            "     Model       MAE      RMSE\n",
            "0    ARIMA  0.666206  1.566660\n",
            "1     LSTM  0.718834  1.606284\n",
            "2  Prophet  0.666724  1.566566\n"
          ]
        }
      ],
      "source": [
        "data = {'Model': models, 'MAE': maes, 'RMSE': rmses}\n",
        "df_compare = pd.DataFrame(data)\n",
        "\n",
        "print(df_compare)"
      ]
    },
    {
      "cell_type": "code",
      "execution_count": null,
      "metadata": {
        "id": "V7nNIlE9dr2A"
      },
      "outputs": [],
      "source": []
    }
  ],
  "metadata": {
    "colab": {
      "provenance": []
    },
    "kernelspec": {
      "display_name": "env",
      "language": "python",
      "name": "python3"
    },
    "language_info": {
      "codemirror_mode": {
        "name": "ipython",
        "version": 3
      },
      "file_extension": ".py",
      "mimetype": "text/x-python",
      "name": "python",
      "nbconvert_exporter": "python",
      "pygments_lexer": "ipython3",
      "version": "3.12.4"
    }
  },
  "nbformat": 4,
  "nbformat_minor": 0
}
