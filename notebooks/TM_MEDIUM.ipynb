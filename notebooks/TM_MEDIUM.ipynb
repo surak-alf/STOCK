{
 "cells": [
  {
   "cell_type": "code",
   "execution_count": 1,
   "id": "3dcbbcf2",
   "metadata": {},
   "outputs": [],
   "source": [
    "import yfinance as yf\n",
    "import matplotlib.pyplot as plt"
   ]
  },
  {
   "cell_type": "code",
   "execution_count": 2,
   "id": "2fb42890",
   "metadata": {},
   "outputs": [
    {
     "name": "stderr",
     "output_type": "stream",
     "text": [
      "[*********************100%***********************]  1 of 1 completed\n"
     ]
    }
   ],
   "source": [
    "# Downloading (TM) data for the past 2years with 1hour intervals\n",
    "data = yf.download(\n",
    "    tickers=['TM'],\n",
    "    period=\"2y\",\n",
    "    interval=\"1h\"\n",
    ")"
   ]
  },
  {
   "cell_type": "code",
   "execution_count": 3,
   "id": "97de042c",
   "metadata": {},
   "outputs": [
    {
     "data": {
      "text/html": [
       "<div>\n",
       "<style scoped>\n",
       "    .dataframe tbody tr th:only-of-type {\n",
       "        vertical-align: middle;\n",
       "    }\n",
       "\n",
       "    .dataframe tbody tr th {\n",
       "        vertical-align: top;\n",
       "    }\n",
       "\n",
       "    .dataframe thead tr th {\n",
       "        text-align: left;\n",
       "    }\n",
       "\n",
       "    .dataframe thead tr:last-of-type th {\n",
       "        text-align: right;\n",
       "    }\n",
       "</style>\n",
       "<table border=\"1\" class=\"dataframe\">\n",
       "  <thead>\n",
       "    <tr>\n",
       "      <th>Price</th>\n",
       "      <th>Close</th>\n",
       "      <th>High</th>\n",
       "      <th>Low</th>\n",
       "      <th>Open</th>\n",
       "      <th>Volume</th>\n",
       "    </tr>\n",
       "    <tr>\n",
       "      <th>Ticker</th>\n",
       "      <th>TM</th>\n",
       "      <th>TM</th>\n",
       "      <th>TM</th>\n",
       "      <th>TM</th>\n",
       "      <th>TM</th>\n",
       "    </tr>\n",
       "    <tr>\n",
       "      <th>Datetime</th>\n",
       "      <th></th>\n",
       "      <th></th>\n",
       "      <th></th>\n",
       "      <th></th>\n",
       "      <th></th>\n",
       "    </tr>\n",
       "  </thead>\n",
       "  <tbody>\n",
       "    <tr>\n",
       "      <th>2023-01-09 14:30:00+00:00</th>\n",
       "      <td>140.320007</td>\n",
       "      <td>140.440002</td>\n",
       "      <td>139.240005</td>\n",
       "      <td>139.309998</td>\n",
       "      <td>41004</td>\n",
       "    </tr>\n",
       "    <tr>\n",
       "      <th>2023-01-09 15:30:00+00:00</th>\n",
       "      <td>141.348206</td>\n",
       "      <td>141.660004</td>\n",
       "      <td>140.320007</td>\n",
       "      <td>140.344604</td>\n",
       "      <td>58107</td>\n",
       "    </tr>\n",
       "    <tr>\n",
       "      <th>2023-01-09 16:30:00+00:00</th>\n",
       "      <td>141.119995</td>\n",
       "      <td>141.490005</td>\n",
       "      <td>140.964996</td>\n",
       "      <td>141.490005</td>\n",
       "      <td>30083</td>\n",
       "    </tr>\n",
       "    <tr>\n",
       "      <th>2023-01-09 17:30:00+00:00</th>\n",
       "      <td>141.028397</td>\n",
       "      <td>141.218994</td>\n",
       "      <td>140.750000</td>\n",
       "      <td>141.218994</td>\n",
       "      <td>16675</td>\n",
       "    </tr>\n",
       "    <tr>\n",
       "      <th>2023-01-09 18:30:00+00:00</th>\n",
       "      <td>140.705002</td>\n",
       "      <td>141.050003</td>\n",
       "      <td>140.435104</td>\n",
       "      <td>141.050003</td>\n",
       "      <td>14659</td>\n",
       "    </tr>\n",
       "    <tr>\n",
       "      <th>...</th>\n",
       "      <td>...</td>\n",
       "      <td>...</td>\n",
       "      <td>...</td>\n",
       "      <td>...</td>\n",
       "      <td>...</td>\n",
       "    </tr>\n",
       "    <tr>\n",
       "      <th>2025-01-07 16:30:00+00:00</th>\n",
       "      <td>193.850006</td>\n",
       "      <td>194.339996</td>\n",
       "      <td>193.259995</td>\n",
       "      <td>193.729996</td>\n",
       "      <td>60246</td>\n",
       "    </tr>\n",
       "    <tr>\n",
       "      <th>2025-01-07 17:30:00+00:00</th>\n",
       "      <td>194.404999</td>\n",
       "      <td>194.456604</td>\n",
       "      <td>193.429993</td>\n",
       "      <td>193.800003</td>\n",
       "      <td>33023</td>\n",
       "    </tr>\n",
       "    <tr>\n",
       "      <th>2025-01-07 18:30:00+00:00</th>\n",
       "      <td>194.153702</td>\n",
       "      <td>194.380005</td>\n",
       "      <td>193.889999</td>\n",
       "      <td>194.350006</td>\n",
       "      <td>43201</td>\n",
       "    </tr>\n",
       "    <tr>\n",
       "      <th>2025-01-07 19:30:00+00:00</th>\n",
       "      <td>192.630005</td>\n",
       "      <td>194.199997</td>\n",
       "      <td>192.510101</td>\n",
       "      <td>194.169998</td>\n",
       "      <td>152271</td>\n",
       "    </tr>\n",
       "    <tr>\n",
       "      <th>2025-01-07 20:30:00+00:00</th>\n",
       "      <td>193.119995</td>\n",
       "      <td>193.320602</td>\n",
       "      <td>192.419998</td>\n",
       "      <td>192.740005</td>\n",
       "      <td>71645</td>\n",
       "    </tr>\n",
       "  </tbody>\n",
       "</table>\n",
       "<p>3494 rows × 5 columns</p>\n",
       "</div>"
      ],
      "text/plain": [
       "Price                           Close        High         Low        Open  \\\n",
       "Ticker                             TM          TM          TM          TM   \n",
       "Datetime                                                                    \n",
       "2023-01-09 14:30:00+00:00  140.320007  140.440002  139.240005  139.309998   \n",
       "2023-01-09 15:30:00+00:00  141.348206  141.660004  140.320007  140.344604   \n",
       "2023-01-09 16:30:00+00:00  141.119995  141.490005  140.964996  141.490005   \n",
       "2023-01-09 17:30:00+00:00  141.028397  141.218994  140.750000  141.218994   \n",
       "2023-01-09 18:30:00+00:00  140.705002  141.050003  140.435104  141.050003   \n",
       "...                               ...         ...         ...         ...   \n",
       "2025-01-07 16:30:00+00:00  193.850006  194.339996  193.259995  193.729996   \n",
       "2025-01-07 17:30:00+00:00  194.404999  194.456604  193.429993  193.800003   \n",
       "2025-01-07 18:30:00+00:00  194.153702  194.380005  193.889999  194.350006   \n",
       "2025-01-07 19:30:00+00:00  192.630005  194.199997  192.510101  194.169998   \n",
       "2025-01-07 20:30:00+00:00  193.119995  193.320602  192.419998  192.740005   \n",
       "\n",
       "Price                      Volume  \n",
       "Ticker                         TM  \n",
       "Datetime                           \n",
       "2023-01-09 14:30:00+00:00   41004  \n",
       "2023-01-09 15:30:00+00:00   58107  \n",
       "2023-01-09 16:30:00+00:00   30083  \n",
       "2023-01-09 17:30:00+00:00   16675  \n",
       "2023-01-09 18:30:00+00:00   14659  \n",
       "...                           ...  \n",
       "2025-01-07 16:30:00+00:00   60246  \n",
       "2025-01-07 17:30:00+00:00   33023  \n",
       "2025-01-07 18:30:00+00:00   43201  \n",
       "2025-01-07 19:30:00+00:00  152271  \n",
       "2025-01-07 20:30:00+00:00   71645  \n",
       "\n",
       "[3494 rows x 5 columns]"
      ]
     },
     "execution_count": 3,
     "metadata": {},
     "output_type": "execute_result"
    }
   ],
   "source": [
    "data"
   ]
  },
  {
   "cell_type": "code",
   "execution_count": 4,
   "id": "c355dc37",
   "metadata": {},
   "outputs": [
    {
     "name": "stdout",
     "output_type": "stream",
     "text": [
      "<class 'pandas.core.frame.DataFrame'>\n",
      "DatetimeIndex: 3494 entries, 2023-01-09 14:30:00+00:00 to 2025-01-07 20:30:00+00:00\n",
      "Data columns (total 5 columns):\n",
      " #   Column        Non-Null Count  Dtype  \n",
      "---  ------        --------------  -----  \n",
      " 0   (Close, TM)   3494 non-null   float64\n",
      " 1   (High, TM)    3494 non-null   float64\n",
      " 2   (Low, TM)     3494 non-null   float64\n",
      " 3   (Open, TM)    3494 non-null   float64\n",
      " 4   (Volume, TM)  3494 non-null   int64  \n",
      "dtypes: float64(4), int64(1)\n",
      "memory usage: 163.8 KB\n"
     ]
    }
   ],
   "source": [
    "data.info()"
   ]
  },
  {
   "cell_type": "code",
   "execution_count": 5,
   "id": "92fcc4a4",
   "metadata": {},
   "outputs": [
    {
     "data": {
      "image/png": "[encoded data removed]",
      "text/plain": [
       "<Figure size 640x480 with 1 Axes>"
      ]
     },
     "metadata": {},
     "output_type": "display_data"
    }
   ],
   "source": [
    "# Plotting the data (you can customize the plot here)\n",
    "plt.plot(data['Close'])\n",
    "plt.xlabel('Date')\n",
    "plt.ylabel('Closing Price (USD)')\n",
    "plt.title('TM Price (Past Month, 2-Minute Intervals)')\n",
    "plt.show()"
   ]
  },
  {
   "cell_type": "code",
   "execution_count": null,
   "id": "8e7abdfe",
   "metadata": {},
   "outputs": [],
   "source": []
  }
 ],
 "metadata": {
  "kernelspec": {
   "display_name": "base",
   "language": "python",
   "name": "python3"
  },
  "language_info": {
   "codemirror_mode": {
    "name": "ipython",
    "version": 3
   },
   "file_extension": ".py",
   "mimetype": "text/x-python",
   "name": "python",
   "nbconvert_exporter": "python",
   "pygments_lexer": "ipython3",
   "version": "3.12.4"
  }
 },
 "nbformat": 4,
 "nbformat_minor": 5
}
