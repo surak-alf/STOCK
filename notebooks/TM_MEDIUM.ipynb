{
 "cells": [
  {
   "cell_type": "code",
   "execution_count": 1,
   "id": "3dcbbcf2",
   "metadata": {},
   "outputs": [],
   "source": [
    "import yfinance as yf\n",
    "import matplotlib.pyplot as plt"
   ]
  },
  {
   "cell_type": "code",
   "execution_count": 2,
   "id": "2fb42890",
   "metadata": {},
   "outputs": [
    {
     "name": "stderr",
     "output_type": "stream",
     "text": [
      "[*********************100%***********************]  1 of 1 completed\n"
     ]
    }
   ],
   "source": [
    "# Downloading (TM) data for the past 2years with 1hour intervals\n",
    "data = yf.download(\n",
    "    tickers=['TM'],\n",
    "    period=\"2y\",\n",
    "    interval=\"1h\"\n",
    ")"
   ]
  },
  {
   "cell_type": "code",
   "execution_count": 3,
   "id": "97de042c",
   "metadata": {},
   "outputs": [
    {
     "data": {
      "text/html": [
       "<div>\n",
       "<style scoped>\n",
       "    .dataframe tbody tr th:only-of-type {\n",
       "        vertical-align: middle;\n",
       "    }\n",
       "\n",
       "    .dataframe tbody tr th {\n",
       "        vertical-align: top;\n",
       "    }\n",
       "\n",
       "    .dataframe thead tr th {\n",
       "        text-align: left;\n",
       "    }\n",
       "\n",
       "    .dataframe thead tr:last-of-type th {\n",
       "        text-align: right;\n",
       "    }\n",
       "</style>\n",
       "<table border=\"1\" class=\"dataframe\">\n",
       "  <thead>\n",
       "    <tr>\n",
       "      <th>Price</th>\n",
       "      <th>Close</th>\n",
       "      <th>High</th>\n",
       "      <th>Low</th>\n",
       "      <th>Open</th>\n",
       "      <th>Volume</th>\n",
       "    </tr>\n",
       "    <tr>\n",
       "      <th>Ticker</th>\n",
       "      <th>TM</th>\n",
       "      <th>TM</th>\n",
       "      <th>TM</th>\n",
       "      <th>TM</th>\n",
       "      <th>TM</th>\n",
       "    </tr>\n",
       "    <tr>\n",
       "      <th>Datetime</th>\n",
       "      <th></th>\n",
       "      <th></th>\n",
       "      <th></th>\n",
       "      <th></th>\n",
       "      <th></th>\n",
       "    </tr>\n",
       "  </thead>\n",
       "  <tbody>\n",
       "    <tr>\n",
       "      <th>2023-01-03 14:30:00+00:00</th>\n",
       "      <td>137.160004</td>\n",
       "      <td>138.294998</td>\n",
       "      <td>137.020004</td>\n",
       "      <td>137.960007</td>\n",
       "      <td>25442</td>\n",
       "    </tr>\n",
       "    <tr>\n",
       "      <th>2023-01-03 15:30:00+00:00</th>\n",
       "      <td>138.199997</td>\n",
       "      <td>138.369995</td>\n",
       "      <td>137.029999</td>\n",
       "      <td>137.125000</td>\n",
       "      <td>31564</td>\n",
       "    </tr>\n",
       "    <tr>\n",
       "      <th>2023-01-03 16:30:00+00:00</th>\n",
       "      <td>137.589996</td>\n",
       "      <td>138.300003</td>\n",
       "      <td>137.589996</td>\n",
       "      <td>138.190002</td>\n",
       "      <td>33920</td>\n",
       "    </tr>\n",
       "    <tr>\n",
       "      <th>2023-01-03 17:30:00+00:00</th>\n",
       "      <td>138.050003</td>\n",
       "      <td>138.050003</td>\n",
       "      <td>137.440002</td>\n",
       "      <td>137.660004</td>\n",
       "      <td>32396</td>\n",
       "    </tr>\n",
       "    <tr>\n",
       "      <th>2023-01-03 18:30:00+00:00</th>\n",
       "      <td>137.955002</td>\n",
       "      <td>138.139999</td>\n",
       "      <td>137.895004</td>\n",
       "      <td>138.031799</td>\n",
       "      <td>38989</td>\n",
       "    </tr>\n",
       "    <tr>\n",
       "      <th>...</th>\n",
       "      <td>...</td>\n",
       "      <td>...</td>\n",
       "      <td>...</td>\n",
       "      <td>...</td>\n",
       "      <td>...</td>\n",
       "    </tr>\n",
       "    <tr>\n",
       "      <th>2024-12-31 16:30:00+00:00</th>\n",
       "      <td>194.487701</td>\n",
       "      <td>194.880005</td>\n",
       "      <td>194.220001</td>\n",
       "      <td>194.663696</td>\n",
       "      <td>41166</td>\n",
       "    </tr>\n",
       "    <tr>\n",
       "      <th>2024-12-31 17:30:00+00:00</th>\n",
       "      <td>194.270004</td>\n",
       "      <td>194.889603</td>\n",
       "      <td>193.940002</td>\n",
       "      <td>194.390198</td>\n",
       "      <td>54825</td>\n",
       "    </tr>\n",
       "    <tr>\n",
       "      <th>2024-12-31 18:30:00+00:00</th>\n",
       "      <td>194.250000</td>\n",
       "      <td>194.750000</td>\n",
       "      <td>194.000000</td>\n",
       "      <td>194.199997</td>\n",
       "      <td>32922</td>\n",
       "    </tr>\n",
       "    <tr>\n",
       "      <th>2024-12-31 19:30:00+00:00</th>\n",
       "      <td>194.699997</td>\n",
       "      <td>194.740005</td>\n",
       "      <td>194.160004</td>\n",
       "      <td>194.179993</td>\n",
       "      <td>42467</td>\n",
       "    </tr>\n",
       "    <tr>\n",
       "      <th>2024-12-31 20:30:00+00:00</th>\n",
       "      <td>194.600006</td>\n",
       "      <td>194.789993</td>\n",
       "      <td>194.169998</td>\n",
       "      <td>194.720001</td>\n",
       "      <td>115810</td>\n",
       "    </tr>\n",
       "  </tbody>\n",
       "</table>\n",
       "<p>3494 rows × 5 columns</p>\n",
       "</div>"
      ],
      "text/plain": [
       "Price                           Close        High         Low        Open  \\\n",
       "Ticker                             TM          TM          TM          TM   \n",
       "Datetime                                                                    \n",
       "2023-01-03 14:30:00+00:00  137.160004  138.294998  137.020004  137.960007   \n",
       "2023-01-03 15:30:00+00:00  138.199997  138.369995  137.029999  137.125000   \n",
       "2023-01-03 16:30:00+00:00  137.589996  138.300003  137.589996  138.190002   \n",
       "2023-01-03 17:30:00+00:00  138.050003  138.050003  137.440002  137.660004   \n",
       "2023-01-03 18:30:00+00:00  137.955002  138.139999  137.895004  138.031799   \n",
       "...                               ...         ...         ...         ...   \n",
       "2024-12-31 16:30:00+00:00  194.487701  194.880005  194.220001  194.663696   \n",
       "2024-12-31 17:30:00+00:00  194.270004  194.889603  193.940002  194.390198   \n",
       "2024-12-31 18:30:00+00:00  194.250000  194.750000  194.000000  194.199997   \n",
       "2024-12-31 19:30:00+00:00  194.699997  194.740005  194.160004  194.179993   \n",
       "2024-12-31 20:30:00+00:00  194.600006  194.789993  194.169998  194.720001   \n",
       "\n",
       "Price                      Volume  \n",
       "Ticker                         TM  \n",
       "Datetime                           \n",
       "2023-01-03 14:30:00+00:00   25442  \n",
       "2023-01-03 15:30:00+00:00   31564  \n",
       "2023-01-03 16:30:00+00:00   33920  \n",
       "2023-01-03 17:30:00+00:00   32396  \n",
       "2023-01-03 18:30:00+00:00   38989  \n",
       "...                           ...  \n",
       "2024-12-31 16:30:00+00:00   41166  \n",
       "2024-12-31 17:30:00+00:00   54825  \n",
       "2024-12-31 18:30:00+00:00   32922  \n",
       "2024-12-31 19:30:00+00:00   42467  \n",
       "2024-12-31 20:30:00+00:00  115810  \n",
       "\n",
       "[3494 rows x 5 columns]"
      ]
     },
     "execution_count": 3,
     "metadata": {},
     "output_type": "execute_result"
    }
   ],
   "source": [
    "data"
   ]
  },
  {
   "cell_type": "code",
   "execution_count": 4,
   "id": "c355dc37",
   "metadata": {},
   "outputs": [
    {
     "name": "stdout",
     "output_type": "stream",
     "text": [
      "<class 'pandas.core.frame.DataFrame'>\n",
      "DatetimeIndex: 3494 entries, 2023-01-03 14:30:00+00:00 to 2024-12-31 20:30:00+00:00\n",
      "Data columns (total 5 columns):\n",
      " #   Column        Non-Null Count  Dtype  \n",
      "---  ------        --------------  -----  \n",
      " 0   (Close, TM)   3494 non-null   float64\n",
      " 1   (High, TM)    3494 non-null   float64\n",
      " 2   (Low, TM)     3494 non-null   float64\n",
      " 3   (Open, TM)    3494 non-null   float64\n",
      " 4   (Volume, TM)  3494 non-null   int64  \n",
      "dtypes: float64(4), int64(1)\n",
      "memory usage: 163.8 KB\n"
     ]
    }
   ],
   "source": [
    "data.info()"
   ]
  },
  {
   "cell_type": "code",
   "execution_count": 5,
   "id": "92fcc4a4",
   "metadata": {},
   "outputs": [
    {
     "data": {
      "image/png": "[encoded data removed]",
      "text/plain": [
       "<Figure size 640x480 with 1 Axes>"
      ]
     },
     "metadata": {},
     "output_type": "display_data"
    }
   ],
   "source": [
    "# Plotting the data (you can customize the plot here)\n",
    "plt.plot(data['Close'])\n",
    "plt.xlabel('Date')\n",
    "plt.ylabel('Closing Price (USD)')\n",
    "plt.title('TM Price (Past Month, 2-Minute Intervals)')\n",
    "plt.show()"
   ]
  },
  {
   "cell_type": "code",
   "execution_count": null,
   "id": "8e7abdfe",
   "metadata": {},
   "outputs": [],
   "source": []
  }
 ],
 "metadata": {
  "kernelspec": {
   "display_name": "base",
   "language": "python",
   "name": "python3"
  },
  "language_info": {
   "codemirror_mode": {
    "name": "ipython",
    "version": 3
   },
   "file_extension": ".py",
   "mimetype": "text/x-python",
   "name": "python",
   "nbconvert_exporter": "python",
   "pygments_lexer": "ipython3",
   "version": "3.12.4"
  }
 },
 "nbformat": 4,
 "nbformat_minor": 5
}
