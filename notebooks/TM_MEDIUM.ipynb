{
 "cells": [
  {
   "cell_type": "code",
   "execution_count": 1,
   "id": "3dcbbcf2",
   "metadata": {},
   "outputs": [],
   "source": [
    "import pandas as pd\n",
    "import numpy as np\n",
    "import yfinance as yf\n",
    "import matplotlib.pyplot as plt\n",
    "import seaborn as sns"
   ]
  },
  {
   "cell_type": "code",
   "execution_count": 2,
   "id": "a7a1dd04",
   "metadata": {},
   "outputs": [],
   "source": [
    "import sys\n",
    "import os\n",
    "\n",
    "# Get the directory of the current notebook\n",
    "current_dir = os.path.dirname(os.path.abspath('../scripts')) \n",
    "\n",
    "# Add the 'scripts' directory to the Python path\n",
    "scripts_dir = os.path.join(current_dir, 'scripts')\n",
    "sys.path.append(scripts_dir)"
   ]
  },
  {
   "cell_type": "code",
   "execution_count": 3,
   "id": "c0910284",
   "metadata": {},
   "outputs": [],
   "source": [
    "from EDA import download_stock_data"
   ]
  },
  {
   "cell_type": "code",
   "execution_count": 4,
   "id": "9881a675",
   "metadata": {},
   "outputs": [
    {
     "name": "stderr",
     "output_type": "stream",
     "text": [
      "[*********************100%***********************]  1 of 1 completed\n"
     ]
    }
   ],
   "source": [
    "tm_medium_data = download_stock_data(\"TM\", \"2y\", \"1h\")"
   ]
  },
  {
   "cell_type": "code",
   "execution_count": 5,
   "id": "1782e73c",
   "metadata": {},
   "outputs": [
    {
     "data": {
      "text/html": [
       "<div>\n",
       "<style scoped>\n",
       "    .dataframe tbody tr th:only-of-type {\n",
       "        vertical-align: middle;\n",
       "    }\n",
       "\n",
       "    .dataframe tbody tr th {\n",
       "        vertical-align: top;\n",
       "    }\n",
       "\n",
       "    .dataframe thead tr th {\n",
       "        text-align: left;\n",
       "    }\n",
       "\n",
       "    .dataframe thead tr:last-of-type th {\n",
       "        text-align: right;\n",
       "    }\n",
       "</style>\n",
       "<table border=\"1\" class=\"dataframe\">\n",
       "  <thead>\n",
       "    <tr>\n",
       "      <th>Price</th>\n",
       "      <th>Close</th>\n",
       "      <th>High</th>\n",
       "      <th>Low</th>\n",
       "      <th>Open</th>\n",
       "      <th>Volume</th>\n",
       "    </tr>\n",
       "    <tr>\n",
       "      <th>Ticker</th>\n",
       "      <th>TM</th>\n",
       "      <th>TM</th>\n",
       "      <th>TM</th>\n",
       "      <th>TM</th>\n",
       "      <th>TM</th>\n",
       "    </tr>\n",
       "    <tr>\n",
       "      <th>Datetime</th>\n",
       "      <th></th>\n",
       "      <th></th>\n",
       "      <th></th>\n",
       "      <th></th>\n",
       "      <th></th>\n",
       "    </tr>\n",
       "  </thead>\n",
       "  <tbody>\n",
       "    <tr>\n",
       "      <th>2023-01-09 14:30:00+00:00</th>\n",
       "      <td>140.320007</td>\n",
       "      <td>140.440002</td>\n",
       "      <td>139.240005</td>\n",
       "      <td>139.309998</td>\n",
       "      <td>41004</td>\n",
       "    </tr>\n",
       "    <tr>\n",
       "      <th>2023-01-09 15:30:00+00:00</th>\n",
       "      <td>141.348206</td>\n",
       "      <td>141.660004</td>\n",
       "      <td>140.320007</td>\n",
       "      <td>140.344604</td>\n",
       "      <td>58107</td>\n",
       "    </tr>\n",
       "    <tr>\n",
       "      <th>2023-01-09 16:30:00+00:00</th>\n",
       "      <td>141.119995</td>\n",
       "      <td>141.490005</td>\n",
       "      <td>140.964996</td>\n",
       "      <td>141.490005</td>\n",
       "      <td>30083</td>\n",
       "    </tr>\n",
       "    <tr>\n",
       "      <th>2023-01-09 17:30:00+00:00</th>\n",
       "      <td>141.028397</td>\n",
       "      <td>141.218994</td>\n",
       "      <td>140.750000</td>\n",
       "      <td>141.218994</td>\n",
       "      <td>16675</td>\n",
       "    </tr>\n",
       "    <tr>\n",
       "      <th>2023-01-09 18:30:00+00:00</th>\n",
       "      <td>140.705002</td>\n",
       "      <td>141.050003</td>\n",
       "      <td>140.435104</td>\n",
       "      <td>141.050003</td>\n",
       "      <td>14659</td>\n",
       "    </tr>\n",
       "  </tbody>\n",
       "</table>\n",
       "</div>"
      ],
      "text/plain": [
       "Price                           Close        High         Low        Open  \\\n",
       "Ticker                             TM          TM          TM          TM   \n",
       "Datetime                                                                    \n",
       "2023-01-09 14:30:00+00:00  140.320007  140.440002  139.240005  139.309998   \n",
       "2023-01-09 15:30:00+00:00  141.348206  141.660004  140.320007  140.344604   \n",
       "2023-01-09 16:30:00+00:00  141.119995  141.490005  140.964996  141.490005   \n",
       "2023-01-09 17:30:00+00:00  141.028397  141.218994  140.750000  141.218994   \n",
       "2023-01-09 18:30:00+00:00  140.705002  141.050003  140.435104  141.050003   \n",
       "\n",
       "Price                     Volume  \n",
       "Ticker                        TM  \n",
       "Datetime                          \n",
       "2023-01-09 14:30:00+00:00  41004  \n",
       "2023-01-09 15:30:00+00:00  58107  \n",
       "2023-01-09 16:30:00+00:00  30083  \n",
       "2023-01-09 17:30:00+00:00  16675  \n",
       "2023-01-09 18:30:00+00:00  14659  "
      ]
     },
     "execution_count": 5,
     "metadata": {},
     "output_type": "execute_result"
    }
   ],
   "source": [
    "tm_medium_data.head()"
   ]
  },
  {
   "cell_type": "code",
   "execution_count": 6,
   "id": "80d7ae13",
   "metadata": {},
   "outputs": [
    {
     "data": {
      "text/plain": [
       "(3501, 5)"
      ]
     },
     "execution_count": 6,
     "metadata": {},
     "output_type": "execute_result"
    }
   ],
   "source": [
    "tm_medium_data.shape"
   ]
  },
  {
   "cell_type": "code",
   "execution_count": 7,
   "id": "112ca960",
   "metadata": {},
   "outputs": [
    {
     "name": "stdout",
     "output_type": "stream",
     "text": [
      "<class 'pandas.core.frame.DataFrame'>\n",
      "DatetimeIndex: 3501 entries, 2023-01-09 14:30:00+00:00 to 2025-01-08 20:30:00+00:00\n",
      "Data columns (total 5 columns):\n",
      " #   Column        Non-Null Count  Dtype  \n",
      "---  ------        --------------  -----  \n",
      " 0   (Close, TM)   3501 non-null   float64\n",
      " 1   (High, TM)    3501 non-null   float64\n",
      " 2   (Low, TM)     3501 non-null   float64\n",
      " 3   (Open, TM)    3501 non-null   float64\n",
      " 4   (Volume, TM)  3501 non-null   int64  \n",
      "dtypes: float64(4), int64(1)\n",
      "memory usage: 164.1 KB\n"
     ]
    }
   ],
   "source": [
    "tm_medium_data.info()"
   ]
  },
  {
   "cell_type": "code",
   "execution_count": 8,
   "id": "616f7e2f",
   "metadata": {},
   "outputs": [
    {
     "data": {
      "text/html": [
       "<div>\n",
       "<style scoped>\n",
       "    .dataframe tbody tr th:only-of-type {\n",
       "        vertical-align: middle;\n",
       "    }\n",
       "\n",
       "    .dataframe tbody tr th {\n",
       "        vertical-align: top;\n",
       "    }\n",
       "\n",
       "    .dataframe thead tr th {\n",
       "        text-align: left;\n",
       "    }\n",
       "</style>\n",
       "<table border=\"1\" class=\"dataframe\">\n",
       "  <thead>\n",
       "    <tr>\n",
       "      <th>Price</th>\n",
       "      <th>Close</th>\n",
       "      <th>High</th>\n",
       "      <th>Low</th>\n",
       "      <th>Open</th>\n",
       "      <th>Volume</th>\n",
       "    </tr>\n",
       "    <tr>\n",
       "      <th>Ticker</th>\n",
       "      <th>TM</th>\n",
       "      <th>TM</th>\n",
       "      <th>TM</th>\n",
       "      <th>TM</th>\n",
       "      <th>TM</th>\n",
       "    </tr>\n",
       "  </thead>\n",
       "  <tbody>\n",
       "    <tr>\n",
       "      <th>count</th>\n",
       "      <td>3501.000000</td>\n",
       "      <td>3501.000000</td>\n",
       "      <td>3501.000000</td>\n",
       "      <td>3501.000000</td>\n",
       "      <td>3501.000000</td>\n",
       "    </tr>\n",
       "    <tr>\n",
       "      <th>mean</th>\n",
       "      <td>180.806925</td>\n",
       "      <td>181.138251</td>\n",
       "      <td>180.457024</td>\n",
       "      <td>180.805854</td>\n",
       "      <td>41763.123679</td>\n",
       "    </tr>\n",
       "    <tr>\n",
       "      <th>std</th>\n",
       "      <td>30.403731</td>\n",
       "      <td>30.452493</td>\n",
       "      <td>30.344683</td>\n",
       "      <td>30.401737</td>\n",
       "      <td>30012.032558</td>\n",
       "    </tr>\n",
       "    <tr>\n",
       "      <th>min</th>\n",
       "      <td>132.660004</td>\n",
       "      <td>133.035004</td>\n",
       "      <td>132.350006</td>\n",
       "      <td>132.750000</td>\n",
       "      <td>6099.000000</td>\n",
       "    </tr>\n",
       "    <tr>\n",
       "      <th>25%</th>\n",
       "      <td>161.770004</td>\n",
       "      <td>161.970001</td>\n",
       "      <td>161.361694</td>\n",
       "      <td>161.464996</td>\n",
       "      <td>23312.000000</td>\n",
       "    </tr>\n",
       "    <tr>\n",
       "      <th>50%</th>\n",
       "      <td>177.580002</td>\n",
       "      <td>177.990005</td>\n",
       "      <td>177.315002</td>\n",
       "      <td>177.630005</td>\n",
       "      <td>33680.000000</td>\n",
       "    </tr>\n",
       "    <tr>\n",
       "      <th>75%</th>\n",
       "      <td>197.419998</td>\n",
       "      <td>197.889999</td>\n",
       "      <td>197.080002</td>\n",
       "      <td>197.500000</td>\n",
       "      <td>49751.000000</td>\n",
       "    </tr>\n",
       "    <tr>\n",
       "      <th>max</th>\n",
       "      <td>255.220001</td>\n",
       "      <td>255.229996</td>\n",
       "      <td>254.622894</td>\n",
       "      <td>255.199997</td>\n",
       "      <td>434348.000000</td>\n",
       "    </tr>\n",
       "  </tbody>\n",
       "</table>\n",
       "</div>"
      ],
      "text/plain": [
       "Price         Close         High          Low         Open         Volume\n",
       "Ticker           TM           TM           TM           TM             TM\n",
       "count   3501.000000  3501.000000  3501.000000  3501.000000    3501.000000\n",
       "mean     180.806925   181.138251   180.457024   180.805854   41763.123679\n",
       "std       30.403731    30.452493    30.344683    30.401737   30012.032558\n",
       "min      132.660004   133.035004   132.350006   132.750000    6099.000000\n",
       "25%      161.770004   161.970001   161.361694   161.464996   23312.000000\n",
       "50%      177.580002   177.990005   177.315002   177.630005   33680.000000\n",
       "75%      197.419998   197.889999   197.080002   197.500000   49751.000000\n",
       "max      255.220001   255.229996   254.622894   255.199997  434348.000000"
      ]
     },
     "execution_count": 8,
     "metadata": {},
     "output_type": "execute_result"
    }
   ],
   "source": [
    "tm_medium_data.describe()"
   ]
  },
  {
   "cell_type": "code",
   "execution_count": null,
   "id": "2ebf35f1",
   "metadata": {},
   "outputs": [],
   "source": []
  }
 ],
 "metadata": {
  "kernelspec": {
   "display_name": "base",
   "language": "python",
   "name": "python3"
  },
  "language_info": {
   "codemirror_mode": {
    "name": "ipython",
    "version": 3
   },
   "file_extension": ".py",
   "mimetype": "text/x-python",
   "name": "python",
   "nbconvert_exporter": "python",
   "pygments_lexer": "ipython3",
   "version": "3.12.4"
  }
 },
 "nbformat": 4,
 "nbformat_minor": 5
}
