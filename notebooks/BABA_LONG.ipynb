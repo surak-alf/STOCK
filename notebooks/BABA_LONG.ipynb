{
 "cells": [
  {
   "cell_type": "code",
   "execution_count": 9,
   "id": "3dcbbcf2",
   "metadata": {},
   "outputs": [],
   "source": [
    "import pandas as pd\n",
    "import numpy as np\n",
    "import yfinance as yf\n",
    "import matplotlib.pyplot as plt\n",
    "import seaborn as sns"
   ]
  },
  {
   "cell_type": "code",
   "execution_count": 10,
   "id": "7c008ec1",
   "metadata": {},
   "outputs": [],
   "source": [
    "import sys\n",
    "import os\n",
    "\n",
    "# Get the directory of the current notebook\n",
    "current_dir = os.path.dirname(os.path.abspath('../scripts')) \n",
    "\n",
    "# Add the 'scripts' directory to the Python path\n",
    "scripts_dir = os.path.join(current_dir, 'scripts')\n",
    "sys.path.append(scripts_dir)"
   ]
  },
  {
   "cell_type": "code",
   "execution_count": 4,
   "id": "50717885",
   "metadata": {},
   "outputs": [],
   "source": [
    "from utils import download_stock_data"
   ]
  },
  {
   "cell_type": "code",
   "execution_count": 5,
   "id": "cd9ed6d5",
   "metadata": {},
   "outputs": [
    {
     "name": "stderr",
     "output_type": "stream",
     "text": [
      "[*********************100%***********************]  1 of 1 completed\n"
     ]
    }
   ],
   "source": [
    "baba_long_data = download_stock_data(\"BABA\", \"max\", \"1d\")"
   ]
  },
  {
   "cell_type": "code",
   "execution_count": 6,
   "id": "e93fbabe",
   "metadata": {},
   "outputs": [
    {
     "data": {
      "text/html": [
       "<div>\n",
       "<style scoped>\n",
       "    .dataframe tbody tr th:only-of-type {\n",
       "        vertical-align: middle;\n",
       "    }\n",
       "\n",
       "    .dataframe tbody tr th {\n",
       "        vertical-align: top;\n",
       "    }\n",
       "\n",
       "    .dataframe thead tr th {\n",
       "        text-align: left;\n",
       "    }\n",
       "\n",
       "    .dataframe thead tr:last-of-type th {\n",
       "        text-align: right;\n",
       "    }\n",
       "</style>\n",
       "<table border=\"1\" class=\"dataframe\">\n",
       "  <thead>\n",
       "    <tr>\n",
       "      <th>Price</th>\n",
       "      <th>Close</th>\n",
       "      <th>High</th>\n",
       "      <th>Low</th>\n",
       "      <th>Open</th>\n",
       "      <th>Volume</th>\n",
       "    </tr>\n",
       "    <tr>\n",
       "      <th>Ticker</th>\n",
       "      <th>BABA</th>\n",
       "      <th>BABA</th>\n",
       "      <th>BABA</th>\n",
       "      <th>BABA</th>\n",
       "      <th>BABA</th>\n",
       "    </tr>\n",
       "    <tr>\n",
       "      <th>Date</th>\n",
       "      <th></th>\n",
       "      <th></th>\n",
       "      <th></th>\n",
       "      <th></th>\n",
       "      <th></th>\n",
       "    </tr>\n",
       "  </thead>\n",
       "  <tbody>\n",
       "    <tr>\n",
       "      <th>2014-09-19</th>\n",
       "      <td>90.673950</td>\n",
       "      <td>96.284936</td>\n",
       "      <td>86.868906</td>\n",
       "      <td>89.524709</td>\n",
       "      <td>271879400</td>\n",
       "    </tr>\n",
       "    <tr>\n",
       "      <th>2014-09-22</th>\n",
       "      <td>86.810966</td>\n",
       "      <td>89.766149</td>\n",
       "      <td>86.434326</td>\n",
       "      <td>89.524712</td>\n",
       "      <td>66657800</td>\n",
       "    </tr>\n",
       "    <tr>\n",
       "      <th>2014-09-23</th>\n",
       "      <td>84.184128</td>\n",
       "      <td>87.380754</td>\n",
       "      <td>83.652972</td>\n",
       "      <td>85.893503</td>\n",
       "      <td>39009800</td>\n",
       "    </tr>\n",
       "    <tr>\n",
       "      <th>2014-09-24</th>\n",
       "      <td>87.467674</td>\n",
       "      <td>87.467674</td>\n",
       "      <td>84.232424</td>\n",
       "      <td>85.439608</td>\n",
       "      <td>32088000</td>\n",
       "    </tr>\n",
       "    <tr>\n",
       "      <th>2014-09-25</th>\n",
       "      <td>85.874184</td>\n",
       "      <td>88.365812</td>\n",
       "      <td>85.468572</td>\n",
       "      <td>87.969852</td>\n",
       "      <td>28598000</td>\n",
       "    </tr>\n",
       "  </tbody>\n",
       "</table>\n",
       "</div>"
      ],
      "text/plain": [
       "Price           Close       High        Low       Open     Volume\n",
       "Ticker           BABA       BABA       BABA       BABA       BABA\n",
       "Date                                                             \n",
       "2014-09-19  90.673950  96.284936  86.868906  89.524709  271879400\n",
       "2014-09-22  86.810966  89.766149  86.434326  89.524712   66657800\n",
       "2014-09-23  84.184128  87.380754  83.652972  85.893503   39009800\n",
       "2014-09-24  87.467674  87.467674  84.232424  85.439608   32088000\n",
       "2014-09-25  85.874184  88.365812  85.468572  87.969852   28598000"
      ]
     },
     "execution_count": 6,
     "metadata": {},
     "output_type": "execute_result"
    }
   ],
   "source": [
    "baba_long_data.head()"
   ]
  },
  {
   "cell_type": "code",
   "execution_count": 11,
   "id": "358fca27",
   "metadata": {},
   "outputs": [],
   "source": [
    "from utils import analyze_numericals"
   ]
  },
  {
   "cell_type": "code",
   "execution_count": 12,
   "id": "d65c526b",
   "metadata": {},
   "outputs": [
    {
     "ename": "NameError",
     "evalue": "name 'np' is not defined",
     "output_type": "error",
     "traceback": [
      "\u001b[1;31m---------------------------------------------------------------------------\u001b[0m",
      "\u001b[1;31mNameError\u001b[0m                                 Traceback (most recent call last)",
      "Cell \u001b[1;32mIn[12], line 1\u001b[0m\n\u001b[1;32m----> 1\u001b[0m \u001b[43manalyze_numericals\u001b[49m\u001b[43m(\u001b[49m\u001b[43mbaba_long_data\u001b[49m\u001b[43m)\u001b[49m\n",
      "File \u001b[1;32mc:\\Users\\Maintenant prêt\\Desktop\\STOCK\\scripts\\utils.py:19\u001b[0m, in \u001b[0;36manalyze_numericals\u001b[1;34m(data)\u001b[0m\n\u001b[0;32m     17\u001b[0m \u001b[38;5;28;01mdef\u001b[39;00m \u001b[38;5;21manalyze_numericals\u001b[39m(data):\n\u001b[1;32m---> 19\u001b[0m   numerical_columns \u001b[38;5;241m=\u001b[39m data\u001b[38;5;241m.\u001b[39mselect_dtypes(include\u001b[38;5;241m=\u001b[39m[\u001b[43mnp\u001b[49m\u001b[38;5;241m.\u001b[39mnumber])\u001b[38;5;241m.\u001b[39mcolumns\n\u001b[0;32m     21\u001b[0m   \u001b[38;5;66;03m# Perform univariate analysis on numerical columns\u001b[39;00m\n\u001b[0;32m     22\u001b[0m   \u001b[38;5;28;01mfor\u001b[39;00m column \u001b[38;5;129;01min\u001b[39;00m numerical_columns:\n\u001b[0;32m     23\u001b[0m     \u001b[38;5;66;03m# For continuous variables with more than 10 unique values\u001b[39;00m\n",
      "\u001b[1;31mNameError\u001b[0m: name 'np' is not defined"
     ]
    }
   ],
   "source": [
    "analyze_numericals(baba_long_data)"
   ]
  },
  {
   "cell_type": "code",
   "execution_count": 9,
   "id": "b2b31b24",
   "metadata": {},
   "outputs": [
    {
     "data": {
      "text/plain": [
       "(2593, 5)"
      ]
     },
     "execution_count": 9,
     "metadata": {},
     "output_type": "execute_result"
    }
   ],
   "source": [
    "baba_long_data.shape"
   ]
  },
  {
   "cell_type": "code",
   "execution_count": 10,
   "id": "dcc2dad3",
   "metadata": {},
   "outputs": [
    {
     "name": "stdout",
     "output_type": "stream",
     "text": [
      "<class 'pandas.core.frame.DataFrame'>\n",
      "DatetimeIndex: 2593 entries, 2014-09-19 to 2025-01-08\n",
      "Data columns (total 5 columns):\n",
      " #   Column          Non-Null Count  Dtype  \n",
      "---  ------          --------------  -----  \n",
      " 0   (Close, BABA)   2593 non-null   float64\n",
      " 1   (High, BABA)    2593 non-null   float64\n",
      " 2   (Low, BABA)     2593 non-null   float64\n",
      " 3   (Open, BABA)    2593 non-null   float64\n",
      " 4   (Volume, BABA)  2593 non-null   int64  \n",
      "dtypes: float64(4), int64(1)\n",
      "memory usage: 121.5 KB\n"
     ]
    }
   ],
   "source": [
    "baba_long_data.info()"
   ]
  },
  {
   "cell_type": "code",
   "execution_count": 11,
   "id": "f90368fa",
   "metadata": {},
   "outputs": [
    {
     "data": {
      "text/html": [
       "<div>\n",
       "<style scoped>\n",
       "    .dataframe tbody tr th:only-of-type {\n",
       "        vertical-align: middle;\n",
       "    }\n",
       "\n",
       "    .dataframe tbody tr th {\n",
       "        vertical-align: top;\n",
       "    }\n",
       "\n",
       "    .dataframe thead tr th {\n",
       "        text-align: left;\n",
       "    }\n",
       "</style>\n",
       "<table border=\"1\" class=\"dataframe\">\n",
       "  <thead>\n",
       "    <tr>\n",
       "      <th>Price</th>\n",
       "      <th>Close</th>\n",
       "      <th>High</th>\n",
       "      <th>Low</th>\n",
       "      <th>Open</th>\n",
       "      <th>Volume</th>\n",
       "    </tr>\n",
       "    <tr>\n",
       "      <th>Ticker</th>\n",
       "      <th>BABA</th>\n",
       "      <th>BABA</th>\n",
       "      <th>BABA</th>\n",
       "      <th>BABA</th>\n",
       "      <th>BABA</th>\n",
       "    </tr>\n",
       "  </thead>\n",
       "  <tbody>\n",
       "    <tr>\n",
       "      <th>count</th>\n",
       "      <td>2593.000000</td>\n",
       "      <td>2593.000000</td>\n",
       "      <td>2593.000000</td>\n",
       "      <td>2593.000000</td>\n",
       "      <td>2.593000e+03</td>\n",
       "    </tr>\n",
       "    <tr>\n",
       "      <th>mean</th>\n",
       "      <td>131.090086</td>\n",
       "      <td>132.800686</td>\n",
       "      <td>129.356994</td>\n",
       "      <td>131.188917</td>\n",
       "      <td>1.891795e+07</td>\n",
       "    </tr>\n",
       "    <tr>\n",
       "      <th>std</th>\n",
       "      <td>56.890173</td>\n",
       "      <td>57.495112</td>\n",
       "      <td>56.206189</td>\n",
       "      <td>56.969504</td>\n",
       "      <td>1.285068e+07</td>\n",
       "    </tr>\n",
       "    <tr>\n",
       "      <th>min</th>\n",
       "      <td>55.424198</td>\n",
       "      <td>56.641038</td>\n",
       "      <td>55.240704</td>\n",
       "      <td>55.337277</td>\n",
       "      <td>3.775300e+06</td>\n",
       "    </tr>\n",
       "    <tr>\n",
       "      <th>25%</th>\n",
       "      <td>82.436134</td>\n",
       "      <td>83.459822</td>\n",
       "      <td>81.489691</td>\n",
       "      <td>82.397503</td>\n",
       "      <td>1.186070e+07</td>\n",
       "    </tr>\n",
       "    <tr>\n",
       "      <th>50%</th>\n",
       "      <td>106.077606</td>\n",
       "      <td>107.960815</td>\n",
       "      <td>104.551733</td>\n",
       "      <td>106.328702</td>\n",
       "      <td>1.598180e+07</td>\n",
       "    </tr>\n",
       "    <tr>\n",
       "      <th>75%</th>\n",
       "      <td>173.457748</td>\n",
       "      <td>175.649995</td>\n",
       "      <td>171.226871</td>\n",
       "      <td>173.544668</td>\n",
       "      <td>2.156870e+07</td>\n",
       "    </tr>\n",
       "    <tr>\n",
       "      <th>max</th>\n",
       "      <td>306.276886</td>\n",
       "      <td>308.382206</td>\n",
       "      <td>298.328791</td>\n",
       "      <td>302.761578</td>\n",
       "      <td>2.718794e+08</td>\n",
       "    </tr>\n",
       "  </tbody>\n",
       "</table>\n",
       "</div>"
      ],
      "text/plain": [
       "Price         Close         High          Low         Open        Volume\n",
       "Ticker         BABA         BABA         BABA         BABA          BABA\n",
       "count   2593.000000  2593.000000  2593.000000  2593.000000  2.593000e+03\n",
       "mean     131.090086   132.800686   129.356994   131.188917  1.891795e+07\n",
       "std       56.890173    57.495112    56.206189    56.969504  1.285068e+07\n",
       "min       55.424198    56.641038    55.240704    55.337277  3.775300e+06\n",
       "25%       82.436134    83.459822    81.489691    82.397503  1.186070e+07\n",
       "50%      106.077606   107.960815   104.551733   106.328702  1.598180e+07\n",
       "75%      173.457748   175.649995   171.226871   173.544668  2.156870e+07\n",
       "max      306.276886   308.382206   298.328791   302.761578  2.718794e+08"
      ]
     },
     "execution_count": 11,
     "metadata": {},
     "output_type": "execute_result"
    }
   ],
   "source": [
    "baba_long_data.describe()"
   ]
  },
  {
   "cell_type": "code",
   "execution_count": null,
   "id": "90b4f476",
   "metadata": {},
   "outputs": [],
   "source": []
  }
 ],
 "metadata": {
  "kernelspec": {
   "display_name": "Python 3",
   "language": "python",
   "name": "python3"
  },
  "language_info": {
   "codemirror_mode": {
    "name": "ipython",
    "version": 3
   },
   "file_extension": ".py",
   "mimetype": "text/x-python",
   "name": "python",
   "nbconvert_exporter": "python",
   "pygments_lexer": "ipython3",
   "version": "3.12.4"
  }
 },
 "nbformat": 4,
 "nbformat_minor": 5
}
