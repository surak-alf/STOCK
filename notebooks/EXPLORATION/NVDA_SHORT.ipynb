{
 "cells": [
  {
   "cell_type": "code",
   "execution_count": 1,
   "id": "3dcbbcf2",
   "metadata": {},
   "outputs": [],
   "source": [
    "import pandas as pd\n",
    "import numpy as np\n",
    "import yfinance as yf\n",
    "import matplotlib.pyplot as plt\n",
    "import seaborn as sns"
   ]
  },
  {
   "cell_type": "code",
   "execution_count": 2,
   "id": "f4a1582b",
   "metadata": {},
   "outputs": [],
   "source": [
    "import sys\n",
    "import os\n",
    "\n",
    "# Get the directory of the current notebook\n",
    "current_dir = os.path.dirname(os.path.abspath('../scripts')) \n",
    "\n",
    "# Add the 'scripts' directory to the Python path\n",
    "scripts_dir = os.path.join(current_dir, 'scripts')\n",
    "sys.path.append(scripts_dir)"
   ]
  },
  {
   "cell_type": "code",
   "execution_count": 3,
   "id": "b41913bc",
   "metadata": {},
   "outputs": [],
   "source": [
    "from EDA import download_stock_data"
   ]
  },
  {
   "cell_type": "code",
   "execution_count": 9,
   "id": "1b3911a6",
   "metadata": {},
   "outputs": [
    {
     "name": "stderr",
     "output_type": "stream",
     "text": [
      "[*********************100%***********************]  1 of 1 completed\n"
     ]
    }
   ],
   "source": [
    "nvda_short_data = download_stock_data(\"NVDA\", \"1mo\", \"2m\")"
   ]
  },
  {
   "cell_type": "code",
   "execution_count": 10,
   "id": "eda39eb5",
   "metadata": {},
   "outputs": [
    {
     "data": {
      "text/html": [
       "<div>\n",
       "<style scoped>\n",
       "    .dataframe tbody tr th:only-of-type {\n",
       "        vertical-align: middle;\n",
       "    }\n",
       "\n",
       "    .dataframe tbody tr th {\n",
       "        vertical-align: top;\n",
       "    }\n",
       "\n",
       "    .dataframe thead tr th {\n",
       "        text-align: left;\n",
       "    }\n",
       "\n",
       "    .dataframe thead tr:last-of-type th {\n",
       "        text-align: right;\n",
       "    }\n",
       "</style>\n",
       "<table border=\"1\" class=\"dataframe\">\n",
       "  <thead>\n",
       "    <tr>\n",
       "      <th>Price</th>\n",
       "      <th>Close</th>\n",
       "      <th>High</th>\n",
       "      <th>Low</th>\n",
       "      <th>Open</th>\n",
       "      <th>Volume</th>\n",
       "    </tr>\n",
       "    <tr>\n",
       "      <th>Ticker</th>\n",
       "      <th>NVDA</th>\n",
       "      <th>NVDA</th>\n",
       "      <th>NVDA</th>\n",
       "      <th>NVDA</th>\n",
       "      <th>NVDA</th>\n",
       "    </tr>\n",
       "    <tr>\n",
       "      <th>Datetime</th>\n",
       "      <th></th>\n",
       "      <th></th>\n",
       "      <th></th>\n",
       "      <th></th>\n",
       "      <th></th>\n",
       "    </tr>\n",
       "  </thead>\n",
       "  <tbody>\n",
       "    <tr>\n",
       "      <th>2024-12-09 14:30:00+00:00</th>\n",
       "      <td>138.779999</td>\n",
       "      <td>139.000000</td>\n",
       "      <td>137.429993</td>\n",
       "      <td>138.987503</td>\n",
       "      <td>23223279</td>\n",
       "    </tr>\n",
       "    <tr>\n",
       "      <th>2024-12-09 14:32:00+00:00</th>\n",
       "      <td>138.125504</td>\n",
       "      <td>138.970001</td>\n",
       "      <td>137.970398</td>\n",
       "      <td>138.740005</td>\n",
       "      <td>2778123</td>\n",
       "    </tr>\n",
       "    <tr>\n",
       "      <th>2024-12-09 14:34:00+00:00</th>\n",
       "      <td>138.649994</td>\n",
       "      <td>138.699997</td>\n",
       "      <td>137.910004</td>\n",
       "      <td>138.110001</td>\n",
       "      <td>2348206</td>\n",
       "    </tr>\n",
       "    <tr>\n",
       "      <th>2024-12-09 14:36:00+00:00</th>\n",
       "      <td>138.449997</td>\n",
       "      <td>138.789993</td>\n",
       "      <td>138.330002</td>\n",
       "      <td>138.660004</td>\n",
       "      <td>1967406</td>\n",
       "    </tr>\n",
       "    <tr>\n",
       "      <th>2024-12-09 14:38:00+00:00</th>\n",
       "      <td>138.679596</td>\n",
       "      <td>138.699997</td>\n",
       "      <td>138.059998</td>\n",
       "      <td>138.440002</td>\n",
       "      <td>1658076</td>\n",
       "    </tr>\n",
       "  </tbody>\n",
       "</table>\n",
       "</div>"
      ],
      "text/plain": [
       "Price                           Close        High         Low        Open  \\\n",
       "Ticker                           NVDA        NVDA        NVDA        NVDA   \n",
       "Datetime                                                                    \n",
       "2024-12-09 14:30:00+00:00  138.779999  139.000000  137.429993  138.987503   \n",
       "2024-12-09 14:32:00+00:00  138.125504  138.970001  137.970398  138.740005   \n",
       "2024-12-09 14:34:00+00:00  138.649994  138.699997  137.910004  138.110001   \n",
       "2024-12-09 14:36:00+00:00  138.449997  138.789993  138.330002  138.660004   \n",
       "2024-12-09 14:38:00+00:00  138.679596  138.699997  138.059998  138.440002   \n",
       "\n",
       "Price                        Volume  \n",
       "Ticker                         NVDA  \n",
       "Datetime                             \n",
       "2024-12-09 14:30:00+00:00  23223279  \n",
       "2024-12-09 14:32:00+00:00   2778123  \n",
       "2024-12-09 14:34:00+00:00   2348206  \n",
       "2024-12-09 14:36:00+00:00   1967406  \n",
       "2024-12-09 14:38:00+00:00   1658076  "
      ]
     },
     "execution_count": 10,
     "metadata": {},
     "output_type": "execute_result"
    }
   ],
   "source": [
    "nvda_short_data.head()"
   ]
  },
  {
   "cell_type": "code",
   "execution_count": 11,
   "id": "ff3f0259",
   "metadata": {},
   "outputs": [
    {
     "data": {
      "text/plain": [
       "(4003, 5)"
      ]
     },
     "execution_count": 11,
     "metadata": {},
     "output_type": "execute_result"
    }
   ],
   "source": [
    "nvda_short_data.shape"
   ]
  },
  {
   "cell_type": "code",
   "execution_count": 12,
   "id": "c6266527",
   "metadata": {},
   "outputs": [
    {
     "name": "stdout",
     "output_type": "stream",
     "text": [
      "<class 'pandas.core.frame.DataFrame'>\n",
      "DatetimeIndex: 4003 entries, 2024-12-09 14:30:00+00:00 to 2025-01-08 20:58:00+00:00\n",
      "Data columns (total 5 columns):\n",
      " #   Column          Non-Null Count  Dtype  \n",
      "---  ------          --------------  -----  \n",
      " 0   (Close, NVDA)   4003 non-null   float64\n",
      " 1   (High, NVDA)    4003 non-null   float64\n",
      " 2   (Low, NVDA)     4003 non-null   float64\n",
      " 3   (Open, NVDA)    4003 non-null   float64\n",
      " 4   (Volume, NVDA)  4003 non-null   int64  \n",
      "dtypes: float64(4), int64(1)\n",
      "memory usage: 187.6 KB\n"
     ]
    }
   ],
   "source": [
    "nvda_short_data.info()"
   ]
  },
  {
   "cell_type": "code",
   "execution_count": 13,
   "id": "77fe9774",
   "metadata": {},
   "outputs": [
    {
     "data": {
      "text/html": [
       "<div>\n",
       "<style scoped>\n",
       "    .dataframe tbody tr th:only-of-type {\n",
       "        vertical-align: middle;\n",
       "    }\n",
       "\n",
       "    .dataframe tbody tr th {\n",
       "        vertical-align: top;\n",
       "    }\n",
       "\n",
       "    .dataframe thead tr th {\n",
       "        text-align: left;\n",
       "    }\n",
       "</style>\n",
       "<table border=\"1\" class=\"dataframe\">\n",
       "  <thead>\n",
       "    <tr>\n",
       "      <th>Price</th>\n",
       "      <th>Close</th>\n",
       "      <th>High</th>\n",
       "      <th>Low</th>\n",
       "      <th>Open</th>\n",
       "      <th>Volume</th>\n",
       "    </tr>\n",
       "    <tr>\n",
       "      <th>Ticker</th>\n",
       "      <th>NVDA</th>\n",
       "      <th>NVDA</th>\n",
       "      <th>NVDA</th>\n",
       "      <th>NVDA</th>\n",
       "      <th>NVDA</th>\n",
       "    </tr>\n",
       "  </thead>\n",
       "  <tbody>\n",
       "    <tr>\n",
       "      <th>count</th>\n",
       "      <td>4003.000000</td>\n",
       "      <td>4003.000000</td>\n",
       "      <td>4003.000000</td>\n",
       "      <td>4003.000000</td>\n",
       "      <td>4.003000e+03</td>\n",
       "    </tr>\n",
       "    <tr>\n",
       "      <th>mean</th>\n",
       "      <td>137.575249</td>\n",
       "      <td>137.734973</td>\n",
       "      <td>137.414950</td>\n",
       "      <td>137.578982</td>\n",
       "      <td>9.498257e+05</td>\n",
       "    </tr>\n",
       "    <tr>\n",
       "      <th>std</th>\n",
       "      <td>4.760954</td>\n",
       "      <td>4.763318</td>\n",
       "      <td>4.764255</td>\n",
       "      <td>4.765333</td>\n",
       "      <td>1.273666e+06</td>\n",
       "    </tr>\n",
       "    <tr>\n",
       "      <th>min</th>\n",
       "      <td>127.019997</td>\n",
       "      <td>127.250000</td>\n",
       "      <td>126.860001</td>\n",
       "      <td>127.028503</td>\n",
       "      <td>3.010200e+04</td>\n",
       "    </tr>\n",
       "    <tr>\n",
       "      <th>25%</th>\n",
       "      <td>134.579803</td>\n",
       "      <td>134.745003</td>\n",
       "      <td>134.429993</td>\n",
       "      <td>134.589897</td>\n",
       "      <td>4.809075e+05</td>\n",
       "    </tr>\n",
       "    <tr>\n",
       "      <th>50%</th>\n",
       "      <td>137.345001</td>\n",
       "      <td>137.490005</td>\n",
       "      <td>137.130005</td>\n",
       "      <td>137.349304</td>\n",
       "      <td>6.763040e+05</td>\n",
       "    </tr>\n",
       "    <tr>\n",
       "      <th>75%</th>\n",
       "      <td>139.904503</td>\n",
       "      <td>140.000000</td>\n",
       "      <td>139.759995</td>\n",
       "      <td>139.899994</td>\n",
       "      <td>1.023222e+06</td>\n",
       "    </tr>\n",
       "    <tr>\n",
       "      <th>max</th>\n",
       "      <td>152.080002</td>\n",
       "      <td>153.130005</td>\n",
       "      <td>151.899994</td>\n",
       "      <td>153.048004</td>\n",
       "      <td>3.509331e+07</td>\n",
       "    </tr>\n",
       "  </tbody>\n",
       "</table>\n",
       "</div>"
      ],
      "text/plain": [
       "Price         Close         High          Low         Open        Volume\n",
       "Ticker         NVDA         NVDA         NVDA         NVDA          NVDA\n",
       "count   4003.000000  4003.000000  4003.000000  4003.000000  4.003000e+03\n",
       "mean     137.575249   137.734973   137.414950   137.578982  9.498257e+05\n",
       "std        4.760954     4.763318     4.764255     4.765333  1.273666e+06\n",
       "min      127.019997   127.250000   126.860001   127.028503  3.010200e+04\n",
       "25%      134.579803   134.745003   134.429993   134.589897  4.809075e+05\n",
       "50%      137.345001   137.490005   137.130005   137.349304  6.763040e+05\n",
       "75%      139.904503   140.000000   139.759995   139.899994  1.023222e+06\n",
       "max      152.080002   153.130005   151.899994   153.048004  3.509331e+07"
      ]
     },
     "execution_count": 13,
     "metadata": {},
     "output_type": "execute_result"
    }
   ],
   "source": [
    "nvda_short_data.describe()"
   ]
  },
  {
   "cell_type": "code",
   "execution_count": null,
   "id": "1e27e1f3",
   "metadata": {},
   "outputs": [],
   "source": []
  },
  {
   "cell_type": "code",
   "execution_count": null,
   "id": "f7ba820b",
   "metadata": {},
   "outputs": [],
   "source": []
  },
  {
   "cell_type": "code",
   "execution_count": null,
   "id": "a9871efd",
   "metadata": {},
   "outputs": [],
   "source": []
  },
  {
   "cell_type": "code",
   "execution_count": null,
   "id": "b1e4de2b",
   "metadata": {},
   "outputs": [],
   "source": []
  },
  {
   "cell_type": "code",
   "execution_count": null,
   "id": "8e7abdfe",
   "metadata": {},
   "outputs": [],
   "source": []
  }
 ],
 "metadata": {
  "kernelspec": {
   "display_name": "base",
   "language": "python",
   "name": "python3"
  },
  "language_info": {
   "codemirror_mode": {
    "name": "ipython",
    "version": 3
   },
   "file_extension": ".py",
   "mimetype": "text/x-python",
   "name": "python",
   "nbconvert_exporter": "python",
   "pygments_lexer": "ipython3",
   "version": "3.12.4"
  }
 },
 "nbformat": 4,
 "nbformat_minor": 5
}
