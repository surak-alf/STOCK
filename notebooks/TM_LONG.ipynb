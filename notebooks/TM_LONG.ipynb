{
 "cells": [
  {
   "cell_type": "code",
   "execution_count": 1,
   "id": "3dcbbcf2",
   "metadata": {},
   "outputs": [],
   "source": [
    "import pandas as pd\n",
    "import numpy as np\n",
    "import yfinance as yf\n",
    "import matplotlib.pyplot as plt"
   ]
  },
  {
   "cell_type": "code",
   "execution_count": 2,
   "id": "ead32580",
   "metadata": {},
   "outputs": [],
   "source": [
    "import sys\n",
    "import os\n",
    "\n",
    "# Get the directory of the current notebook\n",
    "current_dir = os.path.dirname(os.path.abspath('../scripts')) \n",
    "\n",
    "# Add the 'scripts' directory to the Python path\n",
    "scripts_dir = os.path.join(current_dir, 'scripts')\n",
    "sys.path.append(scripts_dir)"
   ]
  },
  {
   "cell_type": "code",
   "execution_count": 3,
   "id": "32c9ffb9",
   "metadata": {},
   "outputs": [],
   "source": [
    "from EDA import download_stock_data"
   ]
  },
  {
   "cell_type": "code",
   "execution_count": 4,
   "id": "3b3fd125",
   "metadata": {},
   "outputs": [
    {
     "name": "stderr",
     "output_type": "stream",
     "text": [
      "[*********************100%***********************]  1 of 1 completed\n"
     ]
    }
   ],
   "source": [
    "tm_long_data = download_stock_data(\"TM\", \"max\", \"1d\")"
   ]
  },
  {
   "cell_type": "code",
   "execution_count": 5,
   "id": "d627504e",
   "metadata": {},
   "outputs": [
    {
     "data": {
      "text/html": [
       "<div>\n",
       "<style scoped>\n",
       "    .dataframe tbody tr th:only-of-type {\n",
       "        vertical-align: middle;\n",
       "    }\n",
       "\n",
       "    .dataframe tbody tr th {\n",
       "        vertical-align: top;\n",
       "    }\n",
       "\n",
       "    .dataframe thead tr th {\n",
       "        text-align: left;\n",
       "    }\n",
       "\n",
       "    .dataframe thead tr:last-of-type th {\n",
       "        text-align: right;\n",
       "    }\n",
       "</style>\n",
       "<table border=\"1\" class=\"dataframe\">\n",
       "  <thead>\n",
       "    <tr>\n",
       "      <th>Price</th>\n",
       "      <th>Close</th>\n",
       "      <th>High</th>\n",
       "      <th>Low</th>\n",
       "      <th>Open</th>\n",
       "      <th>Volume</th>\n",
       "    </tr>\n",
       "    <tr>\n",
       "      <th>Ticker</th>\n",
       "      <th>TM</th>\n",
       "      <th>TM</th>\n",
       "      <th>TM</th>\n",
       "      <th>TM</th>\n",
       "      <th>TM</th>\n",
       "    </tr>\n",
       "    <tr>\n",
       "      <th>Date</th>\n",
       "      <th></th>\n",
       "      <th></th>\n",
       "      <th></th>\n",
       "      <th></th>\n",
       "      <th></th>\n",
       "    </tr>\n",
       "  </thead>\n",
       "  <tbody>\n",
       "    <tr>\n",
       "      <th>1980-03-17</th>\n",
       "      <td>2.296797</td>\n",
       "      <td>2.334143</td>\n",
       "      <td>2.296797</td>\n",
       "      <td>0.000000</td>\n",
       "      <td>41109</td>\n",
       "    </tr>\n",
       "    <tr>\n",
       "      <th>1980-03-18</th>\n",
       "      <td>2.306135</td>\n",
       "      <td>2.343481</td>\n",
       "      <td>2.306135</td>\n",
       "      <td>0.000000</td>\n",
       "      <td>9343</td>\n",
       "    </tr>\n",
       "    <tr>\n",
       "      <th>1980-03-19</th>\n",
       "      <td>2.306135</td>\n",
       "      <td>2.306135</td>\n",
       "      <td>2.306135</td>\n",
       "      <td>2.306135</td>\n",
       "      <td>0</td>\n",
       "    </tr>\n",
       "    <tr>\n",
       "      <th>1980-03-20</th>\n",
       "      <td>2.306135</td>\n",
       "      <td>2.343481</td>\n",
       "      <td>2.306135</td>\n",
       "      <td>0.000000</td>\n",
       "      <td>10277</td>\n",
       "    </tr>\n",
       "    <tr>\n",
       "      <th>1980-03-21</th>\n",
       "      <td>2.362154</td>\n",
       "      <td>2.399500</td>\n",
       "      <td>2.362154</td>\n",
       "      <td>0.000000</td>\n",
       "      <td>8409</td>\n",
       "    </tr>\n",
       "  </tbody>\n",
       "</table>\n",
       "</div>"
      ],
      "text/plain": [
       "Price          Close      High       Low      Open Volume\n",
       "Ticker            TM        TM        TM        TM     TM\n",
       "Date                                                     \n",
       "1980-03-17  2.296797  2.334143  2.296797  0.000000  41109\n",
       "1980-03-18  2.306135  2.343481  2.306135  0.000000   9343\n",
       "1980-03-19  2.306135  2.306135  2.306135  2.306135      0\n",
       "1980-03-20  2.306135  2.343481  2.306135  0.000000  10277\n",
       "1980-03-21  2.362154  2.399500  2.362154  0.000000   8409"
      ]
     },
     "execution_count": 5,
     "metadata": {},
     "output_type": "execute_result"
    }
   ],
   "source": [
    "tm_long_data.head()"
   ]
  },
  {
   "cell_type": "code",
   "execution_count": 6,
   "id": "2faf7aad",
   "metadata": {},
   "outputs": [
    {
     "data": {
      "text/plain": [
       "(11298, 5)"
      ]
     },
     "execution_count": 6,
     "metadata": {},
     "output_type": "execute_result"
    }
   ],
   "source": [
    "tm_long_data.shape"
   ]
  },
  {
   "cell_type": "code",
   "execution_count": 8,
   "id": "47b3044d",
   "metadata": {},
   "outputs": [
    {
     "name": "stdout",
     "output_type": "stream",
     "text": [
      "<class 'pandas.core.frame.DataFrame'>\n",
      "DatetimeIndex: 11298 entries, 1980-03-17 to 2025-01-08\n",
      "Data columns (total 5 columns):\n",
      " #   Column        Non-Null Count  Dtype  \n",
      "---  ------        --------------  -----  \n",
      " 0   (Close, TM)   11298 non-null  float64\n",
      " 1   (High, TM)    11298 non-null  float64\n",
      " 2   (Low, TM)     11298 non-null  float64\n",
      " 3   (Open, TM)    11298 non-null  float64\n",
      " 4   (Volume, TM)  11298 non-null  int64  \n",
      "dtypes: float64(4), int64(1)\n",
      "memory usage: 529.6 KB\n"
     ]
    }
   ],
   "source": [
    "tm_long_data.info()"
   ]
  },
  {
   "cell_type": "code",
   "execution_count": 9,
   "id": "c10f6068",
   "metadata": {},
   "outputs": [
    {
     "data": {
      "text/html": [
       "<div>\n",
       "<style scoped>\n",
       "    .dataframe tbody tr th:only-of-type {\n",
       "        vertical-align: middle;\n",
       "    }\n",
       "\n",
       "    .dataframe tbody tr th {\n",
       "        vertical-align: top;\n",
       "    }\n",
       "\n",
       "    .dataframe thead tr th {\n",
       "        text-align: left;\n",
       "    }\n",
       "</style>\n",
       "<table border=\"1\" class=\"dataframe\">\n",
       "  <thead>\n",
       "    <tr>\n",
       "      <th>Price</th>\n",
       "      <th>Close</th>\n",
       "      <th>High</th>\n",
       "      <th>Low</th>\n",
       "      <th>Open</th>\n",
       "      <th>Volume</th>\n",
       "    </tr>\n",
       "    <tr>\n",
       "      <th>Ticker</th>\n",
       "      <th>TM</th>\n",
       "      <th>TM</th>\n",
       "      <th>TM</th>\n",
       "      <th>TM</th>\n",
       "      <th>TM</th>\n",
       "    </tr>\n",
       "  </thead>\n",
       "  <tbody>\n",
       "    <tr>\n",
       "      <th>count</th>\n",
       "      <td>11298.000000</td>\n",
       "      <td>11298.000000</td>\n",
       "      <td>11298.000000</td>\n",
       "      <td>11298.000000</td>\n",
       "      <td>1.129800e+04</td>\n",
       "    </tr>\n",
       "    <tr>\n",
       "      <th>mean</th>\n",
       "      <td>63.666785</td>\n",
       "      <td>64.034084</td>\n",
       "      <td>63.301607</td>\n",
       "      <td>60.808400</td>\n",
       "      <td>2.148655e+05</td>\n",
       "    </tr>\n",
       "    <tr>\n",
       "      <th>std</th>\n",
       "      <td>52.355995</td>\n",
       "      <td>52.621957</td>\n",
       "      <td>52.045363</td>\n",
       "      <td>55.282919</td>\n",
       "      <td>3.873993e+05</td>\n",
       "    </tr>\n",
       "    <tr>\n",
       "      <th>min</th>\n",
       "      <td>2.259451</td>\n",
       "      <td>2.259451</td>\n",
       "      <td>2.259451</td>\n",
       "      <td>0.000000</td>\n",
       "      <td>0.000000e+00</td>\n",
       "    </tr>\n",
       "    <tr>\n",
       "      <th>25%</th>\n",
       "      <td>19.224642</td>\n",
       "      <td>19.355423</td>\n",
       "      <td>19.224642</td>\n",
       "      <td>0.000000</td>\n",
       "      <td>1.350000e+04</td>\n",
       "    </tr>\n",
       "    <tr>\n",
       "      <th>50%</th>\n",
       "      <td>50.617449</td>\n",
       "      <td>51.031762</td>\n",
       "      <td>50.292166</td>\n",
       "      <td>50.728913</td>\n",
       "      <td>9.139050e+04</td>\n",
       "    </tr>\n",
       "    <tr>\n",
       "      <th>75%</th>\n",
       "      <td>104.819155</td>\n",
       "      <td>105.336487</td>\n",
       "      <td>104.201612</td>\n",
       "      <td>104.899049</td>\n",
       "      <td>2.926000e+05</td>\n",
       "    </tr>\n",
       "    <tr>\n",
       "      <th>max</th>\n",
       "      <td>254.770004</td>\n",
       "      <td>255.229996</td>\n",
       "      <td>253.589996</td>\n",
       "      <td>255.000000</td>\n",
       "      <td>1.858270e+07</td>\n",
       "    </tr>\n",
       "  </tbody>\n",
       "</table>\n",
       "</div>"
      ],
      "text/plain": [
       "Price          Close          High           Low          Open        Volume\n",
       "Ticker            TM            TM            TM            TM            TM\n",
       "count   11298.000000  11298.000000  11298.000000  11298.000000  1.129800e+04\n",
       "mean       63.666785     64.034084     63.301607     60.808400  2.148655e+05\n",
       "std        52.355995     52.621957     52.045363     55.282919  3.873993e+05\n",
       "min         2.259451      2.259451      2.259451      0.000000  0.000000e+00\n",
       "25%        19.224642     19.355423     19.224642      0.000000  1.350000e+04\n",
       "50%        50.617449     51.031762     50.292166     50.728913  9.139050e+04\n",
       "75%       104.819155    105.336487    104.201612    104.899049  2.926000e+05\n",
       "max       254.770004    255.229996    253.589996    255.000000  1.858270e+07"
      ]
     },
     "execution_count": 9,
     "metadata": {},
     "output_type": "execute_result"
    }
   ],
   "source": [
    "tm_long_data.describe()"
   ]
  },
  {
   "cell_type": "code",
   "execution_count": null,
   "id": "a793d34e",
   "metadata": {},
   "outputs": [],
   "source": []
  },
  {
   "cell_type": "code",
   "execution_count": null,
   "id": "8e7abdfe",
   "metadata": {},
   "outputs": [],
   "source": []
  }
 ],
 "metadata": {
  "kernelspec": {
   "display_name": "base",
   "language": "python",
   "name": "python3"
  },
  "language_info": {
   "codemirror_mode": {
    "name": "ipython",
    "version": 3
   },
   "file_extension": ".py",
   "mimetype": "text/x-python",
   "name": "python",
   "nbconvert_exporter": "python",
   "pygments_lexer": "ipython3",
   "version": "3.12.4"
  }
 },
 "nbformat": 4,
 "nbformat_minor": 5
}
