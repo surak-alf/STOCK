{
 "cells": [
  {
   "cell_type": "code",
   "execution_count": 1,
   "id": "3dcbbcf2",
   "metadata": {},
   "outputs": [],
   "source": [
    "import yfinance as yf\n",
    "import matplotlib.pyplot as plt"
   ]
  },
  {
   "cell_type": "code",
   "execution_count": 2,
   "id": "2fb42890",
   "metadata": {},
   "outputs": [
    {
     "name": "stderr",
     "output_type": "stream",
     "text": [
      "[*********************100%***********************]  1 of 1 completed\n"
     ]
    }
   ],
   "source": [
    "# Downloading Bitcoin (TM) data for the maximum year with 1 day intervals\n",
    "data = yf.download(\n",
    "    tickers=['TM'],\n",
    "    period=\"max\",\n",
    "    interval=\"1d\"\n",
    ")"
   ]
  },
  {
   "cell_type": "code",
   "execution_count": 3,
   "id": "97de042c",
   "metadata": {},
   "outputs": [
    {
     "data": {
      "text/html": [
       "<div>\n",
       "<style scoped>\n",
       "    .dataframe tbody tr th:only-of-type {\n",
       "        vertical-align: middle;\n",
       "    }\n",
       "\n",
       "    .dataframe tbody tr th {\n",
       "        vertical-align: top;\n",
       "    }\n",
       "\n",
       "    .dataframe thead tr th {\n",
       "        text-align: left;\n",
       "    }\n",
       "\n",
       "    .dataframe thead tr:last-of-type th {\n",
       "        text-align: right;\n",
       "    }\n",
       "</style>\n",
       "<table border=\"1\" class=\"dataframe\">\n",
       "  <thead>\n",
       "    <tr>\n",
       "      <th>Price</th>\n",
       "      <th>Close</th>\n",
       "      <th>High</th>\n",
       "      <th>Low</th>\n",
       "      <th>Open</th>\n",
       "      <th>Volume</th>\n",
       "    </tr>\n",
       "    <tr>\n",
       "      <th>Ticker</th>\n",
       "      <th>TM</th>\n",
       "      <th>TM</th>\n",
       "      <th>TM</th>\n",
       "      <th>TM</th>\n",
       "      <th>TM</th>\n",
       "    </tr>\n",
       "    <tr>\n",
       "      <th>Date</th>\n",
       "      <th></th>\n",
       "      <th></th>\n",
       "      <th></th>\n",
       "      <th></th>\n",
       "      <th></th>\n",
       "    </tr>\n",
       "  </thead>\n",
       "  <tbody>\n",
       "    <tr>\n",
       "      <th>1980-03-17</th>\n",
       "      <td>2.296798</td>\n",
       "      <td>2.334144</td>\n",
       "      <td>2.296798</td>\n",
       "      <td>0.000000</td>\n",
       "      <td>41109</td>\n",
       "    </tr>\n",
       "    <tr>\n",
       "      <th>1980-03-18</th>\n",
       "      <td>2.306134</td>\n",
       "      <td>2.343480</td>\n",
       "      <td>2.306134</td>\n",
       "      <td>0.000000</td>\n",
       "      <td>9343</td>\n",
       "    </tr>\n",
       "    <tr>\n",
       "      <th>1980-03-19</th>\n",
       "      <td>2.306134</td>\n",
       "      <td>2.306134</td>\n",
       "      <td>2.306134</td>\n",
       "      <td>2.306134</td>\n",
       "      <td>0</td>\n",
       "    </tr>\n",
       "    <tr>\n",
       "      <th>1980-03-20</th>\n",
       "      <td>2.306134</td>\n",
       "      <td>2.343480</td>\n",
       "      <td>2.306134</td>\n",
       "      <td>0.000000</td>\n",
       "      <td>10277</td>\n",
       "    </tr>\n",
       "    <tr>\n",
       "      <th>1980-03-21</th>\n",
       "      <td>2.362154</td>\n",
       "      <td>2.399500</td>\n",
       "      <td>2.362154</td>\n",
       "      <td>0.000000</td>\n",
       "      <td>8409</td>\n",
       "    </tr>\n",
       "    <tr>\n",
       "      <th>...</th>\n",
       "      <td>...</td>\n",
       "      <td>...</td>\n",
       "      <td>...</td>\n",
       "      <td>...</td>\n",
       "      <td>...</td>\n",
       "    </tr>\n",
       "    <tr>\n",
       "      <th>2024-12-31</th>\n",
       "      <td>194.610001</td>\n",
       "      <td>196.570007</td>\n",
       "      <td>193.940002</td>\n",
       "      <td>195.350006</td>\n",
       "      <td>442600</td>\n",
       "    </tr>\n",
       "    <tr>\n",
       "      <th>2025-01-02</th>\n",
       "      <td>193.119995</td>\n",
       "      <td>194.800003</td>\n",
       "      <td>192.000000</td>\n",
       "      <td>194.399994</td>\n",
       "      <td>615500</td>\n",
       "    </tr>\n",
       "    <tr>\n",
       "      <th>2025-01-03</th>\n",
       "      <td>195.250000</td>\n",
       "      <td>195.500000</td>\n",
       "      <td>193.229996</td>\n",
       "      <td>194.190002</td>\n",
       "      <td>611300</td>\n",
       "    </tr>\n",
       "    <tr>\n",
       "      <th>2025-01-06</th>\n",
       "      <td>190.389999</td>\n",
       "      <td>193.270004</td>\n",
       "      <td>189.839996</td>\n",
       "      <td>193.000000</td>\n",
       "      <td>664400</td>\n",
       "    </tr>\n",
       "    <tr>\n",
       "      <th>2025-01-07</th>\n",
       "      <td>193.119995</td>\n",
       "      <td>194.970001</td>\n",
       "      <td>192.419998</td>\n",
       "      <td>194.589996</td>\n",
       "      <td>583300</td>\n",
       "    </tr>\n",
       "  </tbody>\n",
       "</table>\n",
       "<p>11297 rows × 5 columns</p>\n",
       "</div>"
      ],
      "text/plain": [
       "Price            Close        High         Low        Open  Volume\n",
       "Ticker              TM          TM          TM          TM      TM\n",
       "Date                                                              \n",
       "1980-03-17    2.296798    2.334144    2.296798    0.000000   41109\n",
       "1980-03-18    2.306134    2.343480    2.306134    0.000000    9343\n",
       "1980-03-19    2.306134    2.306134    2.306134    2.306134       0\n",
       "1980-03-20    2.306134    2.343480    2.306134    0.000000   10277\n",
       "1980-03-21    2.362154    2.399500    2.362154    0.000000    8409\n",
       "...                ...         ...         ...         ...     ...\n",
       "2024-12-31  194.610001  196.570007  193.940002  195.350006  442600\n",
       "2025-01-02  193.119995  194.800003  192.000000  194.399994  615500\n",
       "2025-01-03  195.250000  195.500000  193.229996  194.190002  611300\n",
       "2025-01-06  190.389999  193.270004  189.839996  193.000000  664400\n",
       "2025-01-07  193.119995  194.970001  192.419998  194.589996  583300\n",
       "\n",
       "[11297 rows x 5 columns]"
      ]
     },
     "execution_count": 3,
     "metadata": {},
     "output_type": "execute_result"
    }
   ],
   "source": [
    "data"
   ]
  },
  {
   "cell_type": "code",
   "execution_count": 4,
   "id": "c355dc37",
   "metadata": {},
   "outputs": [
    {
     "name": "stdout",
     "output_type": "stream",
     "text": [
      "<class 'pandas.core.frame.DataFrame'>\n",
      "DatetimeIndex: 11297 entries, 1980-03-17 to 2025-01-07\n",
      "Data columns (total 5 columns):\n",
      " #   Column        Non-Null Count  Dtype  \n",
      "---  ------        --------------  -----  \n",
      " 0   (Close, TM)   11297 non-null  float64\n",
      " 1   (High, TM)    11297 non-null  float64\n",
      " 2   (Low, TM)     11297 non-null  float64\n",
      " 3   (Open, TM)    11297 non-null  float64\n",
      " 4   (Volume, TM)  11297 non-null  int64  \n",
      "dtypes: float64(4), int64(1)\n",
      "memory usage: 529.5 KB\n"
     ]
    }
   ],
   "source": [
    "data.info()"
   ]
  },
  {
   "cell_type": "code",
   "execution_count": 5,
   "id": "92fcc4a4",
   "metadata": {},
   "outputs": [
    {
     "data": {
      "image/png": "[encoded data removed]",
      "text/plain": [
       "<Figure size 640x480 with 1 Axes>"
      ]
     },
     "metadata": {},
     "output_type": "display_data"
    }
   ],
   "source": [
    "# Plotting the data (you can customize the plot here)\n",
    "plt.plot(data['Close'])\n",
    "plt.xlabel('Date')\n",
    "plt.ylabel('Closing Price (USD)')\n",
    "plt.title('TM Price (Past Month, 2-Minute Intervals)')\n",
    "plt.show()"
   ]
  },
  {
   "cell_type": "code",
   "execution_count": null,
   "id": "8e7abdfe",
   "metadata": {},
   "outputs": [],
   "source": []
  }
 ],
 "metadata": {
  "kernelspec": {
   "display_name": "base",
   "language": "python",
   "name": "python3"
  },
  "language_info": {
   "codemirror_mode": {
    "name": "ipython",
    "version": 3
   },
   "file_extension": ".py",
   "mimetype": "text/x-python",
   "name": "python",
   "nbconvert_exporter": "python",
   "pygments_lexer": "ipython3",
   "version": "3.12.4"
  }
 },
 "nbformat": 4,
 "nbformat_minor": 5
}
