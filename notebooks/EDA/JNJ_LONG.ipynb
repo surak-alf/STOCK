{
 "cells": [
  {
   "cell_type": "code",
   "execution_count": 1,
   "id": "3dcbbcf2",
   "metadata": {},
   "outputs": [],
   "source": [
    "import pandas as pd\n",
    "import numpy as np\n",
    "import yfinance as yf\n",
    "import matplotlib.pyplot as plt\n",
    "import seaborn as sns"
   ]
  },
  {
   "cell_type": "code",
   "execution_count": 2,
   "id": "227235c5",
   "metadata": {},
   "outputs": [],
   "source": [
    "import sys\n",
    "import os\n",
    "\n",
    "# Get the directory of the current notebook\n",
    "current_dir = os.path.dirname(os.path.abspath('../scripts')) \n",
    "\n",
    "# Add the 'scripts' directory to the Python path\n",
    "scripts_dir = os.path.join(current_dir, 'scripts')\n",
    "sys.path.append(scripts_dir)"
   ]
  },
  {
   "cell_type": "code",
   "execution_count": 3,
   "id": "844a5f81",
   "metadata": {},
   "outputs": [],
   "source": [
    "from EDA import download_stock_data"
   ]
  },
  {
   "cell_type": "code",
   "execution_count": 4,
   "id": "efb146cc",
   "metadata": {},
   "outputs": [
    {
     "name": "stderr",
     "output_type": "stream",
     "text": [
      "[*********************100%***********************]  1 of 1 completed\n"
     ]
    }
   ],
   "source": [
    "jnj_long_data = download_stock_data(\"JNJ\", \"max\", \"1d\")"
   ]
  },
  {
   "cell_type": "code",
   "execution_count": 5,
   "id": "3fc6526c",
   "metadata": {},
   "outputs": [
    {
     "data": {
      "text/html": [
       "<div>\n",
       "<style scoped>\n",
       "    .dataframe tbody tr th:only-of-type {\n",
       "        vertical-align: middle;\n",
       "    }\n",
       "\n",
       "    .dataframe tbody tr th {\n",
       "        vertical-align: top;\n",
       "    }\n",
       "\n",
       "    .dataframe thead tr th {\n",
       "        text-align: left;\n",
       "    }\n",
       "\n",
       "    .dataframe thead tr:last-of-type th {\n",
       "        text-align: right;\n",
       "    }\n",
       "</style>\n",
       "<table border=\"1\" class=\"dataframe\">\n",
       "  <thead>\n",
       "    <tr>\n",
       "      <th>Price</th>\n",
       "      <th>Close</th>\n",
       "      <th>High</th>\n",
       "      <th>Low</th>\n",
       "      <th>Open</th>\n",
       "      <th>Volume</th>\n",
       "    </tr>\n",
       "    <tr>\n",
       "      <th>Ticker</th>\n",
       "      <th>JNJ</th>\n",
       "      <th>JNJ</th>\n",
       "      <th>JNJ</th>\n",
       "      <th>JNJ</th>\n",
       "      <th>JNJ</th>\n",
       "    </tr>\n",
       "    <tr>\n",
       "      <th>Date</th>\n",
       "      <th></th>\n",
       "      <th></th>\n",
       "      <th></th>\n",
       "      <th></th>\n",
       "      <th></th>\n",
       "    </tr>\n",
       "  </thead>\n",
       "  <tbody>\n",
       "    <tr>\n",
       "      <th>1962-01-02</th>\n",
       "      <td>0.062519</td>\n",
       "      <td>0.062519</td>\n",
       "      <td>0.062195</td>\n",
       "      <td>0.0</td>\n",
       "      <td>0</td>\n",
       "    </tr>\n",
       "    <tr>\n",
       "      <th>1962-01-03</th>\n",
       "      <td>0.061547</td>\n",
       "      <td>0.061871</td>\n",
       "      <td>0.061547</td>\n",
       "      <td>0.0</td>\n",
       "      <td>345600</td>\n",
       "    </tr>\n",
       "    <tr>\n",
       "      <th>1962-01-04</th>\n",
       "      <td>0.060899</td>\n",
       "      <td>0.061871</td>\n",
       "      <td>0.060899</td>\n",
       "      <td>0.0</td>\n",
       "      <td>216000</td>\n",
       "    </tr>\n",
       "    <tr>\n",
       "      <th>1962-01-05</th>\n",
       "      <td>0.059927</td>\n",
       "      <td>0.060413</td>\n",
       "      <td>0.059927</td>\n",
       "      <td>0.0</td>\n",
       "      <td>129600</td>\n",
       "    </tr>\n",
       "    <tr>\n",
       "      <th>1962-01-08</th>\n",
       "      <td>0.058956</td>\n",
       "      <td>0.059441</td>\n",
       "      <td>0.058956</td>\n",
       "      <td>0.0</td>\n",
       "      <td>172800</td>\n",
       "    </tr>\n",
       "  </tbody>\n",
       "</table>\n",
       "</div>"
      ],
      "text/plain": [
       "Price          Close      High       Low Open  Volume\n",
       "Ticker           JNJ       JNJ       JNJ  JNJ     JNJ\n",
       "Date                                                 \n",
       "1962-01-02  0.062519  0.062519  0.062195  0.0       0\n",
       "1962-01-03  0.061547  0.061871  0.061547  0.0  345600\n",
       "1962-01-04  0.060899  0.061871  0.060899  0.0  216000\n",
       "1962-01-05  0.059927  0.060413  0.059927  0.0  129600\n",
       "1962-01-08  0.058956  0.059441  0.058956  0.0  172800"
      ]
     },
     "execution_count": 5,
     "metadata": {},
     "output_type": "execute_result"
    }
   ],
   "source": [
    "jnj_long_data.head()"
   ]
  },
  {
   "cell_type": "code",
   "execution_count": 7,
   "id": "94d805f7",
   "metadata": {},
   "outputs": [
    {
     "data": {
      "text/plain": [
       "(15863, 5)"
      ]
     },
     "execution_count": 7,
     "metadata": {},
     "output_type": "execute_result"
    }
   ],
   "source": [
    "jnj_long_data.shape"
   ]
  },
  {
   "cell_type": "code",
   "execution_count": 9,
   "id": "679fa431",
   "metadata": {},
   "outputs": [
    {
     "name": "stdout",
     "output_type": "stream",
     "text": [
      "<class 'pandas.core.frame.DataFrame'>\n",
      "DatetimeIndex: 15863 entries, 1962-01-02 to 2025-01-08\n",
      "Data columns (total 5 columns):\n",
      " #   Column         Non-Null Count  Dtype  \n",
      "---  ------         --------------  -----  \n",
      " 0   (Close, JNJ)   15863 non-null  float64\n",
      " 1   (High, JNJ)    15863 non-null  float64\n",
      " 2   (Low, JNJ)     15863 non-null  float64\n",
      " 3   (Open, JNJ)    15863 non-null  float64\n",
      " 4   (Volume, JNJ)  15863 non-null  int64  \n",
      "dtypes: float64(4), int64(1)\n",
      "memory usage: 743.6 KB\n"
     ]
    }
   ],
   "source": [
    "jnj_long_data.info()"
   ]
  },
  {
   "cell_type": "code",
   "execution_count": 10,
   "id": "d376581b",
   "metadata": {},
   "outputs": [
    {
     "data": {
      "text/html": [
       "<div>\n",
       "<style scoped>\n",
       "    .dataframe tbody tr th:only-of-type {\n",
       "        vertical-align: middle;\n",
       "    }\n",
       "\n",
       "    .dataframe tbody tr th {\n",
       "        vertical-align: top;\n",
       "    }\n",
       "\n",
       "    .dataframe thead tr th {\n",
       "        text-align: left;\n",
       "    }\n",
       "</style>\n",
       "<table border=\"1\" class=\"dataframe\">\n",
       "  <thead>\n",
       "    <tr>\n",
       "      <th>Price</th>\n",
       "      <th>Close</th>\n",
       "      <th>High</th>\n",
       "      <th>Low</th>\n",
       "      <th>Open</th>\n",
       "      <th>Volume</th>\n",
       "    </tr>\n",
       "    <tr>\n",
       "      <th>Ticker</th>\n",
       "      <th>JNJ</th>\n",
       "      <th>JNJ</th>\n",
       "      <th>JNJ</th>\n",
       "      <th>JNJ</th>\n",
       "      <th>JNJ</th>\n",
       "    </tr>\n",
       "  </thead>\n",
       "  <tbody>\n",
       "    <tr>\n",
       "      <th>count</th>\n",
       "      <td>15863.000000</td>\n",
       "      <td>15863.000000</td>\n",
       "      <td>15863.000000</td>\n",
       "      <td>15863.000000</td>\n",
       "      <td>1.586300e+04</td>\n",
       "    </tr>\n",
       "    <tr>\n",
       "      <th>mean</th>\n",
       "      <td>31.264872</td>\n",
       "      <td>31.489574</td>\n",
       "      <td>31.024594</td>\n",
       "      <td>31.245172</td>\n",
       "      <td>5.676945e+06</td>\n",
       "    </tr>\n",
       "    <tr>\n",
       "      <th>std</th>\n",
       "      <td>45.339358</td>\n",
       "      <td>45.652177</td>\n",
       "      <td>45.007940</td>\n",
       "      <td>45.347613</td>\n",
       "      <td>5.398294e+06</td>\n",
       "    </tr>\n",
       "    <tr>\n",
       "      <th>min</th>\n",
       "      <td>0.040191</td>\n",
       "      <td>0.041498</td>\n",
       "      <td>0.040191</td>\n",
       "      <td>0.000000</td>\n",
       "      <td>0.000000e+00</td>\n",
       "    </tr>\n",
       "    <tr>\n",
       "      <th>25%</th>\n",
       "      <td>0.610742</td>\n",
       "      <td>0.614821</td>\n",
       "      <td>0.605551</td>\n",
       "      <td>0.610747</td>\n",
       "      <td>1.764000e+06</td>\n",
       "    </tr>\n",
       "    <tr>\n",
       "      <th>50%</th>\n",
       "      <td>5.403673</td>\n",
       "      <td>5.451133</td>\n",
       "      <td>5.344294</td>\n",
       "      <td>5.404998</td>\n",
       "      <td>5.042500e+06</td>\n",
       "    </tr>\n",
       "    <tr>\n",
       "      <th>75%</th>\n",
       "      <td>39.433966</td>\n",
       "      <td>39.698862</td>\n",
       "      <td>39.110663</td>\n",
       "      <td>39.397787</td>\n",
       "      <td>7.839100e+06</td>\n",
       "    </tr>\n",
       "    <tr>\n",
       "      <th>max</th>\n",
       "      <td>171.606247</td>\n",
       "      <td>172.233598</td>\n",
       "      <td>169.917975</td>\n",
       "      <td>170.766747</td>\n",
       "      <td>1.513195e+08</td>\n",
       "    </tr>\n",
       "  </tbody>\n",
       "</table>\n",
       "</div>"
      ],
      "text/plain": [
       "Price          Close          High           Low          Open        Volume\n",
       "Ticker           JNJ           JNJ           JNJ           JNJ           JNJ\n",
       "count   15863.000000  15863.000000  15863.000000  15863.000000  1.586300e+04\n",
       "mean       31.264872     31.489574     31.024594     31.245172  5.676945e+06\n",
       "std        45.339358     45.652177     45.007940     45.347613  5.398294e+06\n",
       "min         0.040191      0.041498      0.040191      0.000000  0.000000e+00\n",
       "25%         0.610742      0.614821      0.605551      0.610747  1.764000e+06\n",
       "50%         5.403673      5.451133      5.344294      5.404998  5.042500e+06\n",
       "75%        39.433966     39.698862     39.110663     39.397787  7.839100e+06\n",
       "max       171.606247    172.233598    169.917975    170.766747  1.513195e+08"
      ]
     },
     "execution_count": 10,
     "metadata": {},
     "output_type": "execute_result"
    }
   ],
   "source": [
    "jnj_long_data.describe()"
   ]
  },
  {
   "cell_type": "code",
   "execution_count": null,
   "id": "ac92500d",
   "metadata": {},
   "outputs": [],
   "source": []
  },
  {
   "cell_type": "code",
   "execution_count": null,
   "id": "1bbd5a48",
   "metadata": {},
   "outputs": [],
   "source": []
  },
  {
   "cell_type": "code",
   "execution_count": null,
   "id": "51301992",
   "metadata": {},
   "outputs": [],
   "source": []
  }
 ],
 "metadata": {
  "kernelspec": {
   "display_name": "myenv",
   "language": "python",
   "name": "python3"
  },
  "language_info": {
   "codemirror_mode": {
    "name": "ipython",
    "version": 3
   },
   "file_extension": ".py",
   "mimetype": "text/x-python",
   "name": "python",
   "nbconvert_exporter": "python",
   "pygments_lexer": "ipython3",
   "version": "3.12.4"
  }
 },
 "nbformat": 4,
 "nbformat_minor": 5
}
