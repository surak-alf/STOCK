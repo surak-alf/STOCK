{
 "cells": [
  {
   "cell_type": "code",
   "execution_count": 1,
   "id": "3dcbbcf2",
   "metadata": {},
   "outputs": [],
   "source": [
    "import pandas as pd\n",
    "import numpy as np\n",
    "import yfinance as yf\n",
    "import matplotlib.pyplot as plt"
   ]
  },
  {
   "cell_type": "code",
   "execution_count": 2,
   "id": "c7fa436a",
   "metadata": {},
   "outputs": [],
   "source": [
    "import sys\n",
    "import os\n",
    "\n",
    "# Get the directory of the current notebook\n",
    "current_dir = os.path.dirname(os.path.abspath('../scripts')) \n",
    "\n",
    "# Add the 'scripts' directory to the Python path\n",
    "scripts_dir = os.path.join(current_dir, 'scripts')\n",
    "sys.path.append(scripts_dir)"
   ]
  },
  {
   "cell_type": "code",
   "execution_count": 3,
   "id": "ae8f4276",
   "metadata": {},
   "outputs": [],
   "source": [
    "from EDA import download_stock_data"
   ]
  },
  {
   "cell_type": "code",
   "execution_count": 4,
   "id": "db1372a5",
   "metadata": {},
   "outputs": [
    {
     "name": "stderr",
     "output_type": "stream",
     "text": [
      "[*********************100%***********************]  1 of 1 completed\n"
     ]
    }
   ],
   "source": [
    "tm_medium_data = download_stock_data(\"BABA\", \"2y\", \"1h\")"
   ]
  },
  {
   "cell_type": "code",
   "execution_count": 5,
   "id": "28003f83",
   "metadata": {},
   "outputs": [
    {
     "data": {
      "text/html": [
       "<div>\n",
       "<style scoped>\n",
       "    .dataframe tbody tr th:only-of-type {\n",
       "        vertical-align: middle;\n",
       "    }\n",
       "\n",
       "    .dataframe tbody tr th {\n",
       "        vertical-align: top;\n",
       "    }\n",
       "\n",
       "    .dataframe thead tr th {\n",
       "        text-align: left;\n",
       "    }\n",
       "\n",
       "    .dataframe thead tr:last-of-type th {\n",
       "        text-align: right;\n",
       "    }\n",
       "</style>\n",
       "<table border=\"1\" class=\"dataframe\">\n",
       "  <thead>\n",
       "    <tr>\n",
       "      <th>Price</th>\n",
       "      <th>Close</th>\n",
       "      <th>High</th>\n",
       "      <th>Low</th>\n",
       "      <th>Open</th>\n",
       "      <th>Volume</th>\n",
       "    </tr>\n",
       "    <tr>\n",
       "      <th>Ticker</th>\n",
       "      <th>BABA</th>\n",
       "      <th>BABA</th>\n",
       "      <th>BABA</th>\n",
       "      <th>BABA</th>\n",
       "      <th>BABA</th>\n",
       "    </tr>\n",
       "    <tr>\n",
       "      <th>Datetime</th>\n",
       "      <th></th>\n",
       "      <th></th>\n",
       "      <th></th>\n",
       "      <th></th>\n",
       "      <th></th>\n",
       "    </tr>\n",
       "  </thead>\n",
       "  <tbody>\n",
       "    <tr>\n",
       "      <th>2023-01-09 14:30:00+00:00</th>\n",
       "      <td>109.805000</td>\n",
       "      <td>113.110001</td>\n",
       "      <td>108.120003</td>\n",
       "      <td>111.989998</td>\n",
       "      <td>18150684</td>\n",
       "    </tr>\n",
       "    <tr>\n",
       "      <th>2023-01-09 15:30:00+00:00</th>\n",
       "      <td>111.599998</td>\n",
       "      <td>112.428596</td>\n",
       "      <td>109.264999</td>\n",
       "      <td>109.834999</td>\n",
       "      <td>7193965</td>\n",
       "    </tr>\n",
       "    <tr>\n",
       "      <th>2023-01-09 16:30:00+00:00</th>\n",
       "      <td>111.209396</td>\n",
       "      <td>112.019997</td>\n",
       "      <td>110.750000</td>\n",
       "      <td>111.600098</td>\n",
       "      <td>3988798</td>\n",
       "    </tr>\n",
       "    <tr>\n",
       "      <th>2023-01-09 17:30:00+00:00</th>\n",
       "      <td>111.595001</td>\n",
       "      <td>112.000000</td>\n",
       "      <td>111.000000</td>\n",
       "      <td>111.220001</td>\n",
       "      <td>2479306</td>\n",
       "    </tr>\n",
       "    <tr>\n",
       "      <th>2023-01-09 18:30:00+00:00</th>\n",
       "      <td>111.801102</td>\n",
       "      <td>111.945000</td>\n",
       "      <td>110.900002</td>\n",
       "      <td>111.599998</td>\n",
       "      <td>2708732</td>\n",
       "    </tr>\n",
       "  </tbody>\n",
       "</table>\n",
       "</div>"
      ],
      "text/plain": [
       "Price                           Close        High         Low        Open  \\\n",
       "Ticker                           BABA        BABA        BABA        BABA   \n",
       "Datetime                                                                    \n",
       "2023-01-09 14:30:00+00:00  109.805000  113.110001  108.120003  111.989998   \n",
       "2023-01-09 15:30:00+00:00  111.599998  112.428596  109.264999  109.834999   \n",
       "2023-01-09 16:30:00+00:00  111.209396  112.019997  110.750000  111.600098   \n",
       "2023-01-09 17:30:00+00:00  111.595001  112.000000  111.000000  111.220001   \n",
       "2023-01-09 18:30:00+00:00  111.801102  111.945000  110.900002  111.599998   \n",
       "\n",
       "Price                        Volume  \n",
       "Ticker                         BABA  \n",
       "Datetime                             \n",
       "2023-01-09 14:30:00+00:00  18150684  \n",
       "2023-01-09 15:30:00+00:00   7193965  \n",
       "2023-01-09 16:30:00+00:00   3988798  \n",
       "2023-01-09 17:30:00+00:00   2479306  \n",
       "2023-01-09 18:30:00+00:00   2708732  "
      ]
     },
     "execution_count": 5,
     "metadata": {},
     "output_type": "execute_result"
    }
   ],
   "source": [
    "tm_medium_data.head()"
   ]
  },
  {
   "cell_type": "code",
   "execution_count": 7,
   "id": "0c0c0022",
   "metadata": {},
   "outputs": [
    {
     "data": {
      "text/plain": [
       "(3501, 5)"
      ]
     },
     "execution_count": 7,
     "metadata": {},
     "output_type": "execute_result"
    }
   ],
   "source": [
    "tm_medium_data.shape"
   ]
  },
  {
   "cell_type": "code",
   "execution_count": 8,
   "id": "23ff6285",
   "metadata": {},
   "outputs": [
    {
     "name": "stdout",
     "output_type": "stream",
     "text": [
      "<class 'pandas.core.frame.DataFrame'>\n",
      "DatetimeIndex: 3501 entries, 2023-01-09 14:30:00+00:00 to 2025-01-08 20:30:00+00:00\n",
      "Data columns (total 5 columns):\n",
      " #   Column          Non-Null Count  Dtype  \n",
      "---  ------          --------------  -----  \n",
      " 0   (Close, BABA)   3501 non-null   float64\n",
      " 1   (High, BABA)    3501 non-null   float64\n",
      " 2   (Low, BABA)     3501 non-null   float64\n",
      " 3   (Open, BABA)    3501 non-null   float64\n",
      " 4   (Volume, BABA)  3501 non-null   int64  \n",
      "dtypes: float64(4), int64(1)\n",
      "memory usage: 164.1 KB\n"
     ]
    }
   ],
   "source": [
    "tm_medium_data.info()"
   ]
  },
  {
   "cell_type": "code",
   "execution_count": 9,
   "id": "05691a57",
   "metadata": {},
   "outputs": [
    {
     "data": {
      "text/html": [
       "<div>\n",
       "<style scoped>\n",
       "    .dataframe tbody tr th:only-of-type {\n",
       "        vertical-align: middle;\n",
       "    }\n",
       "\n",
       "    .dataframe tbody tr th {\n",
       "        vertical-align: top;\n",
       "    }\n",
       "\n",
       "    .dataframe thead tr th {\n",
       "        text-align: left;\n",
       "    }\n",
       "</style>\n",
       "<table border=\"1\" class=\"dataframe\">\n",
       "  <thead>\n",
       "    <tr>\n",
       "      <th>Price</th>\n",
       "      <th>Close</th>\n",
       "      <th>High</th>\n",
       "      <th>Low</th>\n",
       "      <th>Open</th>\n",
       "      <th>Volume</th>\n",
       "    </tr>\n",
       "    <tr>\n",
       "      <th>Ticker</th>\n",
       "      <th>BABA</th>\n",
       "      <th>BABA</th>\n",
       "      <th>BABA</th>\n",
       "      <th>BABA</th>\n",
       "      <th>BABA</th>\n",
       "    </tr>\n",
       "  </thead>\n",
       "  <tbody>\n",
       "    <tr>\n",
       "      <th>count</th>\n",
       "      <td>3501.000000</td>\n",
       "      <td>3501.000000</td>\n",
       "      <td>3501.000000</td>\n",
       "      <td>3501.000000</td>\n",
       "      <td>3.501000e+03</td>\n",
       "    </tr>\n",
       "    <tr>\n",
       "      <th>mean</th>\n",
       "      <td>85.552095</td>\n",
       "      <td>85.876243</td>\n",
       "      <td>85.224237</td>\n",
       "      <td>85.547535</td>\n",
       "      <td>2.432578e+06</td>\n",
       "    </tr>\n",
       "    <tr>\n",
       "      <th>std</th>\n",
       "      <td>11.113852</td>\n",
       "      <td>11.215333</td>\n",
       "      <td>11.016179</td>\n",
       "      <td>11.121724</td>\n",
       "      <td>2.553411e+06</td>\n",
       "    </tr>\n",
       "    <tr>\n",
       "      <th>min</th>\n",
       "      <td>67.330002</td>\n",
       "      <td>67.599998</td>\n",
       "      <td>66.629997</td>\n",
       "      <td>67.199997</td>\n",
       "      <td>3.934620e+05</td>\n",
       "    </tr>\n",
       "    <tr>\n",
       "      <th>25%</th>\n",
       "      <td>76.629997</td>\n",
       "      <td>76.894997</td>\n",
       "      <td>76.324997</td>\n",
       "      <td>76.574997</td>\n",
       "      <td>1.120858e+06</td>\n",
       "    </tr>\n",
       "    <tr>\n",
       "      <th>50%</th>\n",
       "      <td>84.099998</td>\n",
       "      <td>84.364998</td>\n",
       "      <td>83.820000</td>\n",
       "      <td>84.095001</td>\n",
       "      <td>1.659052e+06</td>\n",
       "    </tr>\n",
       "    <tr>\n",
       "      <th>75%</th>\n",
       "      <td>90.589996</td>\n",
       "      <td>91.010002</td>\n",
       "      <td>90.279999</td>\n",
       "      <td>90.660004</td>\n",
       "      <td>2.743726e+06</td>\n",
       "    </tr>\n",
       "    <tr>\n",
       "      <th>max</th>\n",
       "      <td>120.589996</td>\n",
       "      <td>121.300003</td>\n",
       "      <td>120.459999</td>\n",
       "      <td>121.000000</td>\n",
       "      <td>4.634470e+07</td>\n",
       "    </tr>\n",
       "  </tbody>\n",
       "</table>\n",
       "</div>"
      ],
      "text/plain": [
       "Price         Close         High          Low         Open        Volume\n",
       "Ticker         BABA         BABA         BABA         BABA          BABA\n",
       "count   3501.000000  3501.000000  3501.000000  3501.000000  3.501000e+03\n",
       "mean      85.552095    85.876243    85.224237    85.547535  2.432578e+06\n",
       "std       11.113852    11.215333    11.016179    11.121724  2.553411e+06\n",
       "min       67.330002    67.599998    66.629997    67.199997  3.934620e+05\n",
       "25%       76.629997    76.894997    76.324997    76.574997  1.120858e+06\n",
       "50%       84.099998    84.364998    83.820000    84.095001  1.659052e+06\n",
       "75%       90.589996    91.010002    90.279999    90.660004  2.743726e+06\n",
       "max      120.589996   121.300003   120.459999   121.000000  4.634470e+07"
      ]
     },
     "execution_count": 9,
     "metadata": {},
     "output_type": "execute_result"
    }
   ],
   "source": [
    "tm_medium_data.describe()"
   ]
  },
  {
   "cell_type": "code",
   "execution_count": null,
   "id": "f37eddf2",
   "metadata": {},
   "outputs": [],
   "source": []
  },
  {
   "cell_type": "code",
   "execution_count": null,
   "id": "db99263a",
   "metadata": {},
   "outputs": [],
   "source": []
  },
  {
   "cell_type": "code",
   "execution_count": null,
   "id": "67dbaf7a",
   "metadata": {},
   "outputs": [],
   "source": []
  }
 ],
 "metadata": {
  "kernelspec": {
   "display_name": "base",
   "language": "python",
   "name": "python3"
  },
  "language_info": {
   "codemirror_mode": {
    "name": "ipython",
    "version": 3
   },
   "file_extension": ".py",
   "mimetype": "text/x-python",
   "name": "python",
   "nbconvert_exporter": "python",
   "pygments_lexer": "ipython3",
   "version": "3.12.4"
  }
 },
 "nbformat": 4,
 "nbformat_minor": 5
}
