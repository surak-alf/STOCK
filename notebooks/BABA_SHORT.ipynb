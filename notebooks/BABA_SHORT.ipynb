{
 "cells": [
  {
   "cell_type": "code",
   "execution_count": 1,
   "id": "3dcbbcf2",
   "metadata": {},
   "outputs": [],
   "source": [
    "import pandas as pd\n",
    "import numpy as np\n",
    "import yfinance as yf\n",
    "import matplotlib.pyplot as plt\n",
    "import seaborn as sns"
   ]
  },
  {
   "cell_type": "code",
   "execution_count": 2,
   "id": "2f5dde11",
   "metadata": {},
   "outputs": [],
   "source": [
    "import sys\n",
    "import os\n",
    "\n",
    "# Get the directory of the current notebook\n",
    "current_dir = os.path.dirname(os.path.abspath('../scripts')) \n",
    "\n",
    "# Add the 'scripts' directory to the Python path\n",
    "scripts_dir = os.path.join(current_dir, 'scripts')\n",
    "sys.path.append(scripts_dir)"
   ]
  },
  {
   "cell_type": "code",
   "execution_count": 3,
   "id": "86280c95",
   "metadata": {},
   "outputs": [],
   "source": [
    "from EDA import download_stock_data"
   ]
  },
  {
   "cell_type": "code",
   "execution_count": 4,
   "id": "f58c9304",
   "metadata": {},
   "outputs": [
    {
     "name": "stderr",
     "output_type": "stream",
     "text": [
      "[*********************100%***********************]  1 of 1 completed\n"
     ]
    }
   ],
   "source": [
    "baba_short_data = download_stock_data(\"BABA\", \"1mo\", \"2m\")"
   ]
  },
  {
   "cell_type": "code",
   "execution_count": 5,
   "id": "a9d050ce",
   "metadata": {},
   "outputs": [
    {
     "data": {
      "text/html": [
       "<div>\n",
       "<style scoped>\n",
       "    .dataframe tbody tr th:only-of-type {\n",
       "        vertical-align: middle;\n",
       "    }\n",
       "\n",
       "    .dataframe tbody tr th {\n",
       "        vertical-align: top;\n",
       "    }\n",
       "\n",
       "    .dataframe thead tr th {\n",
       "        text-align: left;\n",
       "    }\n",
       "\n",
       "    .dataframe thead tr:last-of-type th {\n",
       "        text-align: right;\n",
       "    }\n",
       "</style>\n",
       "<table border=\"1\" class=\"dataframe\">\n",
       "  <thead>\n",
       "    <tr>\n",
       "      <th>Price</th>\n",
       "      <th>Close</th>\n",
       "      <th>High</th>\n",
       "      <th>Low</th>\n",
       "      <th>Open</th>\n",
       "      <th>Volume</th>\n",
       "    </tr>\n",
       "    <tr>\n",
       "      <th>Ticker</th>\n",
       "      <th>BABA</th>\n",
       "      <th>BABA</th>\n",
       "      <th>BABA</th>\n",
       "      <th>BABA</th>\n",
       "      <th>BABA</th>\n",
       "    </tr>\n",
       "    <tr>\n",
       "      <th>Datetime</th>\n",
       "      <th></th>\n",
       "      <th></th>\n",
       "      <th></th>\n",
       "      <th></th>\n",
       "      <th></th>\n",
       "    </tr>\n",
       "  </thead>\n",
       "  <tbody>\n",
       "    <tr>\n",
       "      <th>2024-12-09 14:30:00+00:00</th>\n",
       "      <td>92.044998</td>\n",
       "      <td>92.699997</td>\n",
       "      <td>91.919998</td>\n",
       "      <td>92.010002</td>\n",
       "      <td>4022211</td>\n",
       "    </tr>\n",
       "    <tr>\n",
       "      <th>2024-12-09 14:32:00+00:00</th>\n",
       "      <td>92.264999</td>\n",
       "      <td>92.349998</td>\n",
       "      <td>91.830002</td>\n",
       "      <td>92.029999</td>\n",
       "      <td>966430</td>\n",
       "    </tr>\n",
       "    <tr>\n",
       "      <th>2024-12-09 14:34:00+00:00</th>\n",
       "      <td>92.039001</td>\n",
       "      <td>92.419998</td>\n",
       "      <td>91.900002</td>\n",
       "      <td>92.239998</td>\n",
       "      <td>805701</td>\n",
       "    </tr>\n",
       "    <tr>\n",
       "      <th>2024-12-09 14:36:00+00:00</th>\n",
       "      <td>92.047997</td>\n",
       "      <td>92.139999</td>\n",
       "      <td>91.930000</td>\n",
       "      <td>92.020103</td>\n",
       "      <td>410076</td>\n",
       "    </tr>\n",
       "    <tr>\n",
       "      <th>2024-12-09 14:38:00+00:00</th>\n",
       "      <td>92.339996</td>\n",
       "      <td>92.385002</td>\n",
       "      <td>91.980003</td>\n",
       "      <td>92.044998</td>\n",
       "      <td>510918</td>\n",
       "    </tr>\n",
       "  </tbody>\n",
       "</table>\n",
       "</div>"
      ],
      "text/plain": [
       "Price                          Close       High        Low       Open   Volume\n",
       "Ticker                          BABA       BABA       BABA       BABA     BABA\n",
       "Datetime                                                                      \n",
       "2024-12-09 14:30:00+00:00  92.044998  92.699997  91.919998  92.010002  4022211\n",
       "2024-12-09 14:32:00+00:00  92.264999  92.349998  91.830002  92.029999   966430\n",
       "2024-12-09 14:34:00+00:00  92.039001  92.419998  91.900002  92.239998   805701\n",
       "2024-12-09 14:36:00+00:00  92.047997  92.139999  91.930000  92.020103   410076\n",
       "2024-12-09 14:38:00+00:00  92.339996  92.385002  91.980003  92.044998   510918"
      ]
     },
     "execution_count": 5,
     "metadata": {},
     "output_type": "execute_result"
    }
   ],
   "source": [
    "baba_short_data.head()"
   ]
  },
  {
   "cell_type": "code",
   "execution_count": 6,
   "id": "77559119",
   "metadata": {},
   "outputs": [
    {
     "data": {
      "text/plain": [
       "(3995, 5)"
      ]
     },
     "execution_count": 6,
     "metadata": {},
     "output_type": "execute_result"
    }
   ],
   "source": [
    "baba_short_data.shape"
   ]
  },
  {
   "cell_type": "code",
   "execution_count": 7,
   "id": "cf63526b",
   "metadata": {},
   "outputs": [
    {
     "name": "stdout",
     "output_type": "stream",
     "text": [
      "<class 'pandas.core.frame.DataFrame'>\n",
      "DatetimeIndex: 3995 entries, 2024-12-09 14:30:00+00:00 to 2025-01-08 20:58:00+00:00\n",
      "Data columns (total 5 columns):\n",
      " #   Column          Non-Null Count  Dtype  \n",
      "---  ------          --------------  -----  \n",
      " 0   (Close, BABA)   3995 non-null   float64\n",
      " 1   (High, BABA)    3995 non-null   float64\n",
      " 2   (Low, BABA)     3995 non-null   float64\n",
      " 3   (Open, BABA)    3995 non-null   float64\n",
      " 4   (Volume, BABA)  3995 non-null   int64  \n",
      "dtypes: float64(4), int64(1)\n",
      "memory usage: 187.3 KB\n"
     ]
    }
   ],
   "source": [
    "baba_short_data.info()"
   ]
  },
  {
   "cell_type": "code",
   "execution_count": 8,
   "id": "eadfb1a9",
   "metadata": {},
   "outputs": [
    {
     "data": {
      "text/html": [
       "<div>\n",
       "<style scoped>\n",
       "    .dataframe tbody tr th:only-of-type {\n",
       "        vertical-align: middle;\n",
       "    }\n",
       "\n",
       "    .dataframe tbody tr th {\n",
       "        vertical-align: top;\n",
       "    }\n",
       "\n",
       "    .dataframe thead tr th {\n",
       "        text-align: left;\n",
       "    }\n",
       "</style>\n",
       "<table border=\"1\" class=\"dataframe\">\n",
       "  <thead>\n",
       "    <tr>\n",
       "      <th>Price</th>\n",
       "      <th>Close</th>\n",
       "      <th>High</th>\n",
       "      <th>Low</th>\n",
       "      <th>Open</th>\n",
       "      <th>Volume</th>\n",
       "    </tr>\n",
       "    <tr>\n",
       "      <th>Ticker</th>\n",
       "      <th>BABA</th>\n",
       "      <th>BABA</th>\n",
       "      <th>BABA</th>\n",
       "      <th>BABA</th>\n",
       "      <th>BABA</th>\n",
       "    </tr>\n",
       "  </thead>\n",
       "  <tbody>\n",
       "    <tr>\n",
       "      <th>count</th>\n",
       "      <td>3995.000000</td>\n",
       "      <td>3995.000000</td>\n",
       "      <td>3995.000000</td>\n",
       "      <td>3995.000000</td>\n",
       "      <td>3.995000e+03</td>\n",
       "    </tr>\n",
       "    <tr>\n",
       "      <th>mean</th>\n",
       "      <td>86.177991</td>\n",
       "      <td>86.220213</td>\n",
       "      <td>86.134647</td>\n",
       "      <td>86.176978</td>\n",
       "      <td>5.740689e+04</td>\n",
       "    </tr>\n",
       "    <tr>\n",
       "      <th>std</th>\n",
       "      <td>2.452488</td>\n",
       "      <td>2.458845</td>\n",
       "      <td>2.444679</td>\n",
       "      <td>2.452904</td>\n",
       "      <td>1.105604e+05</td>\n",
       "    </tr>\n",
       "    <tr>\n",
       "      <th>min</th>\n",
       "      <td>82.070000</td>\n",
       "      <td>82.154999</td>\n",
       "      <td>81.699997</td>\n",
       "      <td>82.069901</td>\n",
       "      <td>3.197000e+03</td>\n",
       "    </tr>\n",
       "    <tr>\n",
       "      <th>25%</th>\n",
       "      <td>84.639999</td>\n",
       "      <td>84.684998</td>\n",
       "      <td>84.605003</td>\n",
       "      <td>84.642448</td>\n",
       "      <td>2.091000e+04</td>\n",
       "    </tr>\n",
       "    <tr>\n",
       "      <th>50%</th>\n",
       "      <td>85.419998</td>\n",
       "      <td>85.480003</td>\n",
       "      <td>85.370003</td>\n",
       "      <td>85.428497</td>\n",
       "      <td>3.306900e+04</td>\n",
       "    </tr>\n",
       "    <tr>\n",
       "      <th>75%</th>\n",
       "      <td>87.300949</td>\n",
       "      <td>87.339996</td>\n",
       "      <td>87.235001</td>\n",
       "      <td>87.309750</td>\n",
       "      <td>5.967250e+04</td>\n",
       "    </tr>\n",
       "    <tr>\n",
       "      <th>max</th>\n",
       "      <td>94.107002</td>\n",
       "      <td>94.120003</td>\n",
       "      <td>94.044502</td>\n",
       "      <td>94.107147</td>\n",
       "      <td>4.022211e+06</td>\n",
       "    </tr>\n",
       "  </tbody>\n",
       "</table>\n",
       "</div>"
      ],
      "text/plain": [
       "Price         Close         High          Low         Open        Volume\n",
       "Ticker         BABA         BABA         BABA         BABA          BABA\n",
       "count   3995.000000  3995.000000  3995.000000  3995.000000  3.995000e+03\n",
       "mean      86.177991    86.220213    86.134647    86.176978  5.740689e+04\n",
       "std        2.452488     2.458845     2.444679     2.452904  1.105604e+05\n",
       "min       82.070000    82.154999    81.699997    82.069901  3.197000e+03\n",
       "25%       84.639999    84.684998    84.605003    84.642448  2.091000e+04\n",
       "50%       85.419998    85.480003    85.370003    85.428497  3.306900e+04\n",
       "75%       87.300949    87.339996    87.235001    87.309750  5.967250e+04\n",
       "max       94.107002    94.120003    94.044502    94.107147  4.022211e+06"
      ]
     },
     "execution_count": 8,
     "metadata": {},
     "output_type": "execute_result"
    }
   ],
   "source": [
    "baba_short_data.describe()"
   ]
  },
  {
   "cell_type": "code",
   "execution_count": 6,
   "id": "2ec97603",
   "metadata": {},
   "outputs": [
    {
     "data": {
      "text/plain": [
       "Price   Ticker\n",
       "Close   BABA      0\n",
       "High    BABA      0\n",
       "Low     BABA      0\n",
       "Open    BABA      0\n",
       "Volume  BABA      0\n",
       "dtype: int64"
      ]
     },
     "execution_count": 6,
     "metadata": {},
     "output_type": "execute_result"
    }
   ],
   "source": [
    "baba_short_data.isna().sum()"
   ]
  },
  {
   "cell_type": "code",
   "execution_count": 12,
   "id": "d93b76ce",
   "metadata": {},
   "outputs": [
    {
     "data": {
      "text/plain": [
       "Datetime\n",
       "2024-12-09 14:30:00+00:00    92.044998\n",
       "2024-12-09 14:32:00+00:00    92.264999\n",
       "2024-12-09 14:34:00+00:00    92.039001\n",
       "2024-12-09 14:36:00+00:00    92.047997\n",
       "2024-12-09 14:38:00+00:00    92.339996\n",
       "                               ...    \n",
       "2025-01-08 17:20:00+00:00    83.529999\n",
       "2025-01-08 17:22:00+00:00    83.544998\n",
       "2025-01-08 17:24:00+00:00    83.519997\n",
       "2025-01-08 17:26:00+00:00    83.474998\n",
       "2025-01-08 17:28:00+00:00    83.410004\n",
       "Name: (Close, BABA), Length: 3890, dtype: float64"
      ]
     },
     "execution_count": 12,
     "metadata": {},
     "output_type": "execute_result"
    }
   ],
   "source": [
    "baba_short_data['Close', 'BABA']"
   ]
  },
  {
   "cell_type": "code",
   "execution_count": 3,
   "id": "702b7e18",
   "metadata": {},
   "outputs": [],
   "source": [
    "# import from data_utils\n",
    "from EDA import fetch_stock_data"
   ]
  },
  {
   "cell_type": "code",
   "execution_count": 7,
   "id": "bb3071de",
   "metadata": {},
   "outputs": [
    {
     "name": "stdout",
     "output_type": "stream",
     "text": [
      "Error fetching data: expected string or bytes-like object, got 'list'\n"
     ]
    }
   ],
   "source": [
    "# Parameters for data\n",
    "ticker=['BABA'],\n",
    "period=\"1mo\",\n",
    "interval=\"2m\"\n",
    "# Retrieve data\n",
    "stock_data = fetch_stock_data(ticker, period, interval)"
   ]
  },
  {
   "cell_type": "code",
   "execution_count": 4,
   "id": "ae3f9051",
   "metadata": {},
   "outputs": [
    {
     "data": {
      "text/plain": [
       "<function EDA.fetch_stock_data(ticker, period, interval)>"
      ]
     },
     "execution_count": 4,
     "metadata": {},
     "output_type": "execute_result"
    }
   ],
   "source": [
    "fetch_stock_data"
   ]
  },
  {
   "cell_type": "code",
   "execution_count": 8,
   "id": "2fb42890",
   "metadata": {},
   "outputs": [
    {
     "name": "stderr",
     "output_type": "stream",
     "text": [
      "[*********************100%***********************]  1 of 1 completed\n"
     ]
    }
   ],
   "source": [
    "# Downloading BABA data for the past month with 2-minute intervals\n",
    "data = yf.download(\n",
    "    tickers=['BABA'],\n",
    "    period=\"1mo\",\n",
    "    interval=\"2m\"\n",
    ")"
   ]
  },
  {
   "cell_type": "code",
   "execution_count": 3,
   "id": "97de042c",
   "metadata": {},
   "outputs": [
    {
     "data": {
      "text/html": [
       "<div>\n",
       "<style scoped>\n",
       "    .dataframe tbody tr th:only-of-type {\n",
       "        vertical-align: middle;\n",
       "    }\n",
       "\n",
       "    .dataframe tbody tr th {\n",
       "        vertical-align: top;\n",
       "    }\n",
       "\n",
       "    .dataframe thead tr th {\n",
       "        text-align: left;\n",
       "    }\n",
       "\n",
       "    .dataframe thead tr:last-of-type th {\n",
       "        text-align: right;\n",
       "    }\n",
       "</style>\n",
       "<table border=\"1\" class=\"dataframe\">\n",
       "  <thead>\n",
       "    <tr>\n",
       "      <th>Price</th>\n",
       "      <th>Close</th>\n",
       "      <th>High</th>\n",
       "      <th>Low</th>\n",
       "      <th>Open</th>\n",
       "      <th>Volume</th>\n",
       "    </tr>\n",
       "    <tr>\n",
       "      <th>Ticker</th>\n",
       "      <th>BABA</th>\n",
       "      <th>BABA</th>\n",
       "      <th>BABA</th>\n",
       "      <th>BABA</th>\n",
       "      <th>BABA</th>\n",
       "    </tr>\n",
       "    <tr>\n",
       "      <th>Datetime</th>\n",
       "      <th></th>\n",
       "      <th></th>\n",
       "      <th></th>\n",
       "      <th></th>\n",
       "      <th></th>\n",
       "    </tr>\n",
       "  </thead>\n",
       "  <tbody>\n",
       "    <tr>\n",
       "      <th>2024-12-02 14:30:00+00:00</th>\n",
       "      <td>86.878899</td>\n",
       "      <td>87.000000</td>\n",
       "      <td>86.809998</td>\n",
       "      <td>86.940002</td>\n",
       "      <td>696231</td>\n",
       "    </tr>\n",
       "    <tr>\n",
       "      <th>2024-12-02 14:32:00+00:00</th>\n",
       "      <td>86.440002</td>\n",
       "      <td>86.910004</td>\n",
       "      <td>86.355003</td>\n",
       "      <td>86.870003</td>\n",
       "      <td>214732</td>\n",
       "    </tr>\n",
       "    <tr>\n",
       "      <th>2024-12-02 14:34:00+00:00</th>\n",
       "      <td>86.510101</td>\n",
       "      <td>86.570000</td>\n",
       "      <td>86.309998</td>\n",
       "      <td>86.470001</td>\n",
       "      <td>144203</td>\n",
       "    </tr>\n",
       "    <tr>\n",
       "      <th>2024-12-02 14:36:00+00:00</th>\n",
       "      <td>86.320000</td>\n",
       "      <td>86.525002</td>\n",
       "      <td>86.320000</td>\n",
       "      <td>86.519997</td>\n",
       "      <td>148073</td>\n",
       "    </tr>\n",
       "    <tr>\n",
       "      <th>2024-12-02 14:38:00+00:00</th>\n",
       "      <td>86.221497</td>\n",
       "      <td>86.324997</td>\n",
       "      <td>86.160004</td>\n",
       "      <td>86.320000</td>\n",
       "      <td>183478</td>\n",
       "    </tr>\n",
       "    <tr>\n",
       "      <th>...</th>\n",
       "      <td>...</td>\n",
       "      <td>...</td>\n",
       "      <td>...</td>\n",
       "      <td>...</td>\n",
       "      <td>...</td>\n",
       "    </tr>\n",
       "    <tr>\n",
       "      <th>2024-12-31 20:50:00+00:00</th>\n",
       "      <td>84.875000</td>\n",
       "      <td>84.940002</td>\n",
       "      <td>84.809998</td>\n",
       "      <td>84.940002</td>\n",
       "      <td>83491</td>\n",
       "    </tr>\n",
       "    <tr>\n",
       "      <th>2024-12-31 20:52:00+00:00</th>\n",
       "      <td>84.794998</td>\n",
       "      <td>84.882896</td>\n",
       "      <td>84.779999</td>\n",
       "      <td>84.879997</td>\n",
       "      <td>63268</td>\n",
       "    </tr>\n",
       "    <tr>\n",
       "      <th>2024-12-31 20:54:00+00:00</th>\n",
       "      <td>84.745003</td>\n",
       "      <td>84.824997</td>\n",
       "      <td>84.730003</td>\n",
       "      <td>84.790001</td>\n",
       "      <td>80048</td>\n",
       "    </tr>\n",
       "    <tr>\n",
       "      <th>2024-12-31 20:56:00+00:00</th>\n",
       "      <td>84.785004</td>\n",
       "      <td>84.809998</td>\n",
       "      <td>84.730003</td>\n",
       "      <td>84.750000</td>\n",
       "      <td>89137</td>\n",
       "    </tr>\n",
       "    <tr>\n",
       "      <th>2024-12-31 20:58:00+00:00</th>\n",
       "      <td>84.800003</td>\n",
       "      <td>84.820000</td>\n",
       "      <td>84.730003</td>\n",
       "      <td>84.790001</td>\n",
       "      <td>133107</td>\n",
       "    </tr>\n",
       "  </tbody>\n",
       "</table>\n",
       "<p>3996 rows × 5 columns</p>\n",
       "</div>"
      ],
      "text/plain": [
       "Price                          Close       High        Low       Open  Volume\n",
       "Ticker                          BABA       BABA       BABA       BABA    BABA\n",
       "Datetime                                                                     \n",
       "2024-12-02 14:30:00+00:00  86.878899  87.000000  86.809998  86.940002  696231\n",
       "2024-12-02 14:32:00+00:00  86.440002  86.910004  86.355003  86.870003  214732\n",
       "2024-12-02 14:34:00+00:00  86.510101  86.570000  86.309998  86.470001  144203\n",
       "2024-12-02 14:36:00+00:00  86.320000  86.525002  86.320000  86.519997  148073\n",
       "2024-12-02 14:38:00+00:00  86.221497  86.324997  86.160004  86.320000  183478\n",
       "...                              ...        ...        ...        ...     ...\n",
       "2024-12-31 20:50:00+00:00  84.875000  84.940002  84.809998  84.940002   83491\n",
       "2024-12-31 20:52:00+00:00  84.794998  84.882896  84.779999  84.879997   63268\n",
       "2024-12-31 20:54:00+00:00  84.745003  84.824997  84.730003  84.790001   80048\n",
       "2024-12-31 20:56:00+00:00  84.785004  84.809998  84.730003  84.750000   89137\n",
       "2024-12-31 20:58:00+00:00  84.800003  84.820000  84.730003  84.790001  133107\n",
       "\n",
       "[3996 rows x 5 columns]"
      ]
     },
     "execution_count": 3,
     "metadata": {},
     "output_type": "execute_result"
    }
   ],
   "source": [
    "data"
   ]
  },
  {
   "cell_type": "code",
   "execution_count": 4,
   "id": "c355dc37",
   "metadata": {},
   "outputs": [
    {
     "name": "stdout",
     "output_type": "stream",
     "text": [
      "<class 'pandas.core.frame.DataFrame'>\n",
      "DatetimeIndex: 3996 entries, 2024-12-02 14:30:00+00:00 to 2024-12-31 20:58:00+00:00\n",
      "Data columns (total 5 columns):\n",
      " #   Column          Non-Null Count  Dtype  \n",
      "---  ------          --------------  -----  \n",
      " 0   (Close, BABA)   3996 non-null   float64\n",
      " 1   (High, BABA)    3996 non-null   float64\n",
      " 2   (Low, BABA)     3996 non-null   float64\n",
      " 3   (Open, BABA)    3996 non-null   float64\n",
      " 4   (Volume, BABA)  3996 non-null   int64  \n",
      "dtypes: float64(4), int64(1)\n",
      "memory usage: 187.3 KB\n"
     ]
    }
   ],
   "source": [
    "data.info()"
   ]
  },
  {
   "cell_type": "code",
   "execution_count": 5,
   "id": "92fcc4a4",
   "metadata": {},
   "outputs": [
    {
     "data": {
      "image/png": "[encoded data removed]",
      "text/plain": [
       "<Figure size 640x480 with 1 Axes>"
      ]
     },
     "metadata": {},
     "output_type": "display_data"
    }
   ],
   "source": [
    "# Plotting the data \n",
    "plt.plot(data['Close'])\n",
    "plt.xlabel('Date')\n",
    "plt.ylabel('Closing Price (USD)')\n",
    "plt.title('TM Price (Past Month, 2-Minute Intervals)')\n",
    "plt.show()"
   ]
  },
  {
   "cell_type": "code",
   "execution_count": null,
   "id": "8e7abdfe",
   "metadata": {},
   "outputs": [],
   "source": []
  }
 ],
 "metadata": {
  "kernelspec": {
   "display_name": "base",
   "language": "python",
   "name": "python3"
  },
  "language_info": {
   "codemirror_mode": {
    "name": "ipython",
    "version": 3
   },
   "file_extension": ".py",
   "mimetype": "text/x-python",
   "name": "python",
   "nbconvert_exporter": "python",
   "pygments_lexer": "ipython3",
   "version": "3.12.4"
  }
 },
 "nbformat": 4,
 "nbformat_minor": 5
}
