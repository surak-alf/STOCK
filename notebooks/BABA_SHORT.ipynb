{
 "cells": [
  {
   "cell_type": "code",
   "execution_count": 1,
   "id": "3dcbbcf2",
   "metadata": {},
   "outputs": [],
   "source": [
    "import pandas as pd\n",
    "import numpy as np\n",
    "import yfinance as yf\n",
    "import matplotlib.pyplot as plt\n",
    "import seaborn as sns"
   ]
  },
  {
   "cell_type": "code",
   "execution_count": 2,
   "id": "2f5dde11",
   "metadata": {},
   "outputs": [],
   "source": [
    "import sys\n",
    "import os\n",
    "\n",
    "# Get the directory of the current notebook\n",
    "current_dir = os.path.dirname(os.path.abspath('../scripts')) \n",
    "\n",
    "# Add the 'scripts' directory to the Python path\n",
    "scripts_dir = os.path.join(current_dir, 'scripts')\n",
    "sys.path.append(scripts_dir)"
   ]
  },
  {
   "cell_type": "code",
   "execution_count": 3,
   "id": "86280c95",
   "metadata": {},
   "outputs": [],
   "source": [
    "from EDA import download_stock_data"
   ]
  },
  {
   "cell_type": "code",
   "execution_count": 4,
   "id": "f58c9304",
   "metadata": {},
   "outputs": [
    {
     "name": "stderr",
     "output_type": "stream",
     "text": [
      "[*********************100%***********************]  1 of 1 completed\n"
     ]
    }
   ],
   "source": [
    "baba_short_data = download_stock_data(\"BABA\", \"1mo\", \"2m\")"
   ]
  },
  {
   "cell_type": "code",
   "execution_count": 5,
   "id": "a9d050ce",
   "metadata": {},
   "outputs": [
    {
     "data": {
      "text/html": [
       "<div>\n",
       "<style scoped>\n",
       "    .dataframe tbody tr th:only-of-type {\n",
       "        vertical-align: middle;\n",
       "    }\n",
       "\n",
       "    .dataframe tbody tr th {\n",
       "        vertical-align: top;\n",
       "    }\n",
       "\n",
       "    .dataframe thead tr th {\n",
       "        text-align: left;\n",
       "    }\n",
       "\n",
       "    .dataframe thead tr:last-of-type th {\n",
       "        text-align: right;\n",
       "    }\n",
       "</style>\n",
       "<table border=\"1\" class=\"dataframe\">\n",
       "  <thead>\n",
       "    <tr>\n",
       "      <th>Price</th>\n",
       "      <th>Close</th>\n",
       "      <th>High</th>\n",
       "      <th>Low</th>\n",
       "      <th>Open</th>\n",
       "      <th>Volume</th>\n",
       "    </tr>\n",
       "    <tr>\n",
       "      <th>Ticker</th>\n",
       "      <th>BABA</th>\n",
       "      <th>BABA</th>\n",
       "      <th>BABA</th>\n",
       "      <th>BABA</th>\n",
       "      <th>BABA</th>\n",
       "    </tr>\n",
       "    <tr>\n",
       "      <th>Datetime</th>\n",
       "      <th></th>\n",
       "      <th></th>\n",
       "      <th></th>\n",
       "      <th></th>\n",
       "      <th></th>\n",
       "    </tr>\n",
       "  </thead>\n",
       "  <tbody>\n",
       "    <tr>\n",
       "      <th>2024-12-09 14:30:00+00:00</th>\n",
       "      <td>92.044998</td>\n",
       "      <td>92.699997</td>\n",
       "      <td>91.919998</td>\n",
       "      <td>92.010002</td>\n",
       "      <td>4022211</td>\n",
       "    </tr>\n",
       "    <tr>\n",
       "      <th>2024-12-09 14:32:00+00:00</th>\n",
       "      <td>92.264999</td>\n",
       "      <td>92.349998</td>\n",
       "      <td>91.830002</td>\n",
       "      <td>92.029999</td>\n",
       "      <td>966430</td>\n",
       "    </tr>\n",
       "    <tr>\n",
       "      <th>2024-12-09 14:34:00+00:00</th>\n",
       "      <td>92.039001</td>\n",
       "      <td>92.419998</td>\n",
       "      <td>91.900002</td>\n",
       "      <td>92.239998</td>\n",
       "      <td>805701</td>\n",
       "    </tr>\n",
       "    <tr>\n",
       "      <th>2024-12-09 14:36:00+00:00</th>\n",
       "      <td>92.047997</td>\n",
       "      <td>92.139999</td>\n",
       "      <td>91.930000</td>\n",
       "      <td>92.020103</td>\n",
       "      <td>410076</td>\n",
       "    </tr>\n",
       "    <tr>\n",
       "      <th>2024-12-09 14:38:00+00:00</th>\n",
       "      <td>92.339996</td>\n",
       "      <td>92.385002</td>\n",
       "      <td>91.980003</td>\n",
       "      <td>92.044998</td>\n",
       "      <td>510918</td>\n",
       "    </tr>\n",
       "  </tbody>\n",
       "</table>\n",
       "</div>"
      ],
      "text/plain": [
       "Price                          Close       High        Low       Open   Volume\n",
       "Ticker                          BABA       BABA       BABA       BABA     BABA\n",
       "Datetime                                                                      \n",
       "2024-12-09 14:30:00+00:00  92.044998  92.699997  91.919998  92.010002  4022211\n",
       "2024-12-09 14:32:00+00:00  92.264999  92.349998  91.830002  92.029999   966430\n",
       "2024-12-09 14:34:00+00:00  92.039001  92.419998  91.900002  92.239998   805701\n",
       "2024-12-09 14:36:00+00:00  92.047997  92.139999  91.930000  92.020103   410076\n",
       "2024-12-09 14:38:00+00:00  92.339996  92.385002  91.980003  92.044998   510918"
      ]
     },
     "execution_count": 5,
     "metadata": {},
     "output_type": "execute_result"
    }
   ],
   "source": [
    "baba_short_data.head()"
   ]
  },
  {
   "cell_type": "code",
   "execution_count": 6,
   "id": "77559119",
   "metadata": {},
   "outputs": [
    {
     "data": {
      "text/plain": [
       "(3995, 5)"
      ]
     },
     "execution_count": 6,
     "metadata": {},
     "output_type": "execute_result"
    }
   ],
   "source": [
    "baba_short_data.shape"
   ]
  },
  {
   "cell_type": "code",
   "execution_count": 7,
   "id": "cf63526b",
   "metadata": {},
   "outputs": [
    {
     "name": "stdout",
     "output_type": "stream",
     "text": [
      "<class 'pandas.core.frame.DataFrame'>\n",
      "DatetimeIndex: 3995 entries, 2024-12-09 14:30:00+00:00 to 2025-01-08 20:58:00+00:00\n",
      "Data columns (total 5 columns):\n",
      " #   Column          Non-Null Count  Dtype  \n",
      "---  ------          --------------  -----  \n",
      " 0   (Close, BABA)   3995 non-null   float64\n",
      " 1   (High, BABA)    3995 non-null   float64\n",
      " 2   (Low, BABA)     3995 non-null   float64\n",
      " 3   (Open, BABA)    3995 non-null   float64\n",
      " 4   (Volume, BABA)  3995 non-null   int64  \n",
      "dtypes: float64(4), int64(1)\n",
      "memory usage: 187.3 KB\n"
     ]
    }
   ],
   "source": [
    "baba_short_data.info()"
   ]
  },
  {
   "cell_type": "code",
   "execution_count": 8,
   "id": "eadfb1a9",
   "metadata": {},
   "outputs": [
    {
     "data": {
      "text/html": [
       "<div>\n",
       "<style scoped>\n",
       "    .dataframe tbody tr th:only-of-type {\n",
       "        vertical-align: middle;\n",
       "    }\n",
       "\n",
       "    .dataframe tbody tr th {\n",
       "        vertical-align: top;\n",
       "    }\n",
       "\n",
       "    .dataframe thead tr th {\n",
       "        text-align: left;\n",
       "    }\n",
       "</style>\n",
       "<table border=\"1\" class=\"dataframe\">\n",
       "  <thead>\n",
       "    <tr>\n",
       "      <th>Price</th>\n",
       "      <th>Close</th>\n",
       "      <th>High</th>\n",
       "      <th>Low</th>\n",
       "      <th>Open</th>\n",
       "      <th>Volume</th>\n",
       "    </tr>\n",
       "    <tr>\n",
       "      <th>Ticker</th>\n",
       "      <th>BABA</th>\n",
       "      <th>BABA</th>\n",
       "      <th>BABA</th>\n",
       "      <th>BABA</th>\n",
       "      <th>BABA</th>\n",
       "    </tr>\n",
       "  </thead>\n",
       "  <tbody>\n",
       "    <tr>\n",
       "      <th>count</th>\n",
       "      <td>3995.000000</td>\n",
       "      <td>3995.000000</td>\n",
       "      <td>3995.000000</td>\n",
       "      <td>3995.000000</td>\n",
       "      <td>3.995000e+03</td>\n",
       "    </tr>\n",
       "    <tr>\n",
       "      <th>mean</th>\n",
       "      <td>86.177991</td>\n",
       "      <td>86.220213</td>\n",
       "      <td>86.134647</td>\n",
       "      <td>86.176978</td>\n",
       "      <td>5.740689e+04</td>\n",
       "    </tr>\n",
       "    <tr>\n",
       "      <th>std</th>\n",
       "      <td>2.452488</td>\n",
       "      <td>2.458845</td>\n",
       "      <td>2.444679</td>\n",
       "      <td>2.452904</td>\n",
       "      <td>1.105604e+05</td>\n",
       "    </tr>\n",
       "    <tr>\n",
       "      <th>min</th>\n",
       "      <td>82.070000</td>\n",
       "      <td>82.154999</td>\n",
       "      <td>81.699997</td>\n",
       "      <td>82.069901</td>\n",
       "      <td>3.197000e+03</td>\n",
       "    </tr>\n",
       "    <tr>\n",
       "      <th>25%</th>\n",
       "      <td>84.639999</td>\n",
       "      <td>84.684998</td>\n",
       "      <td>84.605003</td>\n",
       "      <td>84.642448</td>\n",
       "      <td>2.091000e+04</td>\n",
       "    </tr>\n",
       "    <tr>\n",
       "      <th>50%</th>\n",
       "      <td>85.419998</td>\n",
       "      <td>85.480003</td>\n",
       "      <td>85.370003</td>\n",
       "      <td>85.428497</td>\n",
       "      <td>3.306900e+04</td>\n",
       "    </tr>\n",
       "    <tr>\n",
       "      <th>75%</th>\n",
       "      <td>87.300949</td>\n",
       "      <td>87.339996</td>\n",
       "      <td>87.235001</td>\n",
       "      <td>87.309750</td>\n",
       "      <td>5.967250e+04</td>\n",
       "    </tr>\n",
       "    <tr>\n",
       "      <th>max</th>\n",
       "      <td>94.107002</td>\n",
       "      <td>94.120003</td>\n",
       "      <td>94.044502</td>\n",
       "      <td>94.107147</td>\n",
       "      <td>4.022211e+06</td>\n",
       "    </tr>\n",
       "  </tbody>\n",
       "</table>\n",
       "</div>"
      ],
      "text/plain": [
       "Price         Close         High          Low         Open        Volume\n",
       "Ticker         BABA         BABA         BABA         BABA          BABA\n",
       "count   3995.000000  3995.000000  3995.000000  3995.000000  3.995000e+03\n",
       "mean      86.177991    86.220213    86.134647    86.176978  5.740689e+04\n",
       "std        2.452488     2.458845     2.444679     2.452904  1.105604e+05\n",
       "min       82.070000    82.154999    81.699997    82.069901  3.197000e+03\n",
       "25%       84.639999    84.684998    84.605003    84.642448  2.091000e+04\n",
       "50%       85.419998    85.480003    85.370003    85.428497  3.306900e+04\n",
       "75%       87.300949    87.339996    87.235001    87.309750  5.967250e+04\n",
       "max       94.107002    94.120003    94.044502    94.107147  4.022211e+06"
      ]
     },
     "execution_count": 8,
     "metadata": {},
     "output_type": "execute_result"
    }
   ],
   "source": [
    "baba_short_data.describe()"
   ]
  },
  {
   "cell_type": "code",
   "execution_count": 6,
   "id": "2ec97603",
   "metadata": {},
   "outputs": [
    {
     "data": {
      "text/plain": [
       "Price   Ticker\n",
       "Close   BABA      0\n",
       "High    BABA      0\n",
       "Low     BABA      0\n",
       "Open    BABA      0\n",
       "Volume  BABA      0\n",
       "dtype: int64"
      ]
     },
     "execution_count": 6,
     "metadata": {},
     "output_type": "execute_result"
    }
   ],
   "source": [
    "baba_short_data.isna().sum()"
   ]
  },
  {
   "cell_type": "code",
   "execution_count": 12,
   "id": "d93b76ce",
   "metadata": {},
   "outputs": [
    {
     "data": {
      "text/plain": [
       "Datetime\n",
       "2024-12-09 14:30:00+00:00    92.044998\n",
       "2024-12-09 14:32:00+00:00    92.264999\n",
       "2024-12-09 14:34:00+00:00    92.039001\n",
       "2024-12-09 14:36:00+00:00    92.047997\n",
       "2024-12-09 14:38:00+00:00    92.339996\n",
       "                               ...    \n",
       "2025-01-08 17:20:00+00:00    83.529999\n",
       "2025-01-08 17:22:00+00:00    83.544998\n",
       "2025-01-08 17:24:00+00:00    83.519997\n",
       "2025-01-08 17:26:00+00:00    83.474998\n",
       "2025-01-08 17:28:00+00:00    83.410004\n",
       "Name: (Close, BABA), Length: 3890, dtype: float64"
      ]
     },
     "execution_count": 12,
     "metadata": {},
     "output_type": "execute_result"
    }
   ],
   "source": [
    "baba_short_data['Close', 'BABA']"
   ]
  }
 ],
 "metadata": {
  "kernelspec": {
   "display_name": "base",
   "language": "python",
   "name": "python3"
  },
  "language_info": {
   "codemirror_mode": {
    "name": "ipython",
    "version": 3
   },
   "file_extension": ".py",
   "mimetype": "text/x-python",
   "name": "python",
   "nbconvert_exporter": "python",
   "pygments_lexer": "ipython3",
   "version": "3.12.4"
  }
 },
 "nbformat": 4,
 "nbformat_minor": 5
}
