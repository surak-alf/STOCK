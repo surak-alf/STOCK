{
 "cells": [
  {
   "cell_type": "code",
   "execution_count": 4,
   "id": "3dcbbcf2",
   "metadata": {},
   "outputs": [],
   "source": [
    "import yfinance as yf\n",
    "import matplotlib.pyplot as plt"
   ]
  },
  {
   "cell_type": "code",
   "execution_count": 5,
   "id": "2fb42890",
   "metadata": {},
   "outputs": [
    {
     "name": "stderr",
     "output_type": "stream",
     "text": [
      "[*********************100%***********************]  1 of 1 completed\n"
     ]
    }
   ],
   "source": [
    "# Downloading (TM) data for the past month with 2-minute intervals\n",
    "data = yf.download(\n",
    "    tickers=['TM'],\n",
    "    period=\"1mo\",\n",
    "    interval=\"2m\"\n",
    ")"
   ]
  },
  {
   "cell_type": "code",
   "execution_count": 6,
   "id": "97de042c",
   "metadata": {},
   "outputs": [
    {
     "data": {
      "text/html": [
       "<div>\n",
       "<style scoped>\n",
       "    .dataframe tbody tr th:only-of-type {\n",
       "        vertical-align: middle;\n",
       "    }\n",
       "\n",
       "    .dataframe tbody tr th {\n",
       "        vertical-align: top;\n",
       "    }\n",
       "\n",
       "    .dataframe thead tr th {\n",
       "        text-align: left;\n",
       "    }\n",
       "\n",
       "    .dataframe thead tr:last-of-type th {\n",
       "        text-align: right;\n",
       "    }\n",
       "</style>\n",
       "<table border=\"1\" class=\"dataframe\">\n",
       "  <thead>\n",
       "    <tr>\n",
       "      <th>Price</th>\n",
       "      <th>Close</th>\n",
       "      <th>High</th>\n",
       "      <th>Low</th>\n",
       "      <th>Open</th>\n",
       "      <th>Volume</th>\n",
       "    </tr>\n",
       "    <tr>\n",
       "      <th>Ticker</th>\n",
       "      <th>TM</th>\n",
       "      <th>TM</th>\n",
       "      <th>TM</th>\n",
       "      <th>TM</th>\n",
       "      <th>TM</th>\n",
       "    </tr>\n",
       "    <tr>\n",
       "      <th>Datetime</th>\n",
       "      <th></th>\n",
       "      <th></th>\n",
       "      <th></th>\n",
       "      <th></th>\n",
       "      <th></th>\n",
       "    </tr>\n",
       "  </thead>\n",
       "  <tbody>\n",
       "    <tr>\n",
       "      <th>2024-12-02 14:30:00+00:00</th>\n",
       "      <td>173.437698</td>\n",
       "      <td>173.449997</td>\n",
       "      <td>173.154999</td>\n",
       "      <td>173.350006</td>\n",
       "      <td>26047</td>\n",
       "    </tr>\n",
       "    <tr>\n",
       "      <th>2024-12-02 14:32:00+00:00</th>\n",
       "      <td>173.401703</td>\n",
       "      <td>173.509995</td>\n",
       "      <td>173.401703</td>\n",
       "      <td>173.490005</td>\n",
       "      <td>6079</td>\n",
       "    </tr>\n",
       "    <tr>\n",
       "      <th>2024-12-02 14:34:00+00:00</th>\n",
       "      <td>173.704895</td>\n",
       "      <td>173.755005</td>\n",
       "      <td>173.279999</td>\n",
       "      <td>173.279999</td>\n",
       "      <td>3262</td>\n",
       "    </tr>\n",
       "    <tr>\n",
       "      <th>2024-12-02 14:36:00+00:00</th>\n",
       "      <td>173.470001</td>\n",
       "      <td>173.583206</td>\n",
       "      <td>173.160004</td>\n",
       "      <td>173.580002</td>\n",
       "      <td>14780</td>\n",
       "    </tr>\n",
       "    <tr>\n",
       "      <th>2024-12-02 14:38:00+00:00</th>\n",
       "      <td>173.320007</td>\n",
       "      <td>173.559998</td>\n",
       "      <td>173.320007</td>\n",
       "      <td>173.453903</td>\n",
       "      <td>4335</td>\n",
       "    </tr>\n",
       "    <tr>\n",
       "      <th>...</th>\n",
       "      <td>...</td>\n",
       "      <td>...</td>\n",
       "      <td>...</td>\n",
       "      <td>...</td>\n",
       "      <td>...</td>\n",
       "    </tr>\n",
       "    <tr>\n",
       "      <th>2024-12-31 20:50:00+00:00</th>\n",
       "      <td>194.550003</td>\n",
       "      <td>194.589996</td>\n",
       "      <td>194.470001</td>\n",
       "      <td>194.539993</td>\n",
       "      <td>5342</td>\n",
       "    </tr>\n",
       "    <tr>\n",
       "      <th>2024-12-31 20:52:00+00:00</th>\n",
       "      <td>194.490005</td>\n",
       "      <td>194.570007</td>\n",
       "      <td>194.429993</td>\n",
       "      <td>194.570007</td>\n",
       "      <td>14160</td>\n",
       "    </tr>\n",
       "    <tr>\n",
       "      <th>2024-12-31 20:54:00+00:00</th>\n",
       "      <td>194.300003</td>\n",
       "      <td>194.559998</td>\n",
       "      <td>194.169998</td>\n",
       "      <td>194.500000</td>\n",
       "      <td>29802</td>\n",
       "    </tr>\n",
       "    <tr>\n",
       "      <th>2024-12-31 20:56:00+00:00</th>\n",
       "      <td>194.479996</td>\n",
       "      <td>194.479996</td>\n",
       "      <td>194.264999</td>\n",
       "      <td>194.360001</td>\n",
       "      <td>14044</td>\n",
       "    </tr>\n",
       "    <tr>\n",
       "      <th>2024-12-31 20:58:00+00:00</th>\n",
       "      <td>194.600006</td>\n",
       "      <td>194.630005</td>\n",
       "      <td>194.479996</td>\n",
       "      <td>194.490005</td>\n",
       "      <td>20968</td>\n",
       "    </tr>\n",
       "  </tbody>\n",
       "</table>\n",
       "<p>3572 rows × 5 columns</p>\n",
       "</div>"
      ],
      "text/plain": [
       "Price                           Close        High         Low        Open  \\\n",
       "Ticker                             TM          TM          TM          TM   \n",
       "Datetime                                                                    \n",
       "2024-12-02 14:30:00+00:00  173.437698  173.449997  173.154999  173.350006   \n",
       "2024-12-02 14:32:00+00:00  173.401703  173.509995  173.401703  173.490005   \n",
       "2024-12-02 14:34:00+00:00  173.704895  173.755005  173.279999  173.279999   \n",
       "2024-12-02 14:36:00+00:00  173.470001  173.583206  173.160004  173.580002   \n",
       "2024-12-02 14:38:00+00:00  173.320007  173.559998  173.320007  173.453903   \n",
       "...                               ...         ...         ...         ...   \n",
       "2024-12-31 20:50:00+00:00  194.550003  194.589996  194.470001  194.539993   \n",
       "2024-12-31 20:52:00+00:00  194.490005  194.570007  194.429993  194.570007   \n",
       "2024-12-31 20:54:00+00:00  194.300003  194.559998  194.169998  194.500000   \n",
       "2024-12-31 20:56:00+00:00  194.479996  194.479996  194.264999  194.360001   \n",
       "2024-12-31 20:58:00+00:00  194.600006  194.630005  194.479996  194.490005   \n",
       "\n",
       "Price                     Volume  \n",
       "Ticker                        TM  \n",
       "Datetime                          \n",
       "2024-12-02 14:30:00+00:00  26047  \n",
       "2024-12-02 14:32:00+00:00   6079  \n",
       "2024-12-02 14:34:00+00:00   3262  \n",
       "2024-12-02 14:36:00+00:00  14780  \n",
       "2024-12-02 14:38:00+00:00   4335  \n",
       "...                          ...  \n",
       "2024-12-31 20:50:00+00:00   5342  \n",
       "2024-12-31 20:52:00+00:00  14160  \n",
       "2024-12-31 20:54:00+00:00  29802  \n",
       "2024-12-31 20:56:00+00:00  14044  \n",
       "2024-12-31 20:58:00+00:00  20968  \n",
       "\n",
       "[3572 rows x 5 columns]"
      ]
     },
     "execution_count": 6,
     "metadata": {},
     "output_type": "execute_result"
    }
   ],
   "source": [
    "data"
   ]
  },
  {
   "cell_type": "code",
   "execution_count": 7,
   "id": "c355dc37",
   "metadata": {},
   "outputs": [
    {
     "name": "stdout",
     "output_type": "stream",
     "text": [
      "<class 'pandas.core.frame.DataFrame'>\n",
      "DatetimeIndex: 3572 entries, 2024-12-02 14:30:00+00:00 to 2024-12-31 20:58:00+00:00\n",
      "Data columns (total 5 columns):\n",
      " #   Column        Non-Null Count  Dtype  \n",
      "---  ------        --------------  -----  \n",
      " 0   (Close, TM)   3572 non-null   float64\n",
      " 1   (High, TM)    3572 non-null   float64\n",
      " 2   (Low, TM)     3572 non-null   float64\n",
      " 3   (Open, TM)    3572 non-null   float64\n",
      " 4   (Volume, TM)  3572 non-null   int64  \n",
      "dtypes: float64(4), int64(1)\n",
      "memory usage: 167.4 KB\n"
     ]
    }
   ],
   "source": [
    "data.info()"
   ]
  },
  {
   "cell_type": "code",
   "execution_count": 8,
   "id": "92fcc4a4",
   "metadata": {},
   "outputs": [
    {
     "data": {
      "image/png": "[encoded data removed]",
      "text/plain": [
       "<Figure size 640x480 with 1 Axes>"
      ]
     },
     "metadata": {},
     "output_type": "display_data"
    }
   ],
   "source": [
    "# Plotting the data (you can customize the plot here)\n",
    "plt.plot(data['Close'])\n",
    "plt.xlabel('Date')\n",
    "plt.ylabel('Closing Price (USD)')\n",
    "plt.title('TM Price (Past Month, 2-Minute Intervals)')\n",
    "plt.show()"
   ]
  },
  {
   "cell_type": "code",
   "execution_count": null,
   "id": "8e7abdfe",
   "metadata": {},
   "outputs": [],
   "source": []
  }
 ],
 "metadata": {
  "kernelspec": {
   "display_name": "base",
   "language": "python",
   "name": "python3"
  },
  "language_info": {
   "codemirror_mode": {
    "name": "ipython",
    "version": 3
   },
   "file_extension": ".py",
   "mimetype": "text/x-python",
   "name": "python",
   "nbconvert_exporter": "python",
   "pygments_lexer": "ipython3",
   "version": "3.12.4"
  }
 },
 "nbformat": 4,
 "nbformat_minor": 5
}
