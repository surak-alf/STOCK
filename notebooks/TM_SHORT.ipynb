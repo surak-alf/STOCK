{
 "cells": [
  {
   "cell_type": "code",
   "execution_count": 1,
   "id": "3dcbbcf2",
   "metadata": {},
   "outputs": [],
   "source": [
    "import yfinance as yf\n",
    "import matplotlib.pyplot as plt"
   ]
  },
  {
   "cell_type": "code",
   "execution_count": 2,
   "id": "2fb42890",
   "metadata": {},
   "outputs": [
    {
     "name": "stderr",
     "output_type": "stream",
     "text": [
      "[*********************100%***********************]  1 of 1 completed\n"
     ]
    }
   ],
   "source": [
    "# Downloading (TM) data for the past month with 2-minute intervals\n",
    "data = yf.download(\n",
    "    tickers=['TM'],\n",
    "    period=\"1mo\",\n",
    "    interval=\"2m\"\n",
    ")"
   ]
  },
  {
   "cell_type": "code",
   "execution_count": 3,
   "id": "97de042c",
   "metadata": {},
   "outputs": [
    {
     "data": {
      "text/html": [
       "<div>\n",
       "<style scoped>\n",
       "    .dataframe tbody tr th:only-of-type {\n",
       "        vertical-align: middle;\n",
       "    }\n",
       "\n",
       "    .dataframe tbody tr th {\n",
       "        vertical-align: top;\n",
       "    }\n",
       "\n",
       "    .dataframe thead tr th {\n",
       "        text-align: left;\n",
       "    }\n",
       "\n",
       "    .dataframe thead tr:last-of-type th {\n",
       "        text-align: right;\n",
       "    }\n",
       "</style>\n",
       "<table border=\"1\" class=\"dataframe\">\n",
       "  <thead>\n",
       "    <tr>\n",
       "      <th>Price</th>\n",
       "      <th>Close</th>\n",
       "      <th>High</th>\n",
       "      <th>Low</th>\n",
       "      <th>Open</th>\n",
       "      <th>Volume</th>\n",
       "    </tr>\n",
       "    <tr>\n",
       "      <th>Ticker</th>\n",
       "      <th>TM</th>\n",
       "      <th>TM</th>\n",
       "      <th>TM</th>\n",
       "      <th>TM</th>\n",
       "      <th>TM</th>\n",
       "    </tr>\n",
       "    <tr>\n",
       "      <th>Datetime</th>\n",
       "      <th></th>\n",
       "      <th></th>\n",
       "      <th></th>\n",
       "      <th></th>\n",
       "      <th></th>\n",
       "    </tr>\n",
       "  </thead>\n",
       "  <tbody>\n",
       "    <tr>\n",
       "      <th>2024-12-09 14:30:00+00:00</th>\n",
       "      <td>176.610001</td>\n",
       "      <td>176.610001</td>\n",
       "      <td>176.210007</td>\n",
       "      <td>176.350006</td>\n",
       "      <td>11331</td>\n",
       "    </tr>\n",
       "    <tr>\n",
       "      <th>2024-12-09 14:32:00+00:00</th>\n",
       "      <td>177.149994</td>\n",
       "      <td>177.149994</td>\n",
       "      <td>176.260101</td>\n",
       "      <td>176.260101</td>\n",
       "      <td>4281</td>\n",
       "    </tr>\n",
       "    <tr>\n",
       "      <th>2024-12-09 14:34:00+00:00</th>\n",
       "      <td>176.869995</td>\n",
       "      <td>177.059906</td>\n",
       "      <td>176.869995</td>\n",
       "      <td>176.934998</td>\n",
       "      <td>2329</td>\n",
       "    </tr>\n",
       "    <tr>\n",
       "      <th>2024-12-09 14:36:00+00:00</th>\n",
       "      <td>176.839996</td>\n",
       "      <td>176.999298</td>\n",
       "      <td>176.700104</td>\n",
       "      <td>176.990005</td>\n",
       "      <td>1558</td>\n",
       "    </tr>\n",
       "    <tr>\n",
       "      <th>2024-12-09 14:38:00+00:00</th>\n",
       "      <td>176.889999</td>\n",
       "      <td>176.889999</td>\n",
       "      <td>176.889999</td>\n",
       "      <td>176.889999</td>\n",
       "      <td>207</td>\n",
       "    </tr>\n",
       "    <tr>\n",
       "      <th>...</th>\n",
       "      <td>...</td>\n",
       "      <td>...</td>\n",
       "      <td>...</td>\n",
       "      <td>...</td>\n",
       "      <td>...</td>\n",
       "    </tr>\n",
       "    <tr>\n",
       "      <th>2025-01-07 20:50:00+00:00</th>\n",
       "      <td>193.029999</td>\n",
       "      <td>193.320602</td>\n",
       "      <td>193.029999</td>\n",
       "      <td>193.229996</td>\n",
       "      <td>5352</td>\n",
       "    </tr>\n",
       "    <tr>\n",
       "      <th>2025-01-07 20:52:00+00:00</th>\n",
       "      <td>193.130005</td>\n",
       "      <td>193.153595</td>\n",
       "      <td>192.940002</td>\n",
       "      <td>193.115005</td>\n",
       "      <td>7336</td>\n",
       "    </tr>\n",
       "    <tr>\n",
       "      <th>2025-01-07 20:54:00+00:00</th>\n",
       "      <td>193.115005</td>\n",
       "      <td>193.119995</td>\n",
       "      <td>192.979996</td>\n",
       "      <td>193.085007</td>\n",
       "      <td>5226</td>\n",
       "    </tr>\n",
       "    <tr>\n",
       "      <th>2025-01-07 20:56:00+00:00</th>\n",
       "      <td>193.009995</td>\n",
       "      <td>193.115005</td>\n",
       "      <td>192.990005</td>\n",
       "      <td>193.070007</td>\n",
       "      <td>11540</td>\n",
       "    </tr>\n",
       "    <tr>\n",
       "      <th>2025-01-07 20:58:00+00:00</th>\n",
       "      <td>193.119995</td>\n",
       "      <td>193.130005</td>\n",
       "      <td>193.009995</td>\n",
       "      <td>193.050003</td>\n",
       "      <td>13703</td>\n",
       "    </tr>\n",
       "  </tbody>\n",
       "</table>\n",
       "<p>3453 rows × 5 columns</p>\n",
       "</div>"
      ],
      "text/plain": [
       "Price                           Close        High         Low        Open  \\\n",
       "Ticker                             TM          TM          TM          TM   \n",
       "Datetime                                                                    \n",
       "2024-12-09 14:30:00+00:00  176.610001  176.610001  176.210007  176.350006   \n",
       "2024-12-09 14:32:00+00:00  177.149994  177.149994  176.260101  176.260101   \n",
       "2024-12-09 14:34:00+00:00  176.869995  177.059906  176.869995  176.934998   \n",
       "2024-12-09 14:36:00+00:00  176.839996  176.999298  176.700104  176.990005   \n",
       "2024-12-09 14:38:00+00:00  176.889999  176.889999  176.889999  176.889999   \n",
       "...                               ...         ...         ...         ...   \n",
       "2025-01-07 20:50:00+00:00  193.029999  193.320602  193.029999  193.229996   \n",
       "2025-01-07 20:52:00+00:00  193.130005  193.153595  192.940002  193.115005   \n",
       "2025-01-07 20:54:00+00:00  193.115005  193.119995  192.979996  193.085007   \n",
       "2025-01-07 20:56:00+00:00  193.009995  193.115005  192.990005  193.070007   \n",
       "2025-01-07 20:58:00+00:00  193.119995  193.130005  193.009995  193.050003   \n",
       "\n",
       "Price                     Volume  \n",
       "Ticker                        TM  \n",
       "Datetime                          \n",
       "2024-12-09 14:30:00+00:00  11331  \n",
       "2024-12-09 14:32:00+00:00   4281  \n",
       "2024-12-09 14:34:00+00:00   2329  \n",
       "2024-12-09 14:36:00+00:00   1558  \n",
       "2024-12-09 14:38:00+00:00    207  \n",
       "...                          ...  \n",
       "2025-01-07 20:50:00+00:00   5352  \n",
       "2025-01-07 20:52:00+00:00   7336  \n",
       "2025-01-07 20:54:00+00:00   5226  \n",
       "2025-01-07 20:56:00+00:00  11540  \n",
       "2025-01-07 20:58:00+00:00  13703  \n",
       "\n",
       "[3453 rows x 5 columns]"
      ]
     },
     "execution_count": 3,
     "metadata": {},
     "output_type": "execute_result"
    }
   ],
   "source": [
    "data"
   ]
  },
  {
   "cell_type": "code",
   "execution_count": 4,
   "id": "c355dc37",
   "metadata": {},
   "outputs": [
    {
     "name": "stdout",
     "output_type": "stream",
     "text": [
      "<class 'pandas.core.frame.DataFrame'>\n",
      "DatetimeIndex: 3453 entries, 2024-12-09 14:30:00+00:00 to 2025-01-07 20:58:00+00:00\n",
      "Data columns (total 5 columns):\n",
      " #   Column        Non-Null Count  Dtype  \n",
      "---  ------        --------------  -----  \n",
      " 0   (Close, TM)   3453 non-null   float64\n",
      " 1   (High, TM)    3453 non-null   float64\n",
      " 2   (Low, TM)     3453 non-null   float64\n",
      " 3   (Open, TM)    3453 non-null   float64\n",
      " 4   (Volume, TM)  3453 non-null   int64  \n",
      "dtypes: float64(4), int64(1)\n",
      "memory usage: 161.9 KB\n"
     ]
    }
   ],
   "source": [
    "data.info()"
   ]
  },
  {
   "cell_type": "code",
   "execution_count": 5,
   "id": "92fcc4a4",
   "metadata": {},
   "outputs": [
    {
     "data": {
      "image/png": "[encoded data removed]",
      "text/plain": [
       "<Figure size 640x480 with 1 Axes>"
      ]
     },
     "metadata": {},
     "output_type": "display_data"
    }
   ],
   "source": [
    "# Plotting the data (you can customize the plot here)\n",
    "plt.plot(data['Close'])\n",
    "plt.xlabel('Date')\n",
    "plt.ylabel('Closing Price (USD)')\n",
    "plt.title('TM Price (Past Month, 2-Minute Intervals)')\n",
    "plt.show()"
   ]
  },
  {
   "cell_type": "code",
   "execution_count": null,
   "id": "8e7abdfe",
   "metadata": {},
   "outputs": [],
   "source": []
  }
 ],
 "metadata": {
  "kernelspec": {
   "display_name": "base",
   "language": "python",
   "name": "python3"
  },
  "language_info": {
   "codemirror_mode": {
    "name": "ipython",
    "version": 3
   },
   "file_extension": ".py",
   "mimetype": "text/x-python",
   "name": "python",
   "nbconvert_exporter": "python",
   "pygments_lexer": "ipython3",
   "version": "3.12.4"
  }
 },
 "nbformat": 4,
 "nbformat_minor": 5
}
