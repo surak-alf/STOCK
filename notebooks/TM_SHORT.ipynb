{
 "cells": [
  {
   "cell_type": "code",
   "execution_count": 1,
   "id": "3dcbbcf2",
   "metadata": {},
   "outputs": [],
   "source": [
    "import pandas as pd\n",
    "import numpy as np\n",
    "import yfinance as yf\n",
    "import matplotlib.pyplot as plt\n",
    "import seaborn as sns"
   ]
  },
  {
   "cell_type": "code",
   "execution_count": 2,
   "id": "acbea6f1",
   "metadata": {},
   "outputs": [],
   "source": [
    "import sys\n",
    "import os\n",
    "\n",
    "# Get the directory of the current notebook\n",
    "current_dir = os.path.dirname(os.path.abspath('../scripts')) \n",
    "\n",
    "# Add the 'scripts' directory to the Python path\n",
    "scripts_dir = os.path.join(current_dir, 'scripts')\n",
    "sys.path.append(scripts_dir)"
   ]
  },
  {
   "cell_type": "code",
   "execution_count": 3,
   "id": "0e7f78b9",
   "metadata": {},
   "outputs": [],
   "source": [
    "from EDA import download_stock_data"
   ]
  },
  {
   "cell_type": "code",
   "execution_count": 4,
   "id": "5d89589b",
   "metadata": {},
   "outputs": [
    {
     "name": "stderr",
     "output_type": "stream",
     "text": [
      "[*********************100%***********************]  1 of 1 completed\n"
     ]
    }
   ],
   "source": [
    "tm_short_data = download_stock_data(\"TM\", \"1mo\", \"2m\")"
   ]
  },
  {
   "cell_type": "code",
   "execution_count": 5,
   "id": "b2ec5b8e",
   "metadata": {},
   "outputs": [
    {
     "data": {
      "text/html": [
       "<div>\n",
       "<style scoped>\n",
       "    .dataframe tbody tr th:only-of-type {\n",
       "        vertical-align: middle;\n",
       "    }\n",
       "\n",
       "    .dataframe tbody tr th {\n",
       "        vertical-align: top;\n",
       "    }\n",
       "\n",
       "    .dataframe thead tr th {\n",
       "        text-align: left;\n",
       "    }\n",
       "\n",
       "    .dataframe thead tr:last-of-type th {\n",
       "        text-align: right;\n",
       "    }\n",
       "</style>\n",
       "<table border=\"1\" class=\"dataframe\">\n",
       "  <thead>\n",
       "    <tr>\n",
       "      <th>Price</th>\n",
       "      <th>Close</th>\n",
       "      <th>High</th>\n",
       "      <th>Low</th>\n",
       "      <th>Open</th>\n",
       "      <th>Volume</th>\n",
       "    </tr>\n",
       "    <tr>\n",
       "      <th>Ticker</th>\n",
       "      <th>TM</th>\n",
       "      <th>TM</th>\n",
       "      <th>TM</th>\n",
       "      <th>TM</th>\n",
       "      <th>TM</th>\n",
       "    </tr>\n",
       "    <tr>\n",
       "      <th>Datetime</th>\n",
       "      <th></th>\n",
       "      <th></th>\n",
       "      <th></th>\n",
       "      <th></th>\n",
       "      <th></th>\n",
       "    </tr>\n",
       "  </thead>\n",
       "  <tbody>\n",
       "    <tr>\n",
       "      <th>2024-12-09 14:30:00+00:00</th>\n",
       "      <td>176.610001</td>\n",
       "      <td>176.610001</td>\n",
       "      <td>176.210007</td>\n",
       "      <td>176.350006</td>\n",
       "      <td>11331</td>\n",
       "    </tr>\n",
       "    <tr>\n",
       "      <th>2024-12-09 14:32:00+00:00</th>\n",
       "      <td>177.149994</td>\n",
       "      <td>177.149994</td>\n",
       "      <td>176.260101</td>\n",
       "      <td>176.260101</td>\n",
       "      <td>4281</td>\n",
       "    </tr>\n",
       "    <tr>\n",
       "      <th>2024-12-09 14:34:00+00:00</th>\n",
       "      <td>176.869995</td>\n",
       "      <td>177.059906</td>\n",
       "      <td>176.869995</td>\n",
       "      <td>176.934998</td>\n",
       "      <td>2329</td>\n",
       "    </tr>\n",
       "    <tr>\n",
       "      <th>2024-12-09 14:36:00+00:00</th>\n",
       "      <td>176.839996</td>\n",
       "      <td>176.999298</td>\n",
       "      <td>176.700104</td>\n",
       "      <td>176.990005</td>\n",
       "      <td>1558</td>\n",
       "    </tr>\n",
       "    <tr>\n",
       "      <th>2024-12-09 14:38:00+00:00</th>\n",
       "      <td>176.889999</td>\n",
       "      <td>176.889999</td>\n",
       "      <td>176.889999</td>\n",
       "      <td>176.889999</td>\n",
       "      <td>207</td>\n",
       "    </tr>\n",
       "  </tbody>\n",
       "</table>\n",
       "</div>"
      ],
      "text/plain": [
       "Price                           Close        High         Low        Open  \\\n",
       "Ticker                             TM          TM          TM          TM   \n",
       "Datetime                                                                    \n",
       "2024-12-09 14:30:00+00:00  176.610001  176.610001  176.210007  176.350006   \n",
       "2024-12-09 14:32:00+00:00  177.149994  177.149994  176.260101  176.260101   \n",
       "2024-12-09 14:34:00+00:00  176.869995  177.059906  176.869995  176.934998   \n",
       "2024-12-09 14:36:00+00:00  176.839996  176.999298  176.700104  176.990005   \n",
       "2024-12-09 14:38:00+00:00  176.889999  176.889999  176.889999  176.889999   \n",
       "\n",
       "Price                     Volume  \n",
       "Ticker                        TM  \n",
       "Datetime                          \n",
       "2024-12-09 14:30:00+00:00  11331  \n",
       "2024-12-09 14:32:00+00:00   4281  \n",
       "2024-12-09 14:34:00+00:00   2329  \n",
       "2024-12-09 14:36:00+00:00   1558  \n",
       "2024-12-09 14:38:00+00:00    207  "
      ]
     },
     "execution_count": 5,
     "metadata": {},
     "output_type": "execute_result"
    }
   ],
   "source": [
    "tm_short_data.head()"
   ]
  },
  {
   "cell_type": "code",
   "execution_count": 6,
   "id": "4b6688af",
   "metadata": {},
   "outputs": [
    {
     "data": {
      "text/plain": [
       "(3626, 5)"
      ]
     },
     "execution_count": 6,
     "metadata": {},
     "output_type": "execute_result"
    }
   ],
   "source": [
    "tm_short_data.shape"
   ]
  },
  {
   "cell_type": "code",
   "execution_count": 7,
   "id": "fe15459b",
   "metadata": {},
   "outputs": [
    {
     "name": "stdout",
     "output_type": "stream",
     "text": [
      "<class 'pandas.core.frame.DataFrame'>\n",
      "DatetimeIndex: 3626 entries, 2024-12-09 14:30:00+00:00 to 2025-01-08 20:58:00+00:00\n",
      "Data columns (total 5 columns):\n",
      " #   Column        Non-Null Count  Dtype  \n",
      "---  ------        --------------  -----  \n",
      " 0   (Close, TM)   3626 non-null   float64\n",
      " 1   (High, TM)    3626 non-null   float64\n",
      " 2   (Low, TM)     3626 non-null   float64\n",
      " 3   (Open, TM)    3626 non-null   float64\n",
      " 4   (Volume, TM)  3626 non-null   int64  \n",
      "dtypes: float64(4), int64(1)\n",
      "memory usage: 170.0 KB\n"
     ]
    }
   ],
   "source": [
    "tm_short_data.info()"
   ]
  },
  {
   "cell_type": "code",
   "execution_count": 8,
   "id": "3fe93fc4",
   "metadata": {},
   "outputs": [
    {
     "data": {
      "text/html": [
       "<div>\n",
       "<style scoped>\n",
       "    .dataframe tbody tr th:only-of-type {\n",
       "        vertical-align: middle;\n",
       "    }\n",
       "\n",
       "    .dataframe tbody tr th {\n",
       "        vertical-align: top;\n",
       "    }\n",
       "\n",
       "    .dataframe thead tr th {\n",
       "        text-align: left;\n",
       "    }\n",
       "</style>\n",
       "<table border=\"1\" class=\"dataframe\">\n",
       "  <thead>\n",
       "    <tr>\n",
       "      <th>Price</th>\n",
       "      <th>Close</th>\n",
       "      <th>High</th>\n",
       "      <th>Low</th>\n",
       "      <th>Open</th>\n",
       "      <th>Volume</th>\n",
       "    </tr>\n",
       "    <tr>\n",
       "      <th>Ticker</th>\n",
       "      <th>TM</th>\n",
       "      <th>TM</th>\n",
       "      <th>TM</th>\n",
       "      <th>TM</th>\n",
       "      <th>TM</th>\n",
       "    </tr>\n",
       "  </thead>\n",
       "  <tbody>\n",
       "    <tr>\n",
       "      <th>count</th>\n",
       "      <td>3626.000000</td>\n",
       "      <td>3626.000000</td>\n",
       "      <td>3626.000000</td>\n",
       "      <td>3626.000000</td>\n",
       "      <td>3626.000000</td>\n",
       "    </tr>\n",
       "    <tr>\n",
       "      <th>mean</th>\n",
       "      <td>185.194554</td>\n",
       "      <td>185.247843</td>\n",
       "      <td>185.139096</td>\n",
       "      <td>185.194976</td>\n",
       "      <td>2554.813293</td>\n",
       "    </tr>\n",
       "    <tr>\n",
       "      <th>std</th>\n",
       "      <td>9.172306</td>\n",
       "      <td>9.186512</td>\n",
       "      <td>9.160805</td>\n",
       "      <td>9.173264</td>\n",
       "      <td>4868.909285</td>\n",
       "    </tr>\n",
       "    <tr>\n",
       "      <th>min</th>\n",
       "      <td>173.350006</td>\n",
       "      <td>173.520004</td>\n",
       "      <td>173.320007</td>\n",
       "      <td>173.390106</td>\n",
       "      <td>100.000000</td>\n",
       "    </tr>\n",
       "    <tr>\n",
       "      <th>25%</th>\n",
       "      <td>176.876251</td>\n",
       "      <td>176.931149</td>\n",
       "      <td>176.823250</td>\n",
       "      <td>176.882504</td>\n",
       "      <td>815.000000</td>\n",
       "    </tr>\n",
       "    <tr>\n",
       "      <th>50%</th>\n",
       "      <td>179.737503</td>\n",
       "      <td>179.754997</td>\n",
       "      <td>179.693855</td>\n",
       "      <td>179.720001</td>\n",
       "      <td>1485.000000</td>\n",
       "    </tr>\n",
       "    <tr>\n",
       "      <th>75%</th>\n",
       "      <td>194.297848</td>\n",
       "      <td>194.358749</td>\n",
       "      <td>194.227497</td>\n",
       "      <td>194.289993</td>\n",
       "      <td>2674.750000</td>\n",
       "    </tr>\n",
       "    <tr>\n",
       "      <th>max</th>\n",
       "      <td>200.866394</td>\n",
       "      <td>200.999893</td>\n",
       "      <td>200.710007</td>\n",
       "      <td>200.830994</td>\n",
       "      <td>135169.000000</td>\n",
       "    </tr>\n",
       "  </tbody>\n",
       "</table>\n",
       "</div>"
      ],
      "text/plain": [
       "Price         Close         High          Low         Open         Volume\n",
       "Ticker           TM           TM           TM           TM             TM\n",
       "count   3626.000000  3626.000000  3626.000000  3626.000000    3626.000000\n",
       "mean     185.194554   185.247843   185.139096   185.194976    2554.813293\n",
       "std        9.172306     9.186512     9.160805     9.173264    4868.909285\n",
       "min      173.350006   173.520004   173.320007   173.390106     100.000000\n",
       "25%      176.876251   176.931149   176.823250   176.882504     815.000000\n",
       "50%      179.737503   179.754997   179.693855   179.720001    1485.000000\n",
       "75%      194.297848   194.358749   194.227497   194.289993    2674.750000\n",
       "max      200.866394   200.999893   200.710007   200.830994  135169.000000"
      ]
     },
     "execution_count": 8,
     "metadata": {},
     "output_type": "execute_result"
    }
   ],
   "source": [
    "tm_short_data.describe()"
   ]
  },
  {
   "cell_type": "code",
   "execution_count": null,
   "id": "d28b75fb",
   "metadata": {},
   "outputs": [],
   "source": []
  },
  {
   "cell_type": "code",
   "execution_count": null,
   "id": "cce3ac7d",
   "metadata": {},
   "outputs": [],
   "source": []
  },
  {
   "cell_type": "code",
   "execution_count": null,
   "id": "8e7abdfe",
   "metadata": {},
   "outputs": [],
   "source": []
  }
 ],
 "metadata": {
  "kernelspec": {
   "display_name": "base",
   "language": "python",
   "name": "python3"
  },
  "language_info": {
   "codemirror_mode": {
    "name": "ipython",
    "version": 3
   },
   "file_extension": ".py",
   "mimetype": "text/x-python",
   "name": "python",
   "nbconvert_exporter": "python",
   "pygments_lexer": "ipython3",
   "version": "3.12.4"
  }
 },
 "nbformat": 4,
 "nbformat_minor": 5
}
