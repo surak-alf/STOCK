{
 "cells": [
  {
   "cell_type": "code",
   "execution_count": 1,
   "id": "3dcbbcf2",
   "metadata": {},
   "outputs": [],
   "source": [
    "import yfinance as yf\n",
    "import matplotlib.pyplot as plt"
   ]
  },
  {
   "cell_type": "code",
   "execution_count": null,
   "id": "f4a1582b",
   "metadata": {},
   "outputs": [],
   "source": [
    "import sys\n",
    "import os\n",
    "\n",
    "# Get the directory of the current notebook\n",
    "current_dir = os.path.dirname(os.path.abspath('../scripts')) \n",
    "\n",
    "# Add the 'scripts' directory to the Python path\n",
    "scripts_dir = os.path.join(current_dir, 'scripts')\n",
    "sys.path.append(scripts_dir)"
   ]
  },
  {
   "cell_type": "code",
   "execution_count": 2,
   "id": "2fb42890",
   "metadata": {},
   "outputs": [
    {
     "name": "stderr",
     "output_type": "stream",
     "text": [
      "[*********************100%***********************]  1 of 1 completed\n"
     ]
    }
   ],
   "source": [
    "# Downloading (NVDA) data for the past month with 2-minute intervals\n",
    "data = yf.download(\n",
    "    tickers=['NVDA'],\n",
    "    period=\"1mo\",\n",
    "    interval=\"2m\"\n",
    ")"
   ]
  },
  {
   "cell_type": "code",
   "execution_count": 3,
   "id": "97de042c",
   "metadata": {},
   "outputs": [
    {
     "data": {
      "text/html": [
       "<div>\n",
       "<style scoped>\n",
       "    .dataframe tbody tr th:only-of-type {\n",
       "        vertical-align: middle;\n",
       "    }\n",
       "\n",
       "    .dataframe tbody tr th {\n",
       "        vertical-align: top;\n",
       "    }\n",
       "\n",
       "    .dataframe thead tr th {\n",
       "        text-align: left;\n",
       "    }\n",
       "\n",
       "    .dataframe thead tr:last-of-type th {\n",
       "        text-align: right;\n",
       "    }\n",
       "</style>\n",
       "<table border=\"1\" class=\"dataframe\">\n",
       "  <thead>\n",
       "    <tr>\n",
       "      <th>Price</th>\n",
       "      <th>Close</th>\n",
       "      <th>High</th>\n",
       "      <th>Low</th>\n",
       "      <th>Open</th>\n",
       "      <th>Volume</th>\n",
       "    </tr>\n",
       "    <tr>\n",
       "      <th>Ticker</th>\n",
       "      <th>NVDA</th>\n",
       "      <th>NVDA</th>\n",
       "      <th>NVDA</th>\n",
       "      <th>NVDA</th>\n",
       "      <th>NVDA</th>\n",
       "    </tr>\n",
       "    <tr>\n",
       "      <th>Datetime</th>\n",
       "      <th></th>\n",
       "      <th></th>\n",
       "      <th></th>\n",
       "      <th></th>\n",
       "      <th></th>\n",
       "    </tr>\n",
       "  </thead>\n",
       "  <tbody>\n",
       "    <tr>\n",
       "      <th>2024-12-09 14:30:00+00:00</th>\n",
       "      <td>138.779999</td>\n",
       "      <td>139.000000</td>\n",
       "      <td>137.429993</td>\n",
       "      <td>138.987503</td>\n",
       "      <td>23223279</td>\n",
       "    </tr>\n",
       "    <tr>\n",
       "      <th>2024-12-09 14:32:00+00:00</th>\n",
       "      <td>138.125504</td>\n",
       "      <td>138.970001</td>\n",
       "      <td>137.970398</td>\n",
       "      <td>138.740005</td>\n",
       "      <td>2778123</td>\n",
       "    </tr>\n",
       "    <tr>\n",
       "      <th>2024-12-09 14:34:00+00:00</th>\n",
       "      <td>138.649994</td>\n",
       "      <td>138.699997</td>\n",
       "      <td>137.910004</td>\n",
       "      <td>138.110001</td>\n",
       "      <td>2348206</td>\n",
       "    </tr>\n",
       "    <tr>\n",
       "      <th>2024-12-09 14:36:00+00:00</th>\n",
       "      <td>138.449997</td>\n",
       "      <td>138.789993</td>\n",
       "      <td>138.330002</td>\n",
       "      <td>138.660004</td>\n",
       "      <td>1967406</td>\n",
       "    </tr>\n",
       "    <tr>\n",
       "      <th>2024-12-09 14:38:00+00:00</th>\n",
       "      <td>138.679596</td>\n",
       "      <td>138.699997</td>\n",
       "      <td>138.059998</td>\n",
       "      <td>138.440002</td>\n",
       "      <td>1658076</td>\n",
       "    </tr>\n",
       "    <tr>\n",
       "      <th>...</th>\n",
       "      <td>...</td>\n",
       "      <td>...</td>\n",
       "      <td>...</td>\n",
       "      <td>...</td>\n",
       "      <td>...</td>\n",
       "    </tr>\n",
       "    <tr>\n",
       "      <th>2025-01-07 20:50:00+00:00</th>\n",
       "      <td>140.279999</td>\n",
       "      <td>140.970001</td>\n",
       "      <td>140.279999</td>\n",
       "      <td>140.839996</td>\n",
       "      <td>1931483</td>\n",
       "    </tr>\n",
       "    <tr>\n",
       "      <th>2025-01-07 20:52:00+00:00</th>\n",
       "      <td>140.369995</td>\n",
       "      <td>140.399994</td>\n",
       "      <td>140.065002</td>\n",
       "      <td>140.270004</td>\n",
       "      <td>1794827</td>\n",
       "    </tr>\n",
       "    <tr>\n",
       "      <th>2025-01-07 20:54:00+00:00</th>\n",
       "      <td>140.360001</td>\n",
       "      <td>140.679993</td>\n",
       "      <td>140.067703</td>\n",
       "      <td>140.380005</td>\n",
       "      <td>2393048</td>\n",
       "    </tr>\n",
       "    <tr>\n",
       "      <th>2025-01-07 20:56:00+00:00</th>\n",
       "      <td>140.488602</td>\n",
       "      <td>140.559998</td>\n",
       "      <td>140.250000</td>\n",
       "      <td>140.360001</td>\n",
       "      <td>1972150</td>\n",
       "    </tr>\n",
       "    <tr>\n",
       "      <th>2025-01-07 20:58:00+00:00</th>\n",
       "      <td>140.119995</td>\n",
       "      <td>140.490005</td>\n",
       "      <td>140.110001</td>\n",
       "      <td>140.490005</td>\n",
       "      <td>4137061</td>\n",
       "    </tr>\n",
       "  </tbody>\n",
       "</table>\n",
       "<p>3808 rows × 5 columns</p>\n",
       "</div>"
      ],
      "text/plain": [
       "Price                           Close        High         Low        Open  \\\n",
       "Ticker                           NVDA        NVDA        NVDA        NVDA   \n",
       "Datetime                                                                    \n",
       "2024-12-09 14:30:00+00:00  138.779999  139.000000  137.429993  138.987503   \n",
       "2024-12-09 14:32:00+00:00  138.125504  138.970001  137.970398  138.740005   \n",
       "2024-12-09 14:34:00+00:00  138.649994  138.699997  137.910004  138.110001   \n",
       "2024-12-09 14:36:00+00:00  138.449997  138.789993  138.330002  138.660004   \n",
       "2024-12-09 14:38:00+00:00  138.679596  138.699997  138.059998  138.440002   \n",
       "...                               ...         ...         ...         ...   \n",
       "2025-01-07 20:50:00+00:00  140.279999  140.970001  140.279999  140.839996   \n",
       "2025-01-07 20:52:00+00:00  140.369995  140.399994  140.065002  140.270004   \n",
       "2025-01-07 20:54:00+00:00  140.360001  140.679993  140.067703  140.380005   \n",
       "2025-01-07 20:56:00+00:00  140.488602  140.559998  140.250000  140.360001   \n",
       "2025-01-07 20:58:00+00:00  140.119995  140.490005  140.110001  140.490005   \n",
       "\n",
       "Price                        Volume  \n",
       "Ticker                         NVDA  \n",
       "Datetime                             \n",
       "2024-12-09 14:30:00+00:00  23223279  \n",
       "2024-12-09 14:32:00+00:00   2778123  \n",
       "2024-12-09 14:34:00+00:00   2348206  \n",
       "2024-12-09 14:36:00+00:00   1967406  \n",
       "2024-12-09 14:38:00+00:00   1658076  \n",
       "...                             ...  \n",
       "2025-01-07 20:50:00+00:00   1931483  \n",
       "2025-01-07 20:52:00+00:00   1794827  \n",
       "2025-01-07 20:54:00+00:00   2393048  \n",
       "2025-01-07 20:56:00+00:00   1972150  \n",
       "2025-01-07 20:58:00+00:00   4137061  \n",
       "\n",
       "[3808 rows x 5 columns]"
      ]
     },
     "execution_count": 3,
     "metadata": {},
     "output_type": "execute_result"
    }
   ],
   "source": [
    "data"
   ]
  },
  {
   "cell_type": "code",
   "execution_count": 4,
   "id": "c355dc37",
   "metadata": {},
   "outputs": [
    {
     "name": "stdout",
     "output_type": "stream",
     "text": [
      "<class 'pandas.core.frame.DataFrame'>\n",
      "DatetimeIndex: 3808 entries, 2024-12-09 14:30:00+00:00 to 2025-01-07 20:58:00+00:00\n",
      "Data columns (total 5 columns):\n",
      " #   Column          Non-Null Count  Dtype  \n",
      "---  ------          --------------  -----  \n",
      " 0   (Close, NVDA)   3808 non-null   float64\n",
      " 1   (High, NVDA)    3808 non-null   float64\n",
      " 2   (Low, NVDA)     3808 non-null   float64\n",
      " 3   (Open, NVDA)    3808 non-null   float64\n",
      " 4   (Volume, NVDA)  3808 non-null   int64  \n",
      "dtypes: float64(4), int64(1)\n",
      "memory usage: 178.5 KB\n"
     ]
    }
   ],
   "source": [
    "data.info()"
   ]
  },
  {
   "cell_type": "code",
   "execution_count": 5,
   "id": "92fcc4a4",
   "metadata": {},
   "outputs": [
    {
     "data": {
      "image/png": "[encoded data removed]",
      "text/plain": [
       "<Figure size 640x480 with 1 Axes>"
      ]
     },
     "metadata": {},
     "output_type": "display_data"
    }
   ],
   "source": [
    "# Plotting the data \n",
    "plt.plot(data['Close'])\n",
    "plt.xlabel('Date')\n",
    "plt.ylabel('Closing Price (USD)')\n",
    "plt.title('TM Price (Past Month, 2-Minute Intervals)')\n",
    "plt.show()"
   ]
  },
  {
   "cell_type": "code",
   "execution_count": null,
   "id": "8e7abdfe",
   "metadata": {},
   "outputs": [],
   "source": []
  }
 ],
 "metadata": {
  "kernelspec": {
   "display_name": "Python 3",
   "language": "python",
   "name": "python3"
  },
  "language_info": {
   "codemirror_mode": {
    "name": "ipython",
    "version": 3
   },
   "file_extension": ".py",
   "mimetype": "text/x-python",
   "name": "python",
   "nbconvert_exporter": "python",
   "pygments_lexer": "ipython3",
   "version": "3.12.4"
  }
 },
 "nbformat": 4,
 "nbformat_minor": 5
}
