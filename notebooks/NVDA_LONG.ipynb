{
 "cells": [
  {
   "cell_type": "code",
   "execution_count": 7,
   "id": "3dcbbcf2",
   "metadata": {},
   "outputs": [],
   "source": [
    "import yfinance as yf\n",
    "import matplotlib.pyplot as plt"
   ]
  },
  {
   "cell_type": "code",
   "execution_count": null,
   "id": "4e2b6d7c",
   "metadata": {},
   "outputs": [],
   "source": [
    "import sys\n",
    "import os\n",
    "\n",
    "# Get the directory of the current notebook\n",
    "current_dir = os.path.dirname(os.path.abspath('../scripts')) \n",
    "\n",
    "# Add the 'scripts' directory to the Python path\n",
    "scripts_dir = os.path.join(current_dir, 'scripts')\n",
    "sys.path.append(scripts_dir)"
   ]
  },
  {
   "cell_type": "code",
   "execution_count": 8,
   "id": "2fb42890",
   "metadata": {},
   "outputs": [
    {
     "name": "stderr",
     "output_type": "stream",
     "text": [
      "[*********************100%***********************]  1 of 1 completed\n"
     ]
    }
   ],
   "source": [
    "# Downloading (NVDA) data for the past month with 2-minute intervals\n",
    "data = yf.download(\n",
    "    tickers=['NVDA'],\n",
    "    period=\"max\",\n",
    "    interval=\"1d\"\n",
    ")"
   ]
  },
  {
   "cell_type": "code",
   "execution_count": 9,
   "id": "97de042c",
   "metadata": {},
   "outputs": [
    {
     "data": {
      "text/html": [
       "<div>\n",
       "<style scoped>\n",
       "    .dataframe tbody tr th:only-of-type {\n",
       "        vertical-align: middle;\n",
       "    }\n",
       "\n",
       "    .dataframe tbody tr th {\n",
       "        vertical-align: top;\n",
       "    }\n",
       "\n",
       "    .dataframe thead tr th {\n",
       "        text-align: left;\n",
       "    }\n",
       "\n",
       "    .dataframe thead tr:last-of-type th {\n",
       "        text-align: right;\n",
       "    }\n",
       "</style>\n",
       "<table border=\"1\" class=\"dataframe\">\n",
       "  <thead>\n",
       "    <tr>\n",
       "      <th>Price</th>\n",
       "      <th>Close</th>\n",
       "      <th>High</th>\n",
       "      <th>Low</th>\n",
       "      <th>Open</th>\n",
       "      <th>Volume</th>\n",
       "    </tr>\n",
       "    <tr>\n",
       "      <th>Ticker</th>\n",
       "      <th>NVDA</th>\n",
       "      <th>NVDA</th>\n",
       "      <th>NVDA</th>\n",
       "      <th>NVDA</th>\n",
       "      <th>NVDA</th>\n",
       "    </tr>\n",
       "    <tr>\n",
       "      <th>Date</th>\n",
       "      <th></th>\n",
       "      <th></th>\n",
       "      <th></th>\n",
       "      <th></th>\n",
       "      <th></th>\n",
       "    </tr>\n",
       "  </thead>\n",
       "  <tbody>\n",
       "    <tr>\n",
       "      <th>1999-01-22</th>\n",
       "      <td>0.037618</td>\n",
       "      <td>0.044783</td>\n",
       "      <td>0.035587</td>\n",
       "      <td>0.040125</td>\n",
       "      <td>2714688000</td>\n",
       "    </tr>\n",
       "    <tr>\n",
       "      <th>1999-01-25</th>\n",
       "      <td>0.041559</td>\n",
       "      <td>0.042036</td>\n",
       "      <td>0.037618</td>\n",
       "      <td>0.040603</td>\n",
       "      <td>510480000</td>\n",
       "    </tr>\n",
       "    <tr>\n",
       "      <th>1999-01-26</th>\n",
       "      <td>0.038334</td>\n",
       "      <td>0.042872</td>\n",
       "      <td>0.037737</td>\n",
       "      <td>0.042036</td>\n",
       "      <td>343200000</td>\n",
       "    </tr>\n",
       "    <tr>\n",
       "      <th>1999-01-27</th>\n",
       "      <td>0.038215</td>\n",
       "      <td>0.039409</td>\n",
       "      <td>0.036303</td>\n",
       "      <td>0.038453</td>\n",
       "      <td>244368000</td>\n",
       "    </tr>\n",
       "    <tr>\n",
       "      <th>1999-01-28</th>\n",
       "      <td>0.038095</td>\n",
       "      <td>0.038453</td>\n",
       "      <td>0.037856</td>\n",
       "      <td>0.038215</td>\n",
       "      <td>227520000</td>\n",
       "    </tr>\n",
       "    <tr>\n",
       "      <th>...</th>\n",
       "      <td>...</td>\n",
       "      <td>...</td>\n",
       "      <td>...</td>\n",
       "      <td>...</td>\n",
       "      <td>...</td>\n",
       "    </tr>\n",
       "    <tr>\n",
       "      <th>2024-12-31</th>\n",
       "      <td>134.289993</td>\n",
       "      <td>138.070007</td>\n",
       "      <td>133.830002</td>\n",
       "      <td>138.029999</td>\n",
       "      <td>155659200</td>\n",
       "    </tr>\n",
       "    <tr>\n",
       "      <th>2025-01-02</th>\n",
       "      <td>138.309998</td>\n",
       "      <td>138.880005</td>\n",
       "      <td>134.630005</td>\n",
       "      <td>136.000000</td>\n",
       "      <td>198247200</td>\n",
       "    </tr>\n",
       "    <tr>\n",
       "      <th>2025-01-03</th>\n",
       "      <td>144.470001</td>\n",
       "      <td>144.899994</td>\n",
       "      <td>139.729996</td>\n",
       "      <td>140.009995</td>\n",
       "      <td>229322500</td>\n",
       "    </tr>\n",
       "    <tr>\n",
       "      <th>2025-01-06</th>\n",
       "      <td>149.429993</td>\n",
       "      <td>152.160004</td>\n",
       "      <td>147.820007</td>\n",
       "      <td>148.589996</td>\n",
       "      <td>265377400</td>\n",
       "    </tr>\n",
       "    <tr>\n",
       "      <th>2025-01-07</th>\n",
       "      <td>140.139999</td>\n",
       "      <td>153.130005</td>\n",
       "      <td>140.009995</td>\n",
       "      <td>153.029999</td>\n",
       "      <td>350526900</td>\n",
       "    </tr>\n",
       "  </tbody>\n",
       "</table>\n",
       "<p>6532 rows × 5 columns</p>\n",
       "</div>"
      ],
      "text/plain": [
       "Price            Close        High         Low        Open      Volume\n",
       "Ticker            NVDA        NVDA        NVDA        NVDA        NVDA\n",
       "Date                                                                  \n",
       "1999-01-22    0.037618    0.044783    0.035587    0.040125  2714688000\n",
       "1999-01-25    0.041559    0.042036    0.037618    0.040603   510480000\n",
       "1999-01-26    0.038334    0.042872    0.037737    0.042036   343200000\n",
       "1999-01-27    0.038215    0.039409    0.036303    0.038453   244368000\n",
       "1999-01-28    0.038095    0.038453    0.037856    0.038215   227520000\n",
       "...                ...         ...         ...         ...         ...\n",
       "2024-12-31  134.289993  138.070007  133.830002  138.029999   155659200\n",
       "2025-01-02  138.309998  138.880005  134.630005  136.000000   198247200\n",
       "2025-01-03  144.470001  144.899994  139.729996  140.009995   229322500\n",
       "2025-01-06  149.429993  152.160004  147.820007  148.589996   265377400\n",
       "2025-01-07  140.139999  153.130005  140.009995  153.029999   350526900\n",
       "\n",
       "[6532 rows x 5 columns]"
      ]
     },
     "execution_count": 9,
     "metadata": {},
     "output_type": "execute_result"
    }
   ],
   "source": [
    "data"
   ]
  },
  {
   "cell_type": "code",
   "execution_count": 10,
   "id": "c355dc37",
   "metadata": {},
   "outputs": [
    {
     "name": "stdout",
     "output_type": "stream",
     "text": [
      "<class 'pandas.core.frame.DataFrame'>\n",
      "DatetimeIndex: 6532 entries, 1999-01-22 to 2025-01-07\n",
      "Data columns (total 5 columns):\n",
      " #   Column          Non-Null Count  Dtype  \n",
      "---  ------          --------------  -----  \n",
      " 0   (Close, NVDA)   6532 non-null   float64\n",
      " 1   (High, NVDA)    6532 non-null   float64\n",
      " 2   (Low, NVDA)     6532 non-null   float64\n",
      " 3   (Open, NVDA)    6532 non-null   float64\n",
      " 4   (Volume, NVDA)  6532 non-null   int64  \n",
      "dtypes: float64(4), int64(1)\n",
      "memory usage: 306.2 KB\n"
     ]
    }
   ],
   "source": [
    "data.info()"
   ]
  },
  {
   "cell_type": "code",
   "execution_count": 11,
   "id": "92fcc4a4",
   "metadata": {},
   "outputs": [
    {
     "data": {
      "image/png": "[encoded data removed]",
      "text/plain": [
       "<Figure size 640x480 with 1 Axes>"
      ]
     },
     "metadata": {},
     "output_type": "display_data"
    }
   ],
   "source": [
    "# Plotting the data (you can customize the plot here)\n",
    "plt.plot(data['Close'])\n",
    "plt.xlabel('Date')\n",
    "plt.ylabel('Closing Price (USD)')\n",
    "plt.title('TM Price (Past Month, 2-Minute Intervals)')\n",
    "plt.show()"
   ]
  },
  {
   "cell_type": "code",
   "execution_count": null,
   "id": "8e7abdfe",
   "metadata": {},
   "outputs": [],
   "source": []
  }
 ],
 "metadata": {
  "kernelspec": {
   "display_name": "myenv",
   "language": "python",
   "name": "python3"
  },
  "language_info": {
   "codemirror_mode": {
    "name": "ipython",
    "version": 3
   },
   "file_extension": ".py",
   "mimetype": "text/x-python",
   "name": "python",
   "nbconvert_exporter": "python",
   "pygments_lexer": "ipython3",
   "version": "3.12.4"
  }
 },
 "nbformat": 4,
 "nbformat_minor": 5
}
