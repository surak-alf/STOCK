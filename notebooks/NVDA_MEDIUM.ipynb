{
 "cells": [
  {
   "cell_type": "code",
   "execution_count": 1,
   "id": "3dcbbcf2",
   "metadata": {},
   "outputs": [],
   "source": [
    "import pandas as pd\n",
    "import numpy as np\n",
    "import yfinance as yf\n",
    "import matplotlib.pyplot as plt"
   ]
  },
  {
   "cell_type": "code",
   "execution_count": 2,
   "id": "cada67bd",
   "metadata": {},
   "outputs": [],
   "source": [
    "import sys\n",
    "import os\n",
    "\n",
    "# Get the directory of the current notebook\n",
    "current_dir = os.path.dirname(os.path.abspath('../scripts')) \n",
    "\n",
    "# Add the 'scripts' directory to the Python path\n",
    "scripts_dir = os.path.join(current_dir, 'scripts')\n",
    "sys.path.append(scripts_dir)"
   ]
  },
  {
   "cell_type": "code",
   "execution_count": 3,
   "id": "7fae0cfd",
   "metadata": {},
   "outputs": [],
   "source": [
    "from EDA import download_stock_data"
   ]
  },
  {
   "cell_type": "code",
   "execution_count": 4,
   "id": "fd1d4f52",
   "metadata": {},
   "outputs": [
    {
     "name": "stderr",
     "output_type": "stream",
     "text": [
      "[*********************100%***********************]  1 of 1 completed\n"
     ]
    }
   ],
   "source": [
    "nvda_medium_data = download_stock_data(\"NVDA\", \"2y\", \"1h\")"
   ]
  },
  {
   "cell_type": "code",
   "execution_count": 5,
   "id": "ee40798f",
   "metadata": {},
   "outputs": [
    {
     "data": {
      "text/html": [
       "<div>\n",
       "<style scoped>\n",
       "    .dataframe tbody tr th:only-of-type {\n",
       "        vertical-align: middle;\n",
       "    }\n",
       "\n",
       "    .dataframe tbody tr th {\n",
       "        vertical-align: top;\n",
       "    }\n",
       "\n",
       "    .dataframe thead tr th {\n",
       "        text-align: left;\n",
       "    }\n",
       "\n",
       "    .dataframe thead tr:last-of-type th {\n",
       "        text-align: right;\n",
       "    }\n",
       "</style>\n",
       "<table border=\"1\" class=\"dataframe\">\n",
       "  <thead>\n",
       "    <tr>\n",
       "      <th>Price</th>\n",
       "      <th>Close</th>\n",
       "      <th>High</th>\n",
       "      <th>Low</th>\n",
       "      <th>Open</th>\n",
       "      <th>Volume</th>\n",
       "    </tr>\n",
       "    <tr>\n",
       "      <th>Ticker</th>\n",
       "      <th>NVDA</th>\n",
       "      <th>NVDA</th>\n",
       "      <th>NVDA</th>\n",
       "      <th>NVDA</th>\n",
       "      <th>NVDA</th>\n",
       "    </tr>\n",
       "    <tr>\n",
       "      <th>Datetime</th>\n",
       "      <th></th>\n",
       "      <th></th>\n",
       "      <th></th>\n",
       "      <th></th>\n",
       "      <th></th>\n",
       "    </tr>\n",
       "  </thead>\n",
       "  <tbody>\n",
       "    <tr>\n",
       "      <th>2023-01-09 14:30:00+00:00</th>\n",
       "      <td>15.822001</td>\n",
       "      <td>15.895000</td>\n",
       "      <td>15.141001</td>\n",
       "      <td>15.283999</td>\n",
       "      <td>14513789</td>\n",
       "    </tr>\n",
       "    <tr>\n",
       "      <th>2023-01-09 15:30:00+00:00</th>\n",
       "      <td>15.986780</td>\n",
       "      <td>16.056000</td>\n",
       "      <td>15.796550</td>\n",
       "      <td>15.823000</td>\n",
       "      <td>7655083</td>\n",
       "    </tr>\n",
       "    <tr>\n",
       "      <th>2023-01-09 16:30:00+00:00</th>\n",
       "      <td>15.987000</td>\n",
       "      <td>16.011999</td>\n",
       "      <td>15.910001</td>\n",
       "      <td>15.986000</td>\n",
       "      <td>5133055</td>\n",
       "    </tr>\n",
       "    <tr>\n",
       "      <th>2023-01-09 17:30:00+00:00</th>\n",
       "      <td>16.021000</td>\n",
       "      <td>16.033720</td>\n",
       "      <td>15.937281</td>\n",
       "      <td>15.987000</td>\n",
       "      <td>3970512</td>\n",
       "    </tr>\n",
       "    <tr>\n",
       "      <th>2023-01-09 18:30:00+00:00</th>\n",
       "      <td>15.968280</td>\n",
       "      <td>16.021000</td>\n",
       "      <td>15.778999</td>\n",
       "      <td>16.021000</td>\n",
       "      <td>5876413</td>\n",
       "    </tr>\n",
       "  </tbody>\n",
       "</table>\n",
       "</div>"
      ],
      "text/plain": [
       "Price                          Close       High        Low       Open  \\\n",
       "Ticker                          NVDA       NVDA       NVDA       NVDA   \n",
       "Datetime                                                                \n",
       "2023-01-09 14:30:00+00:00  15.822001  15.895000  15.141001  15.283999   \n",
       "2023-01-09 15:30:00+00:00  15.986780  16.056000  15.796550  15.823000   \n",
       "2023-01-09 16:30:00+00:00  15.987000  16.011999  15.910001  15.986000   \n",
       "2023-01-09 17:30:00+00:00  16.021000  16.033720  15.937281  15.987000   \n",
       "2023-01-09 18:30:00+00:00  15.968280  16.021000  15.778999  16.021000   \n",
       "\n",
       "Price                        Volume  \n",
       "Ticker                         NVDA  \n",
       "Datetime                             \n",
       "2023-01-09 14:30:00+00:00  14513789  \n",
       "2023-01-09 15:30:00+00:00   7655083  \n",
       "2023-01-09 16:30:00+00:00   5133055  \n",
       "2023-01-09 17:30:00+00:00   3970512  \n",
       "2023-01-09 18:30:00+00:00   5876413  "
      ]
     },
     "execution_count": 5,
     "metadata": {},
     "output_type": "execute_result"
    }
   ],
   "source": [
    "nvda_medium_data.head()"
   ]
  },
  {
   "cell_type": "code",
   "execution_count": 6,
   "id": "07ba9a22",
   "metadata": {},
   "outputs": [
    {
     "data": {
      "text/plain": [
       "(3501, 5)"
      ]
     },
     "execution_count": 6,
     "metadata": {},
     "output_type": "execute_result"
    }
   ],
   "source": [
    "nvda_medium_data.shape"
   ]
  },
  {
   "cell_type": "code",
   "execution_count": 7,
   "id": "f946fb2a",
   "metadata": {},
   "outputs": [
    {
     "name": "stdout",
     "output_type": "stream",
     "text": [
      "<class 'pandas.core.frame.DataFrame'>\n",
      "DatetimeIndex: 3501 entries, 2023-01-09 14:30:00+00:00 to 2025-01-08 20:30:00+00:00\n",
      "Data columns (total 5 columns):\n",
      " #   Column          Non-Null Count  Dtype  \n",
      "---  ------          --------------  -----  \n",
      " 0   (Close, NVDA)   3501 non-null   float64\n",
      " 1   (High, NVDA)    3501 non-null   float64\n",
      " 2   (Low, NVDA)     3501 non-null   float64\n",
      " 3   (Open, NVDA)    3501 non-null   float64\n",
      " 4   (Volume, NVDA)  3501 non-null   int64  \n",
      "dtypes: float64(4), int64(1)\n",
      "memory usage: 164.1 KB\n"
     ]
    }
   ],
   "source": [
    "nvda_medium_data.info()"
   ]
  },
  {
   "cell_type": "code",
   "execution_count": 8,
   "id": "6840d283",
   "metadata": {},
   "outputs": [
    {
     "data": {
      "text/html": [
       "<div>\n",
       "<style scoped>\n",
       "    .dataframe tbody tr th:only-of-type {\n",
       "        vertical-align: middle;\n",
       "    }\n",
       "\n",
       "    .dataframe tbody tr th {\n",
       "        vertical-align: top;\n",
       "    }\n",
       "\n",
       "    .dataframe thead tr th {\n",
       "        text-align: left;\n",
       "    }\n",
       "</style>\n",
       "<table border=\"1\" class=\"dataframe\">\n",
       "  <thead>\n",
       "    <tr>\n",
       "      <th>Price</th>\n",
       "      <th>Close</th>\n",
       "      <th>High</th>\n",
       "      <th>Low</th>\n",
       "      <th>Open</th>\n",
       "      <th>Volume</th>\n",
       "    </tr>\n",
       "    <tr>\n",
       "      <th>Ticker</th>\n",
       "      <th>NVDA</th>\n",
       "      <th>NVDA</th>\n",
       "      <th>NVDA</th>\n",
       "      <th>NVDA</th>\n",
       "      <th>NVDA</th>\n",
       "    </tr>\n",
       "  </thead>\n",
       "  <tbody>\n",
       "    <tr>\n",
       "      <th>count</th>\n",
       "      <td>3501.000000</td>\n",
       "      <td>3501.000000</td>\n",
       "      <td>3501.000000</td>\n",
       "      <td>3501.000000</td>\n",
       "      <td>3.501000e+03</td>\n",
       "    </tr>\n",
       "    <tr>\n",
       "      <th>mean</th>\n",
       "      <td>73.358482</td>\n",
       "      <td>73.803468</td>\n",
       "      <td>72.868532</td>\n",
       "      <td>73.360808</td>\n",
       "      <td>1.495212e+07</td>\n",
       "    </tr>\n",
       "    <tr>\n",
       "      <th>std</th>\n",
       "      <td>41.289132</td>\n",
       "      <td>41.558406</td>\n",
       "      <td>40.999984</td>\n",
       "      <td>41.310534</td>\n",
       "      <td>1.953808e+07</td>\n",
       "    </tr>\n",
       "    <tr>\n",
       "      <th>min</th>\n",
       "      <td>15.636999</td>\n",
       "      <td>15.732210</td>\n",
       "      <td>15.141001</td>\n",
       "      <td>15.283999</td>\n",
       "      <td>0.000000e+00</td>\n",
       "    </tr>\n",
       "    <tr>\n",
       "      <th>25%</th>\n",
       "      <td>42.113800</td>\n",
       "      <td>42.292999</td>\n",
       "      <td>41.834999</td>\n",
       "      <td>42.096001</td>\n",
       "      <td>4.213906e+06</td>\n",
       "    </tr>\n",
       "    <tr>\n",
       "      <th>50%</th>\n",
       "      <td>52.859997</td>\n",
       "      <td>52.901001</td>\n",
       "      <td>52.079998</td>\n",
       "      <td>52.478996</td>\n",
       "      <td>6.691355e+06</td>\n",
       "    </tr>\n",
       "    <tr>\n",
       "      <th>75%</th>\n",
       "      <td>116.090660</td>\n",
       "      <td>116.720001</td>\n",
       "      <td>115.440002</td>\n",
       "      <td>116.089996</td>\n",
       "      <td>1.780182e+07</td>\n",
       "    </tr>\n",
       "    <tr>\n",
       "      <th>max</th>\n",
       "      <td>151.888794</td>\n",
       "      <td>153.130005</td>\n",
       "      <td>151.035004</td>\n",
       "      <td>153.048004</td>\n",
       "      <td>2.197171e+08</td>\n",
       "    </tr>\n",
       "  </tbody>\n",
       "</table>\n",
       "</div>"
      ],
      "text/plain": [
       "Price         Close         High          Low         Open        Volume\n",
       "Ticker         NVDA         NVDA         NVDA         NVDA          NVDA\n",
       "count   3501.000000  3501.000000  3501.000000  3501.000000  3.501000e+03\n",
       "mean      73.358482    73.803468    72.868532    73.360808  1.495212e+07\n",
       "std       41.289132    41.558406    40.999984    41.310534  1.953808e+07\n",
       "min       15.636999    15.732210    15.141001    15.283999  0.000000e+00\n",
       "25%       42.113800    42.292999    41.834999    42.096001  4.213906e+06\n",
       "50%       52.859997    52.901001    52.079998    52.478996  6.691355e+06\n",
       "75%      116.090660   116.720001   115.440002   116.089996  1.780182e+07\n",
       "max      151.888794   153.130005   151.035004   153.048004  2.197171e+08"
      ]
     },
     "execution_count": 8,
     "metadata": {},
     "output_type": "execute_result"
    }
   ],
   "source": [
    "nvda_medium_data.describe()"
   ]
  },
  {
   "cell_type": "code",
   "execution_count": null,
   "id": "1f60dbc6",
   "metadata": {},
   "outputs": [],
   "source": []
  },
  {
   "cell_type": "code",
   "execution_count": null,
   "id": "8e7abdfe",
   "metadata": {},
   "outputs": [],
   "source": []
  }
 ],
 "metadata": {
  "kernelspec": {
   "display_name": "base",
   "language": "python",
   "name": "python3"
  },
  "language_info": {
   "codemirror_mode": {
    "name": "ipython",
    "version": 3
   },
   "file_extension": ".py",
   "mimetype": "text/x-python",
   "name": "python",
   "nbconvert_exporter": "python",
   "pygments_lexer": "ipython3",
   "version": "3.12.4"
  }
 },
 "nbformat": 4,
 "nbformat_minor": 5
}
