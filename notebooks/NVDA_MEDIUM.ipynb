{
 "cells": [
  {
   "cell_type": "code",
   "execution_count": 1,
   "id": "3dcbbcf2",
   "metadata": {},
   "outputs": [],
   "source": [
    "import yfinance as yf\n",
    "import matplotlib.pyplot as plt"
   ]
  },
  {
   "cell_type": "code",
   "execution_count": null,
   "id": "cada67bd",
   "metadata": {},
   "outputs": [],
   "source": [
    "import sys\n",
    "import os\n",
    "\n",
    "# Get the directory of the current notebook\n",
    "current_dir = os.path.dirname(os.path.abspath('../scripts')) \n",
    "\n",
    "# Add the 'scripts' directory to the Python path\n",
    "scripts_dir = os.path.join(current_dir, 'scripts')\n",
    "sys.path.append(scripts_dir)"
   ]
  },
  {
   "cell_type": "code",
   "execution_count": 2,
   "id": "2fb42890",
   "metadata": {},
   "outputs": [
    {
     "name": "stderr",
     "output_type": "stream",
     "text": [
      "[*********************100%***********************]  1 of 1 completed\n"
     ]
    }
   ],
   "source": [
    "# Downloading (NVDA) data for the past 2-year with 1-hour intervals\n",
    "data = yf.download(\n",
    "    tickers=['NVDA'],\n",
    "    period=\"2Y\",\n",
    "    interval=\"1h\"\n",
    ")"
   ]
  },
  {
   "cell_type": "code",
   "execution_count": 3,
   "id": "97de042c",
   "metadata": {},
   "outputs": [
    {
     "data": {
      "text/html": [
       "<div>\n",
       "<style scoped>\n",
       "    .dataframe tbody tr th:only-of-type {\n",
       "        vertical-align: middle;\n",
       "    }\n",
       "\n",
       "    .dataframe tbody tr th {\n",
       "        vertical-align: top;\n",
       "    }\n",
       "\n",
       "    .dataframe thead tr th {\n",
       "        text-align: left;\n",
       "    }\n",
       "\n",
       "    .dataframe thead tr:last-of-type th {\n",
       "        text-align: right;\n",
       "    }\n",
       "</style>\n",
       "<table border=\"1\" class=\"dataframe\">\n",
       "  <thead>\n",
       "    <tr>\n",
       "      <th>Price</th>\n",
       "      <th>Close</th>\n",
       "      <th>High</th>\n",
       "      <th>Low</th>\n",
       "      <th>Open</th>\n",
       "      <th>Volume</th>\n",
       "    </tr>\n",
       "    <tr>\n",
       "      <th>Ticker</th>\n",
       "      <th>NVDA</th>\n",
       "      <th>NVDA</th>\n",
       "      <th>NVDA</th>\n",
       "      <th>NVDA</th>\n",
       "      <th>NVDA</th>\n",
       "    </tr>\n",
       "    <tr>\n",
       "      <th>Datetime</th>\n",
       "      <th></th>\n",
       "      <th></th>\n",
       "      <th></th>\n",
       "      <th></th>\n",
       "      <th></th>\n",
       "    </tr>\n",
       "  </thead>\n",
       "  <tbody>\n",
       "    <tr>\n",
       "      <th>2023-01-09 14:30:00+00:00</th>\n",
       "      <td>15.822001</td>\n",
       "      <td>15.895000</td>\n",
       "      <td>15.141001</td>\n",
       "      <td>15.283999</td>\n",
       "      <td>14513789</td>\n",
       "    </tr>\n",
       "    <tr>\n",
       "      <th>2023-01-09 15:30:00+00:00</th>\n",
       "      <td>15.986780</td>\n",
       "      <td>16.056000</td>\n",
       "      <td>15.796550</td>\n",
       "      <td>15.823000</td>\n",
       "      <td>7655083</td>\n",
       "    </tr>\n",
       "    <tr>\n",
       "      <th>2023-01-09 16:30:00+00:00</th>\n",
       "      <td>15.987000</td>\n",
       "      <td>16.011999</td>\n",
       "      <td>15.910001</td>\n",
       "      <td>15.986000</td>\n",
       "      <td>5133055</td>\n",
       "    </tr>\n",
       "    <tr>\n",
       "      <th>2023-01-09 17:30:00+00:00</th>\n",
       "      <td>16.021000</td>\n",
       "      <td>16.033720</td>\n",
       "      <td>15.937281</td>\n",
       "      <td>15.987000</td>\n",
       "      <td>3970512</td>\n",
       "    </tr>\n",
       "    <tr>\n",
       "      <th>2023-01-09 18:30:00+00:00</th>\n",
       "      <td>15.968280</td>\n",
       "      <td>16.021000</td>\n",
       "      <td>15.778999</td>\n",
       "      <td>16.021000</td>\n",
       "      <td>5876413</td>\n",
       "    </tr>\n",
       "    <tr>\n",
       "      <th>...</th>\n",
       "      <td>...</td>\n",
       "      <td>...</td>\n",
       "      <td>...</td>\n",
       "      <td>...</td>\n",
       "      <td>...</td>\n",
       "    </tr>\n",
       "    <tr>\n",
       "      <th>2025-01-07 16:30:00+00:00</th>\n",
       "      <td>141.429001</td>\n",
       "      <td>149.429993</td>\n",
       "      <td>141.119995</td>\n",
       "      <td>142.759995</td>\n",
       "      <td>32583750</td>\n",
       "    </tr>\n",
       "    <tr>\n",
       "      <th>2025-01-07 17:30:00+00:00</th>\n",
       "      <td>143.115005</td>\n",
       "      <td>143.449997</td>\n",
       "      <td>141.309998</td>\n",
       "      <td>141.429993</td>\n",
       "      <td>23029395</td>\n",
       "    </tr>\n",
       "    <tr>\n",
       "      <th>2025-01-07 18:30:00+00:00</th>\n",
       "      <td>141.640106</td>\n",
       "      <td>143.169998</td>\n",
       "      <td>141.399994</td>\n",
       "      <td>143.110001</td>\n",
       "      <td>18605910</td>\n",
       "    </tr>\n",
       "    <tr>\n",
       "      <th>2025-01-07 19:30:00+00:00</th>\n",
       "      <td>140.604996</td>\n",
       "      <td>141.660004</td>\n",
       "      <td>140.440002</td>\n",
       "      <td>141.645004</td>\n",
       "      <td>24935062</td>\n",
       "    </tr>\n",
       "    <tr>\n",
       "      <th>2025-01-07 20:30:00+00:00</th>\n",
       "      <td>140.119995</td>\n",
       "      <td>141.300003</td>\n",
       "      <td>140.009995</td>\n",
       "      <td>140.610001</td>\n",
       "      <td>25410017</td>\n",
       "    </tr>\n",
       "  </tbody>\n",
       "</table>\n",
       "<p>3494 rows × 5 columns</p>\n",
       "</div>"
      ],
      "text/plain": [
       "Price                           Close        High         Low        Open  \\\n",
       "Ticker                           NVDA        NVDA        NVDA        NVDA   \n",
       "Datetime                                                                    \n",
       "2023-01-09 14:30:00+00:00   15.822001   15.895000   15.141001   15.283999   \n",
       "2023-01-09 15:30:00+00:00   15.986780   16.056000   15.796550   15.823000   \n",
       "2023-01-09 16:30:00+00:00   15.987000   16.011999   15.910001   15.986000   \n",
       "2023-01-09 17:30:00+00:00   16.021000   16.033720   15.937281   15.987000   \n",
       "2023-01-09 18:30:00+00:00   15.968280   16.021000   15.778999   16.021000   \n",
       "...                               ...         ...         ...         ...   \n",
       "2025-01-07 16:30:00+00:00  141.429001  149.429993  141.119995  142.759995   \n",
       "2025-01-07 17:30:00+00:00  143.115005  143.449997  141.309998  141.429993   \n",
       "2025-01-07 18:30:00+00:00  141.640106  143.169998  141.399994  143.110001   \n",
       "2025-01-07 19:30:00+00:00  140.604996  141.660004  140.440002  141.645004   \n",
       "2025-01-07 20:30:00+00:00  140.119995  141.300003  140.009995  140.610001   \n",
       "\n",
       "Price                        Volume  \n",
       "Ticker                         NVDA  \n",
       "Datetime                             \n",
       "2023-01-09 14:30:00+00:00  14513789  \n",
       "2023-01-09 15:30:00+00:00   7655083  \n",
       "2023-01-09 16:30:00+00:00   5133055  \n",
       "2023-01-09 17:30:00+00:00   3970512  \n",
       "2023-01-09 18:30:00+00:00   5876413  \n",
       "...                             ...  \n",
       "2025-01-07 16:30:00+00:00  32583750  \n",
       "2025-01-07 17:30:00+00:00  23029395  \n",
       "2025-01-07 18:30:00+00:00  18605910  \n",
       "2025-01-07 19:30:00+00:00  24935062  \n",
       "2025-01-07 20:30:00+00:00  25410017  \n",
       "\n",
       "[3494 rows x 5 columns]"
      ]
     },
     "execution_count": 3,
     "metadata": {},
     "output_type": "execute_result"
    }
   ],
   "source": [
    "data"
   ]
  },
  {
   "cell_type": "code",
   "execution_count": 4,
   "id": "c355dc37",
   "metadata": {},
   "outputs": [
    {
     "name": "stdout",
     "output_type": "stream",
     "text": [
      "<class 'pandas.core.frame.DataFrame'>\n",
      "DatetimeIndex: 3494 entries, 2023-01-09 14:30:00+00:00 to 2025-01-07 20:30:00+00:00\n",
      "Data columns (total 5 columns):\n",
      " #   Column          Non-Null Count  Dtype  \n",
      "---  ------          --------------  -----  \n",
      " 0   (Close, NVDA)   3494 non-null   float64\n",
      " 1   (High, NVDA)    3494 non-null   float64\n",
      " 2   (Low, NVDA)     3494 non-null   float64\n",
      " 3   (Open, NVDA)    3494 non-null   float64\n",
      " 4   (Volume, NVDA)  3494 non-null   int64  \n",
      "dtypes: float64(4), int64(1)\n",
      "memory usage: 163.8 KB\n"
     ]
    }
   ],
   "source": [
    "data.info()"
   ]
  },
  {
   "cell_type": "code",
   "execution_count": 5,
   "id": "92fcc4a4",
   "metadata": {},
   "outputs": [
    {
     "data": {
      "image/png": "[encoded data removed]",
      "text/plain": [
       "<Figure size 640x480 with 1 Axes>"
      ]
     },
     "metadata": {},
     "output_type": "display_data"
    }
   ],
   "source": [
    "# Plotting the data (you can customize the plot here)\n",
    "plt.plot(data['Close'])\n",
    "plt.xlabel('Date')\n",
    "plt.ylabel('Closing Price (USD)')\n",
    "plt.title('TM Price (Past Month, 2-Minute Intervals)')\n",
    "plt.show()"
   ]
  },
  {
   "cell_type": "code",
   "execution_count": null,
   "id": "8e7abdfe",
   "metadata": {},
   "outputs": [],
   "source": []
  }
 ],
 "metadata": {
  "kernelspec": {
   "display_name": "Python 3",
   "language": "python",
   "name": "python3"
  },
  "language_info": {
   "codemirror_mode": {
    "name": "ipython",
    "version": 3
   },
   "file_extension": ".py",
   "mimetype": "text/x-python",
   "name": "python",
   "nbconvert_exporter": "python",
   "pygments_lexer": "ipython3",
   "version": "3.12.4"
  }
 },
 "nbformat": 4,
 "nbformat_minor": 5
}
